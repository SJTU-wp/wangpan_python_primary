{
 "cells": [
  {
   "cell_type": "code",
   "execution_count": null,
   "outputs": [],
   "source": [
    "import pandas as pd\n",
    "import numpy as np\n",
    "import matplotlib.pyplot as plt\n",
    "import seaborn as sns\n",
    "sns.set(style ='darkgrid', font_scale=1.5)\n",
    "plt.rcParams['font.sans-serif'] =['SimHei']\n",
    "plt.rcParams['axes.unicode_minus'] =False\n"
   ],
   "metadata": {
    "collapsed": false,
    "pycharm": {
     "name": "#%%\n"
    }
   }
  },
  {
   "cell_type": "markdown",
   "source": [
    "# 1、数据查看"
   ],
   "metadata": {
    "collapsed": false
   }
  },
  {
   "cell_type": "code",
   "execution_count": null,
   "outputs": [],
   "source": [
    "data_user = pd.read_csv('tianchi_mobile_recommend_train_user.csv',dtype = str)"
   ],
   "metadata": {
    "collapsed": false,
    "pycharm": {
     "name": "#%%\n"
    }
   }
  },
  {
   "cell_type": "code",
   "execution_count": null,
   "outputs": [],
   "source": [
    "#如电脑比较弱（4G内存，cpu比较弱） 在这里选前100万条数据即可\n",
    "data_user.info()"
   ],
   "metadata": {
    "collapsed": false,
    "pycharm": {
     "name": "#%%\n"
    }
   }
  },
  {
   "cell_type": "code",
   "execution_count": null,
   "outputs": [],
   "source": [
    "data_user.head()"
   ],
   "metadata": {
    "collapsed": false,
    "pycharm": {
     "name": "#%%\n"
    }
   }
  },
  {
   "cell_type": "markdown",
   "source": [
    "# 2 数据预处理"
   ],
   "metadata": {
    "collapsed": false
   }
  },
  {
   "cell_type": "code",
   "execution_count": null,
   "outputs": [],
   "source": [
    "#2.1 缺失值分析，apply默认对列进行操作，x代表一列\n",
    "data_user.apply(lambda x: sum(x.isnull())/len(x))  # 只有地理位置列有缺失值\n"
   ],
   "metadata": {
    "collapsed": false,
    "pycharm": {
     "name": "#%%\n"
    }
   }
  },
  {
   "cell_type": "code",
   "execution_count": null,
   "outputs": [],
   "source": [
    "data_user.apply(lambda x: sum(x.isnull()))"
   ],
   "metadata": {
    "collapsed": false,
    "pycharm": {
     "name": "#%%\n"
    }
   }
  },
  {
   "cell_type": "code",
   "execution_count": null,
   "outputs": [],
   "source": [
    "data_user.shape"
   ],
   "metadata": {
    "collapsed": false,
    "pycharm": {
     "name": "#%%\n"
    }
   }
  },
  {
   "cell_type": "code",
   "execution_count": null,
   "outputs": [],
   "source": [
    "#把日期和小时分别取出来\n",
    "data_user['date'] = data_user['time'].str[0:10]\n",
    "data_user['hour'] = data_user['time'].str[11:]  #如果发生溢出就分开执行"
   ],
   "metadata": {
    "collapsed": false,
    "pycharm": {
     "name": "#%%\n"
    }
   }
  },
  {
   "cell_type": "code",
   "execution_count": null,
   "outputs": [],
   "source": [
    "data_user.dtypes"
   ],
   "metadata": {
    "collapsed": false,
    "pycharm": {
     "name": "#%%\n"
    }
   }
  },
  {
   "cell_type": "code",
   "execution_count": null,
   "outputs": [],
   "source": [
    "data_user.head()"
   ],
   "metadata": {
    "collapsed": false,
    "pycharm": {
     "name": "#%%\n"
    }
   }
  },
  {
   "cell_type": "code",
   "execution_count": null,
   "outputs": [],
   "source": [
    "data_user['date'] = pd.to_datetime(data_user['date'])\n",
    "data_user['time']= pd.to_datetime(data_user['time'])\n",
    "data_user['hour'] = data_user['hour'].astype(int)"
   ],
   "metadata": {
    "collapsed": false,
    "pycharm": {
     "name": "#%%\n"
    }
   }
  },
  {
   "cell_type": "code",
   "execution_count": null,
   "outputs": [],
   "source": [
    "data_user.dtypes"
   ],
   "metadata": {
    "collapsed": false,
    "pycharm": {
     "name": "#%%\n"
    }
   }
  },
  {
   "cell_type": "code",
   "execution_count": null,
   "outputs": [],
   "source": [
    "data_user.head()"
   ],
   "metadata": {
    "collapsed": false,
    "pycharm": {
     "name": "#%%\n"
    }
   }
  },
  {
   "cell_type": "code",
   "execution_count": null,
   "outputs": [],
   "source": [
    "#对数据进行一下排序\n",
    "data_user.sort_values(by ='time',ascending=True,inplace = True)  # 升序"
   ],
   "metadata": {
    "collapsed": false,
    "pycharm": {
     "name": "#%%\n"
    }
   }
  },
  {
   "cell_type": "code",
   "execution_count": null,
   "outputs": [],
   "source": [
    "data_user.head()"
   ],
   "metadata": {
    "collapsed": false,
    "pycharm": {
     "name": "#%%\n"
    }
   }
  },
  {
   "cell_type": "code",
   "execution_count": null,
   "outputs": [],
   "source": [
    "data_user.tail()"
   ],
   "metadata": {
    "collapsed": false,
    "pycharm": {
     "name": "#%%\n"
    }
   }
  },
  {
   "cell_type": "code",
   "execution_count": null,
   "outputs": [],
   "source": [
    "#丢弃原有索引，按位置重新生成索引，在原有df生效\n",
    "data_user.reset_index(drop =True,inplace =True)"
   ],
   "metadata": {
    "collapsed": false,
    "pycharm": {
     "name": "#%%\n"
    }
   }
  },
  {
   "cell_type": "code",
   "execution_count": null,
   "outputs": [],
   "source": [
    "data_user.head()"
   ],
   "metadata": {
    "collapsed": false,
    "pycharm": {
     "name": "#%%\n"
    }
   }
  },
  {
   "cell_type": "code",
   "execution_count": null,
   "outputs": [],
   "source": [
    "# top是出现最多次数的那个str值，freq是top内的值出现的次数\n",
    "data_user.describe(include = ['object'])  #第二行可以看出行为类型，用户位置类别，商品品类"
   ],
   "metadata": {
    "collapsed": false,
    "pycharm": {
     "name": "#%%\n"
    }
   }
  },
  {
   "cell_type": "code",
   "execution_count": null,
   "outputs": [],
   "source": [
    "data_user[data_user['user_geohash']=='94ek6ke']"
   ],
   "metadata": {
    "collapsed": false,
    "pycharm": {
     "name": "#%%\n"
    }
   }
  },
  {
   "cell_type": "code",
   "execution_count": null,
   "outputs": [],
   "source": [
    "data_user.describe(include = 'all')"
   ],
   "metadata": {
    "collapsed": false,
    "pycharm": {
     "name": "#%%\n"
    }
   }
  },
  {
   "cell_type": "markdown",
   "source": [
    "# 构建模型"
   ],
   "metadata": {
    "collapsed": false
   }
  },
  {
   "cell_type": "code",
   "execution_count": null,
   "outputs": [],
   "source": [
    "pv_daily = data_user.groupby('date').count()['user_id']"
   ],
   "metadata": {
    "collapsed": false,
    "pycharm": {
     "name": "#%%\n"
    }
   }
  },
  {
   "cell_type": "code",
   "execution_count": null,
   "outputs": [],
   "source": [
    "#得到了每天的pv（日活）\n",
    "pv_daily.head()"
   ],
   "metadata": {
    "collapsed": false,
    "pycharm": {
     "name": "#%%\n"
    }
   }
  },
  {
   "cell_type": "code",
   "execution_count": null,
   "outputs": [],
   "source": [
    "#如果不小心把名字弄错了，不需要重新读取数据，直接改列名\n",
    "#改为user_id1的目的是为了下面命名为pv,uv做准备\n",
    "pv_daily = pv_daily.rename('user_id1') #注意这里一定要写赋值"
   ],
   "metadata": {
    "collapsed": false,
    "pycharm": {
     "name": "#%%\n"
    }
   }
  },
  {
   "cell_type": "code",
   "execution_count": null,
   "outputs": [],
   "source": [
    "# #显示所有列\n",
    "# pd.set_option('display.max_columns', None)\n",
    "# #显示所有行\n",
    "# pd.set_option('display.max_rows', None)\n",
    "# #设置value的显示长度为100，默认为50\n",
    "# pd.set_option('max_colwidth',100)"
   ],
   "metadata": {
    "collapsed": false,
    "pycharm": {
     "name": "#%%\n"
    }
   }
  },
  {
   "cell_type": "code",
   "execution_count": null,
   "outputs": [],
   "source": [
    "data_user.groupby('date')['user_id'].head(3)"
   ],
   "metadata": {
    "collapsed": false,
    "pycharm": {
     "name": "#%%\n"
    }
   }
  },
  {
   "cell_type": "code",
   "execution_count": null,
   "outputs": [],
   "source": [
    "#如何计算uv，针对用户访问进行去重，再计算数目\n",
    "uv_daily = data_user.groupby('date')['user_id'].apply(lambda x:x.drop_duplicates().count())\n"
   ],
   "metadata": {
    "collapsed": false,
    "pycharm": {
     "name": "#%%\n"
    }
   }
  },
  {
   "cell_type": "code",
   "execution_count": null,
   "outputs": [],
   "source": [
    "uv_daily.head()"
   ],
   "metadata": {
    "collapsed": false,
    "pycharm": {
     "name": "#%%\n"
    }
   }
  },
  {
   "cell_type": "code",
   "execution_count": null,
   "outputs": [],
   "source": [
    "pv_uv_daily = pd.concat([pv_daily, uv_daily],axis=1)\n"
   ],
   "metadata": {
    "collapsed": false,
    "pycharm": {
     "name": "#%%\n"
    }
   }
  },
  {
   "cell_type": "code",
   "execution_count": null,
   "outputs": [],
   "source": [
    "pv_uv_daily.head()"
   ],
   "metadata": {
    "collapsed": false,
    "pycharm": {
     "name": "#%%\n"
    }
   }
  },
  {
   "cell_type": "code",
   "execution_count": null,
   "outputs": [],
   "source": [
    "pv_uv_daily.rename(columns={'user_id1':'pv','user_id':'uv'},inplace =True)\n"
   ],
   "metadata": {
    "collapsed": false,
    "pycharm": {
     "name": "#%%\n"
    }
   }
  },
  {
   "cell_type": "code",
   "execution_count": null,
   "outputs": [],
   "source": [
    "pv_uv_daily.head()"
   ],
   "metadata": {
    "collapsed": false,
    "pycharm": {
     "name": "#%%\n"
    }
   }
  },
  {
   "cell_type": "code",
   "execution_count": null,
   "outputs": [],
   "source": [
    "pv_uv_daily.head(5).to_csv('pv_uv.csv')"
   ],
   "metadata": {
    "collapsed": false,
    "pycharm": {
     "name": "#%%\n"
    }
   }
  },
  {
   "cell_type": "code",
   "execution_count": null,
   "outputs": [],
   "source": [
    "# pv_uv_daily.head(5).to_excel('pv_uv.xls')"
   ],
   "metadata": {
    "collapsed": false,
    "pycharm": {
     "name": "#%%\n"
    }
   }
  },
  {
   "cell_type": "code",
   "execution_count": null,
   "outputs": [],
   "source": [
    "pv_uv_daily.corr(method = 'spearman')"
   ],
   "metadata": {
    "collapsed": false,
    "pycharm": {
     "name": "#%%\n"
    }
   }
  },
  {
   "cell_type": "code",
   "execution_count": null,
   "outputs": [],
   "source": [
    "pv_uv_daily.corr(method = 'pearson')  #皮尔逊相关系数,到推荐那里讲"
   ],
   "metadata": {
    "collapsed": false,
    "pycharm": {
     "name": "#%%\n"
    }
   }
  },
  {
   "cell_type": "code",
   "execution_count": null,
   "outputs": [],
   "source": [
    "#上面说明每天的访问量和访问用户是正相关的关系"
   ],
   "metadata": {
    "collapsed": false,
    "pycharm": {
     "name": "#%%\n"
    }
   }
  },
  {
   "cell_type": "code",
   "execution_count": null,
   "outputs": [],
   "source": [
    "pv_daily.head(100)"
   ],
   "metadata": {
    "collapsed": false,
    "pycharm": {
     "name": "#%%\n"
    }
   }
  },
  {
   "cell_type": "code",
   "execution_count": null,
   "outputs": [],
   "source": [
    "#默认显示一个月的区别\n",
    "plt.figure(figsize=(16,9))\n",
    "plt.subplot(211)  #等价于2,1,2，是2行1列图，这里是第一个图\n",
    "plt.plot(pv_daily, color='red')  #pv_daily是一个series，\n",
    "plt.title('每天访问量')\n",
    "plt.subplot(212)\n",
    "plt.plot(uv_daily,color='green')\n",
    "plt.title('每天访问用户数')\n",
    "plt.suptitle('UV和PV变化趋势')\n",
    "plt.show()\n"
   ],
   "metadata": {
    "collapsed": false,
    "pycharm": {
     "name": "#%%\n"
    }
   }
  },
  {
   "cell_type": "code",
   "execution_count": null,
   "outputs": [],
   "source": [
    "#结论：上面两幅图可以发现双12达到峰值"
   ],
   "metadata": {
    "collapsed": false,
    "pycharm": {
     "name": "#%%\n"
    }
   }
  },
  {
   "cell_type": "code",
   "execution_count": null,
   "outputs": [],
   "source": [
    "#小时的pv\n",
    "pv_daily = data_user.groupby('hour').count()['user_id']"
   ],
   "metadata": {
    "collapsed": false,
    "pycharm": {
     "name": "#%%\n"
    }
   }
  },
  {
   "cell_type": "code",
   "execution_count": null,
   "outputs": [],
   "source": [
    "pv_daily.head(30)"
   ],
   "metadata": {
    "collapsed": false,
    "pycharm": {
     "name": "#%%\n"
    }
   }
  },
  {
   "cell_type": "code",
   "execution_count": null,
   "outputs": [],
   "source": [
    "#小时的uv\n",
    "uv_daily = data_user.groupby('hour')['user_id'].apply(lambda x:x.drop_duplicates().count())"
   ],
   "metadata": {
    "collapsed": false,
    "pycharm": {
     "name": "#%%\n"
    }
   }
  },
  {
   "cell_type": "code",
   "execution_count": null,
   "outputs": [],
   "source": [
    "uv_daily.head(30)"
   ],
   "metadata": {
    "collapsed": false,
    "pycharm": {
     "name": "#%%\n"
    }
   }
  },
  {
   "cell_type": "code",
   "execution_count": null,
   "outputs": [],
   "source": [
    "pv_uv_daily = pd.concat([pv_daily, uv_daily],axis=1)"
   ],
   "metadata": {
    "collapsed": false,
    "pycharm": {
     "name": "#%%\n"
    }
   }
  },
  {
   "cell_type": "code",
   "execution_count": null,
   "outputs": [],
   "source": [
    "pv_uv_daily.columns=['pv','uv']"
   ],
   "metadata": {
    "collapsed": false,
    "pycharm": {
     "name": "#%%\n"
    }
   }
  },
  {
   "cell_type": "code",
   "execution_count": null,
   "outputs": [],
   "source": [
    "pv_uv_daily.head()"
   ],
   "metadata": {
    "collapsed": false,
    "pycharm": {
     "name": "#%%\n"
    }
   }
  },
  {
   "cell_type": "code",
   "execution_count": null,
   "outputs": [],
   "source": [
    "pv_uv_daily.corr(method = 'spearman')"
   ],
   "metadata": {
    "collapsed": false,
    "pycharm": {
     "name": "#%%\n"
    }
   }
  },
  {
   "cell_type": "code",
   "execution_count": null,
   "outputs": [],
   "source": [
    "pv_uv_daily.corr(method = 'pearson')  #皮尔逊相关系数"
   ],
   "metadata": {
    "collapsed": false,
    "pycharm": {
     "name": "#%%\n"
    }
   }
  },
  {
   "cell_type": "code",
   "execution_count": null,
   "outputs": [],
   "source": [
    "plt.figure(figsize=(16,9))\n",
    "pv_uv_daily['pv'].plot(color= 'steelblue', label ='每个小时访问量')\n",
    "plt.legend(loc ='upper center')\n",
    "plt.ylabel('访问量')\n",
    "pv_uv_daily['uv'].plot(color= 'red', label='每个小时不同用户访问量',secondary_y =True)\n",
    "plt.ylabel('访问用户数')\n",
    "plt.xticks(range(0,24),pv_uv_daily.index)\n",
    "plt.legend(loc ='upper center')\n",
    "plt.grid(True)\n",
    "plt.show()"
   ],
   "metadata": {
    "collapsed": false,
    "pycharm": {
     "name": "#%%\n"
    }
   }
  },
  {
   "cell_type": "markdown",
   "source": [
    "# 2 用户消费行为分析"
   ],
   "metadata": {
    "collapsed": false
   }
  },
  {
   "cell_type": "code",
   "execution_count": null,
   "outputs": [],
   "source": [
    "#先看下上面的数据\n",
    "pv_detail = pd.pivot_table(columns ='behavior_type',index ='hour' , data = data_user,values = 'user_id',aggfunc=np.size)"
   ],
   "metadata": {
    "collapsed": false,
    "pycharm": {
     "name": "#%%\n"
    }
   }
  },
  {
   "cell_type": "code",
   "execution_count": null,
   "outputs": [],
   "source": [
    "pv_detail #点击、收藏、加入购物车和支付 的比例"
   ],
   "metadata": {
    "collapsed": false,
    "pycharm": {
     "name": "#%%\n"
    }
   }
  },
  {
   "cell_type": "code",
   "execution_count": null,
   "outputs": [],
   "source": [
    "plt.figure(figsize=(16,9))\n",
    "sns.lineplot(data = pv_detail)  #可以实现一图多线\n",
    "plt.show()"
   ],
   "metadata": {
    "collapsed": false,
    "pycharm": {
     "name": "#%%\n"
    }
   }
  },
  {
   "cell_type": "code",
   "execution_count": null,
   "outputs": [],
   "source": [
    "#因为点击量很高，所以应该去把收藏，购物车，支付单独画一个图\n",
    "#图中显示的图例名字，就是列名\n",
    "plt.figure(figsize=(16,9))\n",
    "sns.lineplot(data = pv_detail.iloc[:,1:])\n",
    "plt.show()"
   ],
   "metadata": {
    "collapsed": false,
    "pycharm": {
     "name": "#%%\n"
    }
   }
  },
  {
   "cell_type": "code",
   "execution_count": null,
   "outputs": [],
   "source": [
    "#统计这一个月内用户的支付行为次数\n",
    "# data_user_buy = data_user[data_user.behavior_type =='4'].groupby('user_id').count()\n",
    "data_user_buy = data_user[data_user.behavior_type =='4'].groupby('user_id').size()"
   ],
   "metadata": {
    "collapsed": false,
    "pycharm": {
     "name": "#%%\n"
    }
   }
  },
  {
   "cell_type": "code",
   "execution_count": null,
   "outputs": [],
   "source": [
    "data_user_buy.head()"
   ],
   "metadata": {
    "collapsed": false,
    "pycharm": {
     "name": "#%%\n"
    }
   }
  },
  {
   "cell_type": "code",
   "execution_count": null,
   "outputs": [],
   "source": [
    "data_user_buy.describe()  #可以知道大部分用户一个月的购买次数是8次（中值）"
   ],
   "metadata": {
    "collapsed": false,
    "pycharm": {
     "name": "#%%\n"
    }
   }
  },
  {
   "cell_type": "code",
   "execution_count": null,
   "outputs": [],
   "source": [
    "data_user_buy_more=data_user_buy[data_user_buy<70]\n",
    "print(len(data_user_buy_more)/len(data_user_buy))\n",
    "plt.hist(x =data_user_buy_more, bins=30)\n",
    "plt.show()"
   ],
   "metadata": {
    "collapsed": false,
    "pycharm": {
     "name": "#%%\n"
    }
   }
  },
  {
   "cell_type": "code",
   "execution_count": null,
   "outputs": [],
   "source": [
    "#日ARPPU"
   ],
   "metadata": {
    "collapsed": false,
    "pycharm": {
     "name": "#%%\n"
    }
   }
  },
  {
   "cell_type": "code",
   "execution_count": null,
   "outputs": [],
   "source": [
    "#查看每个用户，每天的支付次数\n",
    "data_user_buy1= data_user[data_user.behavior_type =='4' ].groupby(['date' , 'user_id'])"
   ],
   "metadata": {
    "collapsed": false,
    "pycharm": {
     "name": "#%%\n"
    }
   }
  },
  {
   "cell_type": "code",
   "execution_count": null,
   "outputs": [],
   "source": [
    "data_user_buy1.count()"
   ],
   "metadata": {
    "collapsed": false,
    "pycharm": {
     "name": "#%%\n"
    }
   }
  },
  {
   "cell_type": "code",
   "execution_count": null,
   "outputs": [],
   "source": [
    "data_user_buy1.head(3)  # 承接318行，理解先分组，再聚合"
   ],
   "metadata": {
    "collapsed": false,
    "pycharm": {
     "name": "#%%\n"
    }
   }
  },
  {
   "cell_type": "code",
   "execution_count": null,
   "outputs": [],
   "source": [
    "#reset_index原有的索引列就会变为数据列\n",
    "data_user_buy1.count()['behavior_type'].reset_index().rename(columns={'behavior_type':' total'})  #按照日期不同用户的购买行为次数\n",
    "data_user_buy1"
   ],
   "metadata": {
    "collapsed": false,
    "pycharm": {
     "name": "#%%\n"
    }
   }
  },
  {
   "cell_type": "code",
   "execution_count": null,
   "outputs": [],
   "source": [
    "#结合上面两步\n",
    "data_user_buy1= data_user[data_user.behavior_type =='4' ].groupby(['date' , 'user_id']).count()['behavior_type'].reset_index().rename(columns={'behavior_type':'total'})"
   ],
   "metadata": {
    "collapsed": false,
    "pycharm": {
     "name": "#%%\n"
    }
   }
  },
  {
   "cell_type": "code",
   "execution_count": null,
   "outputs": [],
   "source": [
    "data_user_buy1"
   ],
   "metadata": {
    "collapsed": false,
    "pycharm": {
     "name": "#%%\n"
    }
   }
  },
  {
   "cell_type": "code",
   "execution_count": null,
   "outputs": [],
   "source": [
    "data_user_buy1.head(10)"
   ],
   "metadata": {
    "collapsed": false,
    "pycharm": {
     "name": "#%%\n"
    }
   }
  },
  {
   "cell_type": "code",
   "execution_count": null,
   "outputs": [],
   "source": [
    "#每天用户的平均支付次数\n",
    "data_user_buy2=data_user_buy1.groupby('date').sum()['total']/ data_user_buy1.groupby('date').count()['total']"
   ],
   "metadata": {
    "collapsed": false,
    "pycharm": {
     "name": "#%%\n"
    }
   }
  },
  {
   "cell_type": "code",
   "execution_count": null,
   "outputs": [],
   "source": [
    "#每天用户的平均支付次数\n",
    "data_user_buy2"
   ],
   "metadata": {
    "collapsed": false,
    "pycharm": {
     "name": "#%%\n"
    }
   }
  },
  {
   "cell_type": "code",
   "execution_count": null,
   "outputs": [],
   "source": [
    "data_user_buy2.plot()  #因为数据是11月18号到12月18号的\n",
    "plt.show()"
   ],
   "metadata": {
    "collapsed": false,
    "pycharm": {
     "name": "#%%\n"
    }
   }
  },
  {
   "cell_type": "code",
   "execution_count": null,
   "outputs": [],
   "source": [
    "data_user_buy2.describe()   #发现每天有支付行为用户的平均购物次数是2.3次"
   ],
   "metadata": {
    "collapsed": false,
    "pycharm": {
     "name": "#%%\n"
    }
   }
  },
  {
   "cell_type": "code",
   "execution_count": null,
   "outputs": [],
   "source": [
    "#日ARPU"
   ],
   "metadata": {
    "collapsed": false,
    "pycharm": {
     "name": "#%%\n"
    }
   }
  },
  {
   "cell_type": "code",
   "execution_count": null,
   "outputs": [],
   "source": [
    "data_user['operation']=1  #增加一列操作\n",
    "data_user_buy2 = data_user.groupby(['date' , 'user_id' , 'behavior_type'])['operation'].count()\n"
   ],
   "metadata": {
    "collapsed": false,
    "pycharm": {
     "name": "#%%\n"
    }
   }
  },
  {
   "cell_type": "code",
   "execution_count": null,
   "outputs": [],
   "source": [
    "data_user_buy2"
   ],
   "metadata": {
    "collapsed": false,
    "pycharm": {
     "name": "#%%\n"
    }
   }
  },
  {
   "cell_type": "code",
   "execution_count": null,
   "outputs": [],
   "source": [
    "data_user_buy2=data_user_buy2.reset_index().rename(columns ={'operation':'total'})"
   ],
   "metadata": {
    "collapsed": false,
    "pycharm": {
     "name": "#%%\n"
    }
   }
  },
  {
   "cell_type": "code",
   "execution_count": null,
   "outputs": [],
   "source": [
    "data_user_buy2"
   ],
   "metadata": {
    "collapsed": false,
    "pycharm": {
     "name": "#%%\n"
    }
   }
  },
  {
   "cell_type": "code",
   "execution_count": null,
   "outputs": [],
   "source": [
    "#把上面两步结合到一起\n",
    "data_user_buy2 = data_user.groupby(['date' , 'user_id' , 'behavior_type'])['operation'].count().reset_index().rename(columns ={'operation':'total'})"
   ],
   "metadata": {
    "collapsed": false,
    "pycharm": {
     "name": "#%%\n"
    }
   }
  },
  {
   "cell_type": "code",
   "execution_count": null,
   "outputs": [],
   "source": [
    "data_user_buy2"
   ],
   "metadata": {
    "collapsed": false,
    "pycharm": {
     "name": "#%%\n"
    }
   }
  },
  {
   "cell_type": "code",
   "execution_count": null,
   "outputs": [],
   "source": [
    "#每天的活跃用户消费次数，假设是ARPU\n",
    "data_user_buy2.groupby('date').apply(lambda x: x[x.behavior_type =='4' ].total.sum()/len(x.user_id.unique()))"
   ],
   "metadata": {
    "collapsed": false,
    "pycharm": {
     "name": "#%%\n"
    }
   }
  },
  {
   "cell_type": "code",
   "execution_count": null,
   "outputs": [],
   "source": [
    "#对ARPU进行画图\n",
    "data_user_buy2.groupby('date').apply(lambda x: x[x.behavior_type =='4' ].total.sum()/len(x.user_id.unique())).plot()"
   ],
   "metadata": {
    "collapsed": false,
    "pycharm": {
     "name": "#%%\n"
    }
   }
  },
  {
   "cell_type": "code",
   "execution_count": null,
   "outputs": [],
   "source": [
    "data_user_buy2"
   ],
   "metadata": {
    "collapsed": false,
    "pycharm": {
     "name": "#%%\n"
    }
   }
  },
  {
   "cell_type": "code",
   "execution_count": null,
   "outputs": [],
   "source": [
    "#结论：上图可以看出用户平均每天购物不到1次，双12的时候达到快2次"
   ],
   "metadata": {
    "collapsed": false,
    "pycharm": {
     "name": "#%%\n"
    }
   }
  },
  {
   "cell_type": "code",
   "execution_count": null,
   "outputs": [],
   "source": [
    "data_user_buy2"
   ],
   "metadata": {
    "collapsed": false,
    "pycharm": {
     "name": "#%%\n"
    }
   }
  },
  {
   "cell_type": "code",
   "execution_count": null,
   "outputs": [],
   "source": [
    "#某一天有多少人发生了购买行为（一天某个人购买多次，只记一次）\n",
    "data_user_buy2.groupby('date').apply(lambda x: x[x.behavior_type =='4' ].total.count())"
   ],
   "metadata": {
    "collapsed": false,
    "pycharm": {
     "name": "#%%\n"
    }
   }
  },
  {
   "cell_type": "code",
   "execution_count": null,
   "outputs": [],
   "source": [
    "data_user_buy2.groupby('date').apply(lambda x:len(x.user_id.unique()))  # 所有行为用户，不仅仅是支付行为"
   ],
   "metadata": {
    "collapsed": false,
    "pycharm": {
     "name": "#%%\n"
    }
   }
  },
  {
   "cell_type": "code",
   "execution_count": null,
   "outputs": [],
   "source": [
    "#每天的购买人数的比例,付费率\n",
    "data_user_buy2.groupby('date').apply(lambda x: x[x.behavior_type =='4' ].total.count()/len(x.user_id.unique()))"
   ],
   "metadata": {
    "collapsed": false,
    "pycharm": {
     "name": "#%%\n"
    }
   }
  },
  {
   "cell_type": "code",
   "execution_count": null,
   "outputs": [],
   "source": [
    "#结论：可以看出平时只有20%的用户有消费行为，但是双12有50%的用户有消费行为"
   ],
   "metadata": {
    "collapsed": false,
    "pycharm": {
     "name": "#%%\n"
    }
   }
  },
  {
   "cell_type": "code",
   "execution_count": null,
   "outputs": [],
   "source": [
    "#画图展示，df自带的plot\n",
    "data_user_buy2.groupby('date').apply(lambda x: x[x.behavior_type =='4' ].total.count()/len(x.user_id.unique())).plot()"
   ],
   "metadata": {
    "collapsed": false,
    "pycharm": {
     "name": "#%%\n"
    }
   }
  },
  {
   "cell_type": "code",
   "execution_count": null,
   "outputs": [],
   "source": [
    "data_user_buy3 = data_user[data_user['behavior_type'] == '4'].groupby(['user_id' , 'date', 'hour'])['operation'].sum()\n",
    "\n",
    "data_user_buy3"
   ],
   "metadata": {
    "collapsed": false,
    "pycharm": {
     "name": "#%%\n"
    }
   }
  },
  {
   "cell_type": "code",
   "execution_count": 78,
   "outputs": [
    {
     "name": "stderr",
     "output_type": "stream",
     "text": [
      "c:\\users\\waitp\\appdata\\local\\programs\\python\\python39\\lib\\site-packages\\seaborn\\distributions.py:2619: FutureWarning: `distplot` is a deprecated function and will be removed in a future version. Please adapt your code to use either `displot` (a figure-level function with similar flexibility) or `histplot` (an axes-level function for histograms).\n",
      "  warnings.warn(msg, FutureWarning)\n"
     ]
    },
    {
     "data": {
      "text/plain": "<AxesSubplot:xlabel='operation', ylabel='Density'>"
     },
     "execution_count": 78,
     "metadata": {},
     "output_type": "execute_result"
    },
    {
     "data": {
      "text/plain": "<Figure size 432x288 with 1 Axes>",
      "image/png": "[encoded data removed]"
     },
     "metadata": {},
     "output_type": "display_data"
    }
   ],
   "source": [
    "#在某个小时内购买次数的一个分布\n",
    "data_user_buy4=data_user_buy3[data_user_buy3<=20]\n",
    "sns.distplot(data_user_buy4)\n"
   ],
   "metadata": {
    "collapsed": false,
    "pycharm": {
     "name": "#%%\n"
    }
   }
  },
  {
   "cell_type": "code",
   "execution_count": null,
   "outputs": [],
   "source": [
    "#上面分析了用户购买都是在哪个时间段发生的，看0-23"
   ],
   "metadata": {
    "collapsed": false,
    "pycharm": {
     "name": "#%%\n"
    }
   }
  },
  {
   "cell_type": "markdown",
   "source": [
    "# 3 复购行为分析"
   ],
   "metadata": {
    "collapsed": false
   }
  },
  {
   "cell_type": "code",
   "execution_count": 79,
   "outputs": [],
   "source": [
    "#groupby user，对日期进行去重，同一天购买不算复购\n",
    "data_rebuy = data_user[data_user.behavior_type =='4'].groupby('user_id')['date'].apply(lambda x: len(x. unique()))"
   ],
   "metadata": {
    "collapsed": false,
    "pycharm": {
     "name": "#%%\n"
    }
   }
  },
  {
   "cell_type": "code",
   "execution_count": 80,
   "outputs": [
    {
     "name": "stderr",
     "output_type": "stream",
     "text": [
      "C:\\Users\\waitp\\AppData\\Local\\Temp\\ipykernel_11052\\59081353.py:2: UserWarning: Boolean Series key will be reindexed to match DataFrame index.\n",
      "  data_user[data_user.behavior_type =='4'][data_user['user_id']=='100011562'].groupby('date').count()\n"
     ]
    },
    {
     "data": {
      "text/plain": "            user_id  item_id  behavior_type  user_geohash  item_category  \\\ndate                                                                       \n2014-12-12        1        1              1             0              1   \n2014-12-14        1        1              1             0              1   \n2014-12-16        1        1              1             0              1   \n\n            time  hour  operation  \ndate                               \n2014-12-12     1     1          1  \n2014-12-14     1     1          1  \n2014-12-16     1     1          1  ",
      "text/html": "<div>\n<style scoped>\n    .dataframe tbody tr th:only-of-type {\n        vertical-align: middle;\n    }\n\n    .dataframe tbody tr th {\n        vertical-align: top;\n    }\n\n    .dataframe thead th {\n        text-align: right;\n    }\n</style>\n<table border=\"1\" class=\"dataframe\">\n  <thead>\n    <tr style=\"text-align: right;\">\n      <th></th>\n      <th>user_id</th>\n      <th>item_id</th>\n      <th>behavior_type</th>\n      <th>user_geohash</th>\n      <th>item_category</th>\n      <th>time</th>\n      <th>hour</th>\n      <th>operation</th>\n    </tr>\n    <tr>\n      <th>date</th>\n      <th></th>\n      <th></th>\n      <th></th>\n      <th></th>\n      <th></th>\n      <th></th>\n      <th></th>\n      <th></th>\n    </tr>\n  </thead>\n  <tbody>\n    <tr>\n      <th>2014-12-12</th>\n      <td>1</td>\n      <td>1</td>\n      <td>1</td>\n      <td>0</td>\n      <td>1</td>\n      <td>1</td>\n      <td>1</td>\n      <td>1</td>\n    </tr>\n    <tr>\n      <th>2014-12-14</th>\n      <td>1</td>\n      <td>1</td>\n      <td>1</td>\n      <td>0</td>\n      <td>1</td>\n      <td>1</td>\n      <td>1</td>\n      <td>1</td>\n    </tr>\n    <tr>\n      <th>2014-12-16</th>\n      <td>1</td>\n      <td>1</td>\n      <td>1</td>\n      <td>0</td>\n      <td>1</td>\n      <td>1</td>\n      <td>1</td>\n      <td>1</td>\n    </tr>\n  </tbody>\n</table>\n</div>"
     },
     "execution_count": 80,
     "metadata": {},
     "output_type": "execute_result"
    }
   ],
   "source": [
    "#辅助理解，单独把某个用户拿出来来看，判断代码是否正确\n",
    "data_user[data_user.behavior_type =='4'][data_user['user_id']=='100011562'].groupby('date').count()"
   ],
   "metadata": {
    "collapsed": false,
    "pycharm": {
     "name": "#%%\n"
    }
   }
  },
  {
   "cell_type": "code",
   "execution_count": 81,
   "outputs": [
    {
     "data": {
      "text/plain": "user_id\n100001878    15\n100011562     3\n100012968    11\n100014060    12\n100024529     9\n             ..\n99960313      5\n9996155       3\n99963140      8\n99968428      9\n99989881     13\nName: date, Length: 8886, dtype: int64"
     },
     "execution_count": 81,
     "metadata": {},
     "output_type": "execute_result"
    }
   ],
   "source": [
    "data_rebuy  #知道每个用户购买了多少次"
   ],
   "metadata": {
    "collapsed": false,
    "pycharm": {
     "name": "#%%\n"
    }
   }
  },
  {
   "cell_type": "code",
   "execution_count": 84,
   "outputs": [
    {
     "data": {
      "text/plain": "0.8717083051991897"
     },
     "execution_count": 84,
     "metadata": {},
     "output_type": "execute_result"
    }
   ],
   "source": [
    "#只要在30天内购买次数大于等于2次，就是复购\n",
    "data_rebuy[data_rebuy>=2].count()/data_rebuy.count()  #复购行为达到87%\n"
   ],
   "metadata": {
    "collapsed": false,
    "pycharm": {
     "name": "#%%\n"
    }
   }
  },
  {
   "cell_type": "markdown",
   "source": [
    "## 3.1 接下来看复购时间间隔"
   ],
   "metadata": {
    "collapsed": false
   }
  },
  {
   "cell_type": "code",
   "execution_count": 87,
   "outputs": [
    {
     "name": "stdout",
     "output_type": "stream",
     "text": [
      "<class 'pandas.core.frame.DataFrame'>\n"
     ]
    }
   ],
   "source": [
    "# data_user.head()\n",
    "print(type(data_user))"
   ],
   "metadata": {
    "collapsed": false,
    "pycharm": {
     "name": "#%%\n"
    }
   }
  },
  {
   "cell_type": "code",
   "execution_count": 111,
   "outputs": [],
   "source": [
    "#显示所有行\n",
    "# pd.set_option('display.max_rows', None)\n",
    "pd.set_option('display.max_rows', 50)\n",
    "pd.set_option('display.min_rows', 30)\n"
   ],
   "metadata": {
    "collapsed": false,
    "pycharm": {
     "name": "#%%\n"
    }
   }
  },
  {
   "cell_type": "code",
   "execution_count": 112,
   "outputs": [
    {
     "data": {
      "text/plain": "user_id            \n100001878  270407     2014-11-18\n           2439076    2014-11-24\n           2439090    2014-11-24\n           2440428    2014-11-24\n           2660355    2014-11-25\n           2672617    2014-11-25\n           3076142    2014-11-26\n           3178225    2014-11-26\n           3075867    2014-11-26\n           3627084    2014-11-27\n           4041992    2014-11-29\n           4121098    2014-11-29\n           5844240    2014-12-03\n           6034745    2014-12-04\n           5990081    2014-12-04\n                         ...    \n99989881   8914       2014-11-18\n           10983      2014-11-18\n           809671     2014-11-20\n           2418573    2014-11-24\n           2669776    2014-11-25\n           3960969    2014-11-28\n           4742925    2014-11-30\n           5381458    2014-12-02\n           6292411    2014-12-04\n           6372246    2014-12-05\n           8203371    2014-12-09\n           9248497    2014-12-12\n           9249028    2014-12-12\n           10601909   2014-12-14\n           11085567   2014-12-15\nName: date, Length: 120205, dtype: datetime64[ns]"
     },
     "execution_count": 112,
     "metadata": {},
     "output_type": "execute_result"
    }
   ],
   "source": [
    "data_day_buy = data_user[data_user.behavior_type == '4'].groupby('user_id').date.apply(lambda x:x.sort_values())\n",
    "data_day_buy"
   ],
   "metadata": {
    "collapsed": false,
    "pycharm": {
     "name": "#%%\n"
    }
   }
  },
  {
   "cell_type": "code",
   "execution_count": 160,
   "outputs": [
    {
     "data": {
      "text/plain": "user_id                    100001878\nitem_id                     90840123\nbehavior_type                      4\nuser_geohash                 97lbtnd\nitem_category                  11497\ntime             2014-11-18 20:00:00\ndate             2014-11-18 00:00:00\nhour                              20\noperation                          1\nName: 270407, dtype: object"
     },
     "execution_count": 160,
     "metadata": {},
     "output_type": "execute_result"
    }
   ],
   "source": [
    "data_user.iloc[270407]"
   ],
   "metadata": {
    "collapsed": false,
    "pycharm": {
     "name": "#%%\n"
    }
   }
  },
  {
   "cell_type": "code",
   "execution_count": 115,
   "outputs": [],
   "source": [
    "#diff是将下一行的数据，减去上一行，就得到了复购时间间隔，是days,每个用户的第一行是nan，所以要dropna\n",
    "data_day_buy = data_day_buy.diff(1).dropna()\n"
   ],
   "metadata": {
    "collapsed": false,
    "pycharm": {
     "name": "#%%\n"
    }
   }
  },
  {
   "cell_type": "code",
   "execution_count": 116,
   "outputs": [
    {
     "data": {
      "text/plain": "user_id            \n100001878  2439076    6 days\n           2439090    0 days\n           2440428    0 days\n           2660355    1 days\n           2672617    0 days\n           3076142    1 days\n           3178225    0 days\n           3075867    0 days\n           3627084    1 days\n           4041992    2 days\n           4121098    0 days\n           5844240    4 days\n           6034745    1 days\n           5990081    0 days\n           6034724    0 days\n                       ...  \n99989881   8914       0 days\n           10983      0 days\n           809671     2 days\n           2418573    4 days\n           2669776    1 days\n           3960969    3 days\n           4742925    2 days\n           5381458    2 days\n           6292411    2 days\n           6372246    1 days\n           8203371    4 days\n           9248497    3 days\n           9249028    0 days\n           10601909   2 days\n           11085567   1 days\nName: date, Length: 120204, dtype: timedelta64[ns]"
     },
     "execution_count": 116,
     "metadata": {},
     "output_type": "execute_result"
    }
   ],
   "source": [
    "data_day_buy"
   ],
   "metadata": {
    "collapsed": false,
    "pycharm": {
     "name": "#%%\n"
    }
   }
  },
  {
   "cell_type": "code",
   "execution_count": 117,
   "outputs": [
    {
     "data": {
      "text/plain": "user_id            \n100001878  2439076     6\n           2439090     0\n           2440428     0\n           2660355     1\n           2672617     0\n           3076142     1\n           3178225     0\n           3075867     0\n           3627084     1\n           4041992     2\n           4121098     0\n           5844240     4\n           6034745     1\n           5990081     0\n           6034724     0\n                      ..\n99989881   8914        0\n           10983       0\n           809671      2\n           2418573     4\n           2669776     1\n           3960969     3\n           4742925     2\n           5381458     2\n           6292411     2\n           6372246     1\n           8203371     4\n           9248497     3\n           9249028     0\n           10601909    2\n           11085567    1\nName: date, Length: 120204, dtype: int64"
     },
     "execution_count": 117,
     "metadata": {},
     "output_type": "execute_result"
    }
   ],
   "source": [
    "data_day_buy.map(lambda x: x.days)"
   ],
   "metadata": {
    "collapsed": false,
    "pycharm": {
     "name": "#%%\n"
    }
   }
  },
  {
   "cell_type": "markdown",
   "source": [
    "# 4 漏斗分析"
   ],
   "metadata": {
    "collapsed": false
   }
  },
  {
   "cell_type": "code",
   "execution_count": 118,
   "outputs": [
    {
     "data": {
      "text/plain": "user_id            \n100001878  2439076    6 days\n           2439090    0 days\n           2440428    0 days\n           2660355    1 days\n           2672617    0 days\n           3076142    1 days\n           3178225    0 days\n           3075867    0 days\n           3627084    1 days\n           4041992    2 days\n           4121098    0 days\n           5844240    4 days\n           6034745    1 days\n           5990081    0 days\n           6034724    0 days\n                       ...  \n99989881   8914       0 days\n           10983      0 days\n           809671     2 days\n           2418573    4 days\n           2669776    1 days\n           3960969    3 days\n           4742925    2 days\n           5381458    2 days\n           6292411    2 days\n           6372246    1 days\n           8203371    4 days\n           9248497    3 days\n           9249028    0 days\n           10601909   2 days\n           11085567   1 days\nName: date, Length: 120204, dtype: timedelta64[ns]"
     },
     "execution_count": 118,
     "metadata": {},
     "output_type": "execute_result"
    }
   ],
   "source": [
    "data_day_buy4=data_day_buy\n",
    "data_day_buy4"
   ],
   "metadata": {
    "collapsed": false,
    "pycharm": {
     "name": "#%%\n"
    }
   }
  },
  {
   "cell_type": "code",
   "execution_count": 119,
   "outputs": [
    {
     "data": {
      "text/plain": "behavior_type\n1    11550581\n2      242556\n3      343564\n4      120205\ndtype: int64"
     },
     "execution_count": 119,
     "metadata": {},
     "output_type": "execute_result"
    }
   ],
   "source": [
    "data_user_count = data_user.groupby('behavior_type').size()\n",
    "data_user_count #四种行为的数量  点击、收藏、加入购物车和支付\n"
   ],
   "metadata": {
    "collapsed": false,
    "pycharm": {
     "name": "#%%\n"
    }
   }
  },
  {
   "cell_type": "code",
   "execution_count": 120,
   "outputs": [
    {
     "data": {
      "text/plain": "12256906"
     },
     "execution_count": 120,
     "metadata": {},
     "output_type": "execute_result"
    }
   ],
   "source": [
    "#看总的pv\n",
    "pv_all = data_user['user_id'].count()\n",
    "pv_all"
   ],
   "metadata": {
    "collapsed": false,
    "pycharm": {
     "name": "#%%\n"
    }
   }
  },
  {
   "cell_type": "code",
   "execution_count": 121,
   "outputs": [
    {
     "data": {
      "text/plain": "0.05762669632939993"
     },
     "execution_count": 121,
     "metadata": {},
     "output_type": "execute_result"
    }
   ],
   "source": [
    "#流失率不是很合理，正常流失率是进入后，什么行为都没做\n",
    "(pv_all - data_user_count[0])/pv_all  #总浏览量中有多少人没有点击就离开了，这个就是流失率"
   ],
   "metadata": {
    "collapsed": false,
    "pycharm": {
     "name": "#%%\n"
    }
   }
  },
  {
   "cell_type": "code",
   "execution_count": 122,
   "outputs": [
    {
     "data": {
      "text/plain": "11550581"
     },
     "execution_count": 122,
     "metadata": {},
     "output_type": "execute_result"
    }
   ],
   "source": [
    "data_user_count[0]"
   ],
   "metadata": {
    "collapsed": false,
    "pycharm": {
     "name": "#%%\n"
    }
   }
  },
  {
   "cell_type": "code",
   "execution_count": 124,
   "outputs": [
    {
     "data": {
      "text/plain": "0.9702556953628566"
     },
     "execution_count": 124,
     "metadata": {},
     "output_type": "execute_result"
    }
   ],
   "source": [
    "(data_user_count[0] - data_user_count[2])/data_user_count[0]  #有多少人点击了但是没有加入购物车\n"
   ],
   "metadata": {
    "collapsed": false,
    "pycharm": {
     "name": "#%%\n"
    }
   }
  },
  {
   "cell_type": "code",
   "execution_count": 125,
   "outputs": [
    {
     "data": {
      "text/plain": "0.29400053556251526"
     },
     "execution_count": 125,
     "metadata": {},
     "output_type": "execute_result"
    }
   ],
   "source": [
    "# 有点问题：岂不是默认收藏了的一定加入了购物车？\n",
    "# (data_user_count[2] - data_user_count[1])/data_user_count[2] #并不是所有加入购物车的人都进行了收藏，有29%的人并没有收藏"
   ],
   "metadata": {
    "collapsed": false,
    "pycharm": {
     "name": "#%%\n"
    }
   }
  },
  {
   "cell_type": "code",
   "execution_count": 126,
   "outputs": [
    {
     "data": {
      "text/plain": "0.5044237207077953"
     },
     "execution_count": 126,
     "metadata": {},
     "output_type": "execute_result"
    }
   ],
   "source": [
    "# (data_user_count[1] - data_user_count[3])/data_user_count[1] #收藏的人有50%进行了支付；也不合理"
   ],
   "metadata": {
    "collapsed": false,
    "pycharm": {
     "name": "#%%\n"
    }
   }
  },
  {
   "cell_type": "code",
   "execution_count": 127,
   "outputs": [
    {
     "data": {
      "text/plain": "0.6501234122317822"
     },
     "execution_count": 127,
     "metadata": {},
     "output_type": "execute_result"
    }
   ],
   "source": [
    "(data_user_count[2] - data_user_count[3])/data_user_count[2] #加入购物车的人有65%的人没有进行支付"
   ],
   "metadata": {
    "collapsed": false,
    "pycharm": {
     "name": "#%%\n"
    }
   }
  },
  {
   "cell_type": "markdown",
   "source": [
    "# 5 RFM分析"
   ],
   "metadata": {
    "collapsed": false
   }
  },
  {
   "cell_type": "code",
   "execution_count": 128,
   "outputs": [],
   "source": [
    "from datetime import datetime"
   ],
   "metadata": {
    "collapsed": false,
    "pycharm": {
     "name": "#%%\n"
    }
   }
  },
  {
   "cell_type": "code",
   "execution_count": 130,
   "outputs": [
    {
     "data": {
      "text/plain": "user_id\n100001878    2 days\n100011562    4 days\n100012968    2 days\n100014060    2 days\n100024529    4 days\n100027681    6 days\n100035725    2 days\n100039408   31 days\n100042340    2 days\n10004287    20 days\n100067745    8 days\n100078685    6 days\n100086267    3 days\n100090063    8 days\n100097997    4 days\n              ...  \n99792011     3 days\n99795650     2 days\n99796192     5 days\n99796276     2 days\n99851929     4 days\n99856680     8 days\n99877834     5 days\n99891846     3 days\n99900937     3 days\n99926967     6 days\n99960313     7 days\n9996155     13 days\n99963140     5 days\n99968428     6 days\n99989881     5 days\nName: date, Length: 8886, dtype: timedelta64[ns]"
     },
     "execution_count": 130,
     "metadata": {},
     "output_type": "execute_result"
    }
   ],
   "source": [
    "recent_buy_time=data_user[data_user['behavior_type'] == '4'].groupby ('user_id')['date'].apply(lambda x:datetime(2014,12,20)- x.sort_values().iloc[-1])\n",
    "\n",
    "#每个用户最新的购买日期和参考日期之间的时间间隔\n",
    "recent_buy_time"
   ],
   "metadata": {
    "collapsed": false,
    "pycharm": {
     "name": "#%%\n"
    }
   }
  },
  {
   "cell_type": "code",
   "execution_count": 131,
   "outputs": [],
   "source": [
    "recent_buy_time=recent_buy_time.reset_index().rename(columns={'date':'recent'})"
   ],
   "metadata": {
    "collapsed": false,
    "pycharm": {
     "name": "#%%\n"
    }
   }
  },
  {
   "cell_type": "code",
   "execution_count": 132,
   "outputs": [
    {
     "data": {
      "text/plain": "        user_id  recent\n0     100001878  2 days\n1     100011562  4 days\n2     100012968  2 days\n3     100014060  2 days\n4     100024529  4 days\n5     100027681  6 days\n6     100035725  2 days\n7     100039408 31 days\n8     100042340  2 days\n9      10004287 20 days\n10    100067745  8 days\n11    100078685  6 days\n12    100086267  3 days\n13    100090063  8 days\n14    100097997  4 days\n...         ...     ...\n8871   99792011  3 days\n8872   99795650  2 days\n8873   99796192  5 days\n8874   99796276  2 days\n8875   99851929  4 days\n8876   99856680  8 days\n8877   99877834  5 days\n8878   99891846  3 days\n8879   99900937  3 days\n8880   99926967  6 days\n8881   99960313  7 days\n8882    9996155 13 days\n8883   99963140  5 days\n8884   99968428  6 days\n8885   99989881  5 days\n\n[8886 rows x 2 columns]",
      "text/html": "<div>\n<style scoped>\n    .dataframe tbody tr th:only-of-type {\n        vertical-align: middle;\n    }\n\n    .dataframe tbody tr th {\n        vertical-align: top;\n    }\n\n    .dataframe thead th {\n        text-align: right;\n    }\n</style>\n<table border=\"1\" class=\"dataframe\">\n  <thead>\n    <tr style=\"text-align: right;\">\n      <th></th>\n      <th>user_id</th>\n      <th>recent</th>\n    </tr>\n  </thead>\n  <tbody>\n    <tr>\n      <th>0</th>\n      <td>100001878</td>\n      <td>2 days</td>\n    </tr>\n    <tr>\n      <th>1</th>\n      <td>100011562</td>\n      <td>4 days</td>\n    </tr>\n    <tr>\n      <th>2</th>\n      <td>100012968</td>\n      <td>2 days</td>\n    </tr>\n    <tr>\n      <th>3</th>\n      <td>100014060</td>\n      <td>2 days</td>\n    </tr>\n    <tr>\n      <th>4</th>\n      <td>100024529</td>\n      <td>4 days</td>\n    </tr>\n    <tr>\n      <th>5</th>\n      <td>100027681</td>\n      <td>6 days</td>\n    </tr>\n    <tr>\n      <th>6</th>\n      <td>100035725</td>\n      <td>2 days</td>\n    </tr>\n    <tr>\n      <th>7</th>\n      <td>100039408</td>\n      <td>31 days</td>\n    </tr>\n    <tr>\n      <th>8</th>\n      <td>100042340</td>\n      <td>2 days</td>\n    </tr>\n    <tr>\n      <th>9</th>\n      <td>10004287</td>\n      <td>20 days</td>\n    </tr>\n    <tr>\n      <th>10</th>\n      <td>100067745</td>\n      <td>8 days</td>\n    </tr>\n    <tr>\n      <th>11</th>\n      <td>100078685</td>\n      <td>6 days</td>\n    </tr>\n    <tr>\n      <th>12</th>\n      <td>100086267</td>\n      <td>3 days</td>\n    </tr>\n    <tr>\n      <th>13</th>\n      <td>100090063</td>\n      <td>8 days</td>\n    </tr>\n    <tr>\n      <th>14</th>\n      <td>100097997</td>\n      <td>4 days</td>\n    </tr>\n    <tr>\n      <th>...</th>\n      <td>...</td>\n      <td>...</td>\n    </tr>\n    <tr>\n      <th>8871</th>\n      <td>99792011</td>\n      <td>3 days</td>\n    </tr>\n    <tr>\n      <th>8872</th>\n      <td>99795650</td>\n      <td>2 days</td>\n    </tr>\n    <tr>\n      <th>8873</th>\n      <td>99796192</td>\n      <td>5 days</td>\n    </tr>\n    <tr>\n      <th>8874</th>\n      <td>99796276</td>\n      <td>2 days</td>\n    </tr>\n    <tr>\n      <th>8875</th>\n      <td>99851929</td>\n      <td>4 days</td>\n    </tr>\n    <tr>\n      <th>8876</th>\n      <td>99856680</td>\n      <td>8 days</td>\n    </tr>\n    <tr>\n      <th>8877</th>\n      <td>99877834</td>\n      <td>5 days</td>\n    </tr>\n    <tr>\n      <th>8878</th>\n      <td>99891846</td>\n      <td>3 days</td>\n    </tr>\n    <tr>\n      <th>8879</th>\n      <td>99900937</td>\n      <td>3 days</td>\n    </tr>\n    <tr>\n      <th>8880</th>\n      <td>99926967</td>\n      <td>6 days</td>\n    </tr>\n    <tr>\n      <th>8881</th>\n      <td>99960313</td>\n      <td>7 days</td>\n    </tr>\n    <tr>\n      <th>8882</th>\n      <td>9996155</td>\n      <td>13 days</td>\n    </tr>\n    <tr>\n      <th>8883</th>\n      <td>99963140</td>\n      <td>5 days</td>\n    </tr>\n    <tr>\n      <th>8884</th>\n      <td>99968428</td>\n      <td>6 days</td>\n    </tr>\n    <tr>\n      <th>8885</th>\n      <td>99989881</td>\n      <td>5 days</td>\n    </tr>\n  </tbody>\n</table>\n<p>8886 rows × 2 columns</p>\n</div>"
     },
     "execution_count": 132,
     "metadata": {},
     "output_type": "execute_result"
    }
   ],
   "source": [
    "recent_buy_time"
   ],
   "metadata": {
    "collapsed": false,
    "pycharm": {
     "name": "#%%\n"
    }
   }
  },
  {
   "cell_type": "code",
   "execution_count": 133,
   "outputs": [],
   "source": [
    "recent_buy_time.recent= recent_buy_time.recent.apply(lambda x: x.days)  #去掉days\n"
   ],
   "metadata": {
    "collapsed": false,
    "pycharm": {
     "name": "#%%\n"
    }
   }
  },
  {
   "cell_type": "code",
   "execution_count": 134,
   "outputs": [
    {
     "data": {
      "text/plain": "        user_id  recent\n0     100001878       2\n1     100011562       4\n2     100012968       2\n3     100014060       2\n4     100024529       4\n5     100027681       6\n6     100035725       2\n7     100039408      31\n8     100042340       2\n9      10004287      20\n10    100067745       8\n11    100078685       6\n12    100086267       3\n13    100090063       8\n14    100097997       4\n...         ...     ...\n8871   99792011       3\n8872   99795650       2\n8873   99796192       5\n8874   99796276       2\n8875   99851929       4\n8876   99856680       8\n8877   99877834       5\n8878   99891846       3\n8879   99900937       3\n8880   99926967       6\n8881   99960313       7\n8882    9996155      13\n8883   99963140       5\n8884   99968428       6\n8885   99989881       5\n\n[8886 rows x 2 columns]",
      "text/html": "<div>\n<style scoped>\n    .dataframe tbody tr th:only-of-type {\n        vertical-align: middle;\n    }\n\n    .dataframe tbody tr th {\n        vertical-align: top;\n    }\n\n    .dataframe thead th {\n        text-align: right;\n    }\n</style>\n<table border=\"1\" class=\"dataframe\">\n  <thead>\n    <tr style=\"text-align: right;\">\n      <th></th>\n      <th>user_id</th>\n      <th>recent</th>\n    </tr>\n  </thead>\n  <tbody>\n    <tr>\n      <th>0</th>\n      <td>100001878</td>\n      <td>2</td>\n    </tr>\n    <tr>\n      <th>1</th>\n      <td>100011562</td>\n      <td>4</td>\n    </tr>\n    <tr>\n      <th>2</th>\n      <td>100012968</td>\n      <td>2</td>\n    </tr>\n    <tr>\n      <th>3</th>\n      <td>100014060</td>\n      <td>2</td>\n    </tr>\n    <tr>\n      <th>4</th>\n      <td>100024529</td>\n      <td>4</td>\n    </tr>\n    <tr>\n      <th>5</th>\n      <td>100027681</td>\n      <td>6</td>\n    </tr>\n    <tr>\n      <th>6</th>\n      <td>100035725</td>\n      <td>2</td>\n    </tr>\n    <tr>\n      <th>7</th>\n      <td>100039408</td>\n      <td>31</td>\n    </tr>\n    <tr>\n      <th>8</th>\n      <td>100042340</td>\n      <td>2</td>\n    </tr>\n    <tr>\n      <th>9</th>\n      <td>10004287</td>\n      <td>20</td>\n    </tr>\n    <tr>\n      <th>10</th>\n      <td>100067745</td>\n      <td>8</td>\n    </tr>\n    <tr>\n      <th>11</th>\n      <td>100078685</td>\n      <td>6</td>\n    </tr>\n    <tr>\n      <th>12</th>\n      <td>100086267</td>\n      <td>3</td>\n    </tr>\n    <tr>\n      <th>13</th>\n      <td>100090063</td>\n      <td>8</td>\n    </tr>\n    <tr>\n      <th>14</th>\n      <td>100097997</td>\n      <td>4</td>\n    </tr>\n    <tr>\n      <th>...</th>\n      <td>...</td>\n      <td>...</td>\n    </tr>\n    <tr>\n      <th>8871</th>\n      <td>99792011</td>\n      <td>3</td>\n    </tr>\n    <tr>\n      <th>8872</th>\n      <td>99795650</td>\n      <td>2</td>\n    </tr>\n    <tr>\n      <th>8873</th>\n      <td>99796192</td>\n      <td>5</td>\n    </tr>\n    <tr>\n      <th>8874</th>\n      <td>99796276</td>\n      <td>2</td>\n    </tr>\n    <tr>\n      <th>8875</th>\n      <td>99851929</td>\n      <td>4</td>\n    </tr>\n    <tr>\n      <th>8876</th>\n      <td>99856680</td>\n      <td>8</td>\n    </tr>\n    <tr>\n      <th>8877</th>\n      <td>99877834</td>\n      <td>5</td>\n    </tr>\n    <tr>\n      <th>8878</th>\n      <td>99891846</td>\n      <td>3</td>\n    </tr>\n    <tr>\n      <th>8879</th>\n      <td>99900937</td>\n      <td>3</td>\n    </tr>\n    <tr>\n      <th>8880</th>\n      <td>99926967</td>\n      <td>6</td>\n    </tr>\n    <tr>\n      <th>8881</th>\n      <td>99960313</td>\n      <td>7</td>\n    </tr>\n    <tr>\n      <th>8882</th>\n      <td>9996155</td>\n      <td>13</td>\n    </tr>\n    <tr>\n      <th>8883</th>\n      <td>99963140</td>\n      <td>5</td>\n    </tr>\n    <tr>\n      <th>8884</th>\n      <td>99968428</td>\n      <td>6</td>\n    </tr>\n    <tr>\n      <th>8885</th>\n      <td>99989881</td>\n      <td>5</td>\n    </tr>\n  </tbody>\n</table>\n<p>8886 rows × 2 columns</p>\n</div>"
     },
     "execution_count": 134,
     "metadata": {},
     "output_type": "execute_result"
    }
   ],
   "source": [
    "recent_buy_time\n"
   ],
   "metadata": {
    "collapsed": false,
    "pycharm": {
     "name": "#%%\n"
    }
   }
  },
  {
   "cell_type": "code",
   "execution_count": 137,
   "outputs": [
    {
     "data": {
      "text/plain": "user_id\n100001878    36\n100011562     3\n100012968    15\n100014060    24\n100024529    26\n100027681    48\n100035725     4\n100039408     1\n100042340     3\n10004287     14\n100067745    12\n100078685    19\n100086267    48\n100090063     6\n100097997    11\n             ..\n99792011     19\n99795650     50\n99796192     10\n99796276     43\n99851929      5\n99856680      3\n99877834     11\n99891846      7\n99900937     27\n99926967     10\n99960313      8\n9996155       6\n99963140     19\n99968428     38\n99989881     17\nName: date, Length: 8886, dtype: int64"
     },
     "execution_count": 137,
     "metadata": {},
     "output_type": "execute_result"
    }
   ],
   "source": [
    "buy_freq = data_user[data_user ['behavior_type'] =='4'].groupby('user_id').date.count()\n",
    "buy_freq"
   ],
   "metadata": {
    "collapsed": false,
    "pycharm": {
     "name": "#%%\n"
    }
   }
  },
  {
   "cell_type": "code",
   "execution_count": 139,
   "outputs": [
    {
     "data": {
      "text/plain": "      index    user_id  freq\n0         0  100001878    36\n1         1  100011562     3\n2         2  100012968    15\n3         3  100014060    24\n4         4  100024529    26\n5         5  100027681    48\n6         6  100035725     4\n7         7  100039408     1\n8         8  100042340     3\n9         9   10004287    14\n10       10  100067745    12\n11       11  100078685    19\n12       12  100086267    48\n13       13  100090063     6\n14       14  100097997    11\n...     ...        ...   ...\n8871   8871   99792011    19\n8872   8872   99795650    50\n8873   8873   99796192    10\n8874   8874   99796276    43\n8875   8875   99851929     5\n8876   8876   99856680     3\n8877   8877   99877834    11\n8878   8878   99891846     7\n8879   8879   99900937    27\n8880   8880   99926967    10\n8881   8881   99960313     8\n8882   8882    9996155     6\n8883   8883   99963140    19\n8884   8884   99968428    38\n8885   8885   99989881    17\n\n[8886 rows x 3 columns]",
      "text/html": "<div>\n<style scoped>\n    .dataframe tbody tr th:only-of-type {\n        vertical-align: middle;\n    }\n\n    .dataframe tbody tr th {\n        vertical-align: top;\n    }\n\n    .dataframe thead th {\n        text-align: right;\n    }\n</style>\n<table border=\"1\" class=\"dataframe\">\n  <thead>\n    <tr style=\"text-align: right;\">\n      <th></th>\n      <th>index</th>\n      <th>user_id</th>\n      <th>freq</th>\n    </tr>\n  </thead>\n  <tbody>\n    <tr>\n      <th>0</th>\n      <td>0</td>\n      <td>100001878</td>\n      <td>36</td>\n    </tr>\n    <tr>\n      <th>1</th>\n      <td>1</td>\n      <td>100011562</td>\n      <td>3</td>\n    </tr>\n    <tr>\n      <th>2</th>\n      <td>2</td>\n      <td>100012968</td>\n      <td>15</td>\n    </tr>\n    <tr>\n      <th>3</th>\n      <td>3</td>\n      <td>100014060</td>\n      <td>24</td>\n    </tr>\n    <tr>\n      <th>4</th>\n      <td>4</td>\n      <td>100024529</td>\n      <td>26</td>\n    </tr>\n    <tr>\n      <th>5</th>\n      <td>5</td>\n      <td>100027681</td>\n      <td>48</td>\n    </tr>\n    <tr>\n      <th>6</th>\n      <td>6</td>\n      <td>100035725</td>\n      <td>4</td>\n    </tr>\n    <tr>\n      <th>7</th>\n      <td>7</td>\n      <td>100039408</td>\n      <td>1</td>\n    </tr>\n    <tr>\n      <th>8</th>\n      <td>8</td>\n      <td>100042340</td>\n      <td>3</td>\n    </tr>\n    <tr>\n      <th>9</th>\n      <td>9</td>\n      <td>10004287</td>\n      <td>14</td>\n    </tr>\n    <tr>\n      <th>10</th>\n      <td>10</td>\n      <td>100067745</td>\n      <td>12</td>\n    </tr>\n    <tr>\n      <th>11</th>\n      <td>11</td>\n      <td>100078685</td>\n      <td>19</td>\n    </tr>\n    <tr>\n      <th>12</th>\n      <td>12</td>\n      <td>100086267</td>\n      <td>48</td>\n    </tr>\n    <tr>\n      <th>13</th>\n      <td>13</td>\n      <td>100090063</td>\n      <td>6</td>\n    </tr>\n    <tr>\n      <th>14</th>\n      <td>14</td>\n      <td>100097997</td>\n      <td>11</td>\n    </tr>\n    <tr>\n      <th>...</th>\n      <td>...</td>\n      <td>...</td>\n      <td>...</td>\n    </tr>\n    <tr>\n      <th>8871</th>\n      <td>8871</td>\n      <td>99792011</td>\n      <td>19</td>\n    </tr>\n    <tr>\n      <th>8872</th>\n      <td>8872</td>\n      <td>99795650</td>\n      <td>50</td>\n    </tr>\n    <tr>\n      <th>8873</th>\n      <td>8873</td>\n      <td>99796192</td>\n      <td>10</td>\n    </tr>\n    <tr>\n      <th>8874</th>\n      <td>8874</td>\n      <td>99796276</td>\n      <td>43</td>\n    </tr>\n    <tr>\n      <th>8875</th>\n      <td>8875</td>\n      <td>99851929</td>\n      <td>5</td>\n    </tr>\n    <tr>\n      <th>8876</th>\n      <td>8876</td>\n      <td>99856680</td>\n      <td>3</td>\n    </tr>\n    <tr>\n      <th>8877</th>\n      <td>8877</td>\n      <td>99877834</td>\n      <td>11</td>\n    </tr>\n    <tr>\n      <th>8878</th>\n      <td>8878</td>\n      <td>99891846</td>\n      <td>7</td>\n    </tr>\n    <tr>\n      <th>8879</th>\n      <td>8879</td>\n      <td>99900937</td>\n      <td>27</td>\n    </tr>\n    <tr>\n      <th>8880</th>\n      <td>8880</td>\n      <td>99926967</td>\n      <td>10</td>\n    </tr>\n    <tr>\n      <th>8881</th>\n      <td>8881</td>\n      <td>99960313</td>\n      <td>8</td>\n    </tr>\n    <tr>\n      <th>8882</th>\n      <td>8882</td>\n      <td>9996155</td>\n      <td>6</td>\n    </tr>\n    <tr>\n      <th>8883</th>\n      <td>8883</td>\n      <td>99963140</td>\n      <td>19</td>\n    </tr>\n    <tr>\n      <th>8884</th>\n      <td>8884</td>\n      <td>99968428</td>\n      <td>38</td>\n    </tr>\n    <tr>\n      <th>8885</th>\n      <td>8885</td>\n      <td>99989881</td>\n      <td>17</td>\n    </tr>\n  </tbody>\n</table>\n<p>8886 rows × 3 columns</p>\n</div>"
     },
     "execution_count": 139,
     "metadata": {},
     "output_type": "execute_result"
    }
   ],
   "source": [
    "buy_freq=buy_freq.reset_index().rename(columns={'date':'freq'})\n",
    "buy_freq"
   ],
   "metadata": {
    "collapsed": false,
    "pycharm": {
     "name": "#%%\n"
    }
   }
  },
  {
   "cell_type": "code",
   "execution_count": 148,
   "outputs": [],
   "source": [
    "rfm= pd.merge (recent_buy_time, buy_freq,left_on ='user_id' ,right_on ='user_id')\n"
   ],
   "metadata": {
    "collapsed": false,
    "pycharm": {
     "name": "#%%\n"
    }
   }
  },
  {
   "cell_type": "code",
   "execution_count": 149,
   "outputs": [
    {
     "data": {
      "text/plain": "        user_id  recent  index  freq\n0     100001878       2      0    36\n1     100011562       4      1     3\n2     100012968       2      2    15\n3     100014060       2      3    24\n4     100024529       4      4    26\n5     100027681       6      5    48\n6     100035725       2      6     4\n7     100039408      31      7     1\n8     100042340       2      8     3\n9      10004287      20      9    14\n10    100067745       8     10    12\n11    100078685       6     11    19\n12    100086267       3     12    48\n13    100090063       8     13     6\n14    100097997       4     14    11\n...         ...     ...    ...   ...\n8871   99792011       3   8871    19\n8872   99795650       2   8872    50\n8873   99796192       5   8873    10\n8874   99796276       2   8874    43\n8875   99851929       4   8875     5\n8876   99856680       8   8876     3\n8877   99877834       5   8877    11\n8878   99891846       3   8878     7\n8879   99900937       3   8879    27\n8880   99926967       6   8880    10\n8881   99960313       7   8881     8\n8882    9996155      13   8882     6\n8883   99963140       5   8883    19\n8884   99968428       6   8884    38\n8885   99989881       5   8885    17\n\n[8886 rows x 4 columns]",
      "text/html": "<div>\n<style scoped>\n    .dataframe tbody tr th:only-of-type {\n        vertical-align: middle;\n    }\n\n    .dataframe tbody tr th {\n        vertical-align: top;\n    }\n\n    .dataframe thead th {\n        text-align: right;\n    }\n</style>\n<table border=\"1\" class=\"dataframe\">\n  <thead>\n    <tr style=\"text-align: right;\">\n      <th></th>\n      <th>user_id</th>\n      <th>recent</th>\n      <th>index</th>\n      <th>freq</th>\n    </tr>\n  </thead>\n  <tbody>\n    <tr>\n      <th>0</th>\n      <td>100001878</td>\n      <td>2</td>\n      <td>0</td>\n      <td>36</td>\n    </tr>\n    <tr>\n      <th>1</th>\n      <td>100011562</td>\n      <td>4</td>\n      <td>1</td>\n      <td>3</td>\n    </tr>\n    <tr>\n      <th>2</th>\n      <td>100012968</td>\n      <td>2</td>\n      <td>2</td>\n      <td>15</td>\n    </tr>\n    <tr>\n      <th>3</th>\n      <td>100014060</td>\n      <td>2</td>\n      <td>3</td>\n      <td>24</td>\n    </tr>\n    <tr>\n      <th>4</th>\n      <td>100024529</td>\n      <td>4</td>\n      <td>4</td>\n      <td>26</td>\n    </tr>\n    <tr>\n      <th>5</th>\n      <td>100027681</td>\n      <td>6</td>\n      <td>5</td>\n      <td>48</td>\n    </tr>\n    <tr>\n      <th>6</th>\n      <td>100035725</td>\n      <td>2</td>\n      <td>6</td>\n      <td>4</td>\n    </tr>\n    <tr>\n      <th>7</th>\n      <td>100039408</td>\n      <td>31</td>\n      <td>7</td>\n      <td>1</td>\n    </tr>\n    <tr>\n      <th>8</th>\n      <td>100042340</td>\n      <td>2</td>\n      <td>8</td>\n      <td>3</td>\n    </tr>\n    <tr>\n      <th>9</th>\n      <td>10004287</td>\n      <td>20</td>\n      <td>9</td>\n      <td>14</td>\n    </tr>\n    <tr>\n      <th>10</th>\n      <td>100067745</td>\n      <td>8</td>\n      <td>10</td>\n      <td>12</td>\n    </tr>\n    <tr>\n      <th>11</th>\n      <td>100078685</td>\n      <td>6</td>\n      <td>11</td>\n      <td>19</td>\n    </tr>\n    <tr>\n      <th>12</th>\n      <td>100086267</td>\n      <td>3</td>\n      <td>12</td>\n      <td>48</td>\n    </tr>\n    <tr>\n      <th>13</th>\n      <td>100090063</td>\n      <td>8</td>\n      <td>13</td>\n      <td>6</td>\n    </tr>\n    <tr>\n      <th>14</th>\n      <td>100097997</td>\n      <td>4</td>\n      <td>14</td>\n      <td>11</td>\n    </tr>\n    <tr>\n      <th>...</th>\n      <td>...</td>\n      <td>...</td>\n      <td>...</td>\n      <td>...</td>\n    </tr>\n    <tr>\n      <th>8871</th>\n      <td>99792011</td>\n      <td>3</td>\n      <td>8871</td>\n      <td>19</td>\n    </tr>\n    <tr>\n      <th>8872</th>\n      <td>99795650</td>\n      <td>2</td>\n      <td>8872</td>\n      <td>50</td>\n    </tr>\n    <tr>\n      <th>8873</th>\n      <td>99796192</td>\n      <td>5</td>\n      <td>8873</td>\n      <td>10</td>\n    </tr>\n    <tr>\n      <th>8874</th>\n      <td>99796276</td>\n      <td>2</td>\n      <td>8874</td>\n      <td>43</td>\n    </tr>\n    <tr>\n      <th>8875</th>\n      <td>99851929</td>\n      <td>4</td>\n      <td>8875</td>\n      <td>5</td>\n    </tr>\n    <tr>\n      <th>8876</th>\n      <td>99856680</td>\n      <td>8</td>\n      <td>8876</td>\n      <td>3</td>\n    </tr>\n    <tr>\n      <th>8877</th>\n      <td>99877834</td>\n      <td>5</td>\n      <td>8877</td>\n      <td>11</td>\n    </tr>\n    <tr>\n      <th>8878</th>\n      <td>99891846</td>\n      <td>3</td>\n      <td>8878</td>\n      <td>7</td>\n    </tr>\n    <tr>\n      <th>8879</th>\n      <td>99900937</td>\n      <td>3</td>\n      <td>8879</td>\n      <td>27</td>\n    </tr>\n    <tr>\n      <th>8880</th>\n      <td>99926967</td>\n      <td>6</td>\n      <td>8880</td>\n      <td>10</td>\n    </tr>\n    <tr>\n      <th>8881</th>\n      <td>99960313</td>\n      <td>7</td>\n      <td>8881</td>\n      <td>8</td>\n    </tr>\n    <tr>\n      <th>8882</th>\n      <td>9996155</td>\n      <td>13</td>\n      <td>8882</td>\n      <td>6</td>\n    </tr>\n    <tr>\n      <th>8883</th>\n      <td>99963140</td>\n      <td>5</td>\n      <td>8883</td>\n      <td>19</td>\n    </tr>\n    <tr>\n      <th>8884</th>\n      <td>99968428</td>\n      <td>6</td>\n      <td>8884</td>\n      <td>38</td>\n    </tr>\n    <tr>\n      <th>8885</th>\n      <td>99989881</td>\n      <td>5</td>\n      <td>8885</td>\n      <td>17</td>\n    </tr>\n  </tbody>\n</table>\n<p>8886 rows × 4 columns</p>\n</div>"
     },
     "execution_count": 149,
     "metadata": {},
     "output_type": "execute_result"
    }
   ],
   "source": [
    "rfm"
   ],
   "metadata": {
    "collapsed": false,
    "pycharm": {
     "name": "#%%\n"
    }
   }
  },
  {
   "cell_type": "code",
   "execution_count": 155,
   "outputs": [],
   "source": [
    "rfm['recent_value'] = pd.qcut(rfm.recent,2,labels=['2','1'])"
   ],
   "metadata": {
    "collapsed": false,
    "pycharm": {
     "name": "#%%\n"
    }
   }
  },
  {
   "cell_type": "code",
   "execution_count": 156,
   "outputs": [],
   "source": [
    "rfm['freq_value'] = pd.qcut(rfm.freq,2,labels=['1','2'])"
   ],
   "metadata": {
    "collapsed": false,
    "pycharm": {
     "name": "#%%\n"
    }
   }
  },
  {
   "cell_type": "code",
   "execution_count": 157,
   "outputs": [],
   "source": [
    "rfm['rfm'] = rfm['recent_value'].str.cat(rfm['freq_value'])\n"
   ],
   "metadata": {
    "collapsed": false,
    "pycharm": {
     "name": "#%%\n"
    }
   }
  },
  {
   "cell_type": "code",
   "execution_count": 158,
   "outputs": [
    {
     "data": {
      "text/plain": "        user_id  recent  index  freq recent_value freq_value rfm\n0     100001878       2      0    36            2          2  22\n1     100011562       4      1     3            2          1  21\n2     100012968       2      2    15            2          2  22\n3     100014060       2      3    24            2          2  22\n4     100024529       4      4    26            2          2  22\n5     100027681       6      5    48            2          2  22\n6     100035725       2      6     4            2          1  21\n7     100039408      31      7     1            1          1  11\n8     100042340       2      8     3            2          1  21\n9      10004287      20      9    14            1          2  12\n10    100067745       8     10    12            1          2  12\n11    100078685       6     11    19            2          2  22\n12    100086267       3     12    48            2          2  22\n13    100090063       8     13     6            1          1  11\n14    100097997       4     14    11            2          2  22\n...         ...     ...    ...   ...          ...        ...  ..\n8871   99792011       3   8871    19            2          2  22\n8872   99795650       2   8872    50            2          2  22\n8873   99796192       5   8873    10            2          2  22\n8874   99796276       2   8874    43            2          2  22\n8875   99851929       4   8875     5            2          1  21\n8876   99856680       8   8876     3            1          1  11\n8877   99877834       5   8877    11            2          2  22\n8878   99891846       3   8878     7            2          1  21\n8879   99900937       3   8879    27            2          2  22\n8880   99926967       6   8880    10            2          2  22\n8881   99960313       7   8881     8            1          1  11\n8882    9996155      13   8882     6            1          1  11\n8883   99963140       5   8883    19            2          2  22\n8884   99968428       6   8884    38            2          2  22\n8885   99989881       5   8885    17            2          2  22\n\n[8886 rows x 7 columns]",
      "text/html": "<div>\n<style scoped>\n    .dataframe tbody tr th:only-of-type {\n        vertical-align: middle;\n    }\n\n    .dataframe tbody tr th {\n        vertical-align: top;\n    }\n\n    .dataframe thead th {\n        text-align: right;\n    }\n</style>\n<table border=\"1\" class=\"dataframe\">\n  <thead>\n    <tr style=\"text-align: right;\">\n      <th></th>\n      <th>user_id</th>\n      <th>recent</th>\n      <th>index</th>\n      <th>freq</th>\n      <th>recent_value</th>\n      <th>freq_value</th>\n      <th>rfm</th>\n    </tr>\n  </thead>\n  <tbody>\n    <tr>\n      <th>0</th>\n      <td>100001878</td>\n      <td>2</td>\n      <td>0</td>\n      <td>36</td>\n      <td>2</td>\n      <td>2</td>\n      <td>22</td>\n    </tr>\n    <tr>\n      <th>1</th>\n      <td>100011562</td>\n      <td>4</td>\n      <td>1</td>\n      <td>3</td>\n      <td>2</td>\n      <td>1</td>\n      <td>21</td>\n    </tr>\n    <tr>\n      <th>2</th>\n      <td>100012968</td>\n      <td>2</td>\n      <td>2</td>\n      <td>15</td>\n      <td>2</td>\n      <td>2</td>\n      <td>22</td>\n    </tr>\n    <tr>\n      <th>3</th>\n      <td>100014060</td>\n      <td>2</td>\n      <td>3</td>\n      <td>24</td>\n      <td>2</td>\n      <td>2</td>\n      <td>22</td>\n    </tr>\n    <tr>\n      <th>4</th>\n      <td>100024529</td>\n      <td>4</td>\n      <td>4</td>\n      <td>26</td>\n      <td>2</td>\n      <td>2</td>\n      <td>22</td>\n    </tr>\n    <tr>\n      <th>5</th>\n      <td>100027681</td>\n      <td>6</td>\n      <td>5</td>\n      <td>48</td>\n      <td>2</td>\n      <td>2</td>\n      <td>22</td>\n    </tr>\n    <tr>\n      <th>6</th>\n      <td>100035725</td>\n      <td>2</td>\n      <td>6</td>\n      <td>4</td>\n      <td>2</td>\n      <td>1</td>\n      <td>21</td>\n    </tr>\n    <tr>\n      <th>7</th>\n      <td>100039408</td>\n      <td>31</td>\n      <td>7</td>\n      <td>1</td>\n      <td>1</td>\n      <td>1</td>\n      <td>11</td>\n    </tr>\n    <tr>\n      <th>8</th>\n      <td>100042340</td>\n      <td>2</td>\n      <td>8</td>\n      <td>3</td>\n      <td>2</td>\n      <td>1</td>\n      <td>21</td>\n    </tr>\n    <tr>\n      <th>9</th>\n      <td>10004287</td>\n      <td>20</td>\n      <td>9</td>\n      <td>14</td>\n      <td>1</td>\n      <td>2</td>\n      <td>12</td>\n    </tr>\n    <tr>\n      <th>10</th>\n      <td>100067745</td>\n      <td>8</td>\n      <td>10</td>\n      <td>12</td>\n      <td>1</td>\n      <td>2</td>\n      <td>12</td>\n    </tr>\n    <tr>\n      <th>11</th>\n      <td>100078685</td>\n      <td>6</td>\n      <td>11</td>\n      <td>19</td>\n      <td>2</td>\n      <td>2</td>\n      <td>22</td>\n    </tr>\n    <tr>\n      <th>12</th>\n      <td>100086267</td>\n      <td>3</td>\n      <td>12</td>\n      <td>48</td>\n      <td>2</td>\n      <td>2</td>\n      <td>22</td>\n    </tr>\n    <tr>\n      <th>13</th>\n      <td>100090063</td>\n      <td>8</td>\n      <td>13</td>\n      <td>6</td>\n      <td>1</td>\n      <td>1</td>\n      <td>11</td>\n    </tr>\n    <tr>\n      <th>14</th>\n      <td>100097997</td>\n      <td>4</td>\n      <td>14</td>\n      <td>11</td>\n      <td>2</td>\n      <td>2</td>\n      <td>22</td>\n    </tr>\n    <tr>\n      <th>...</th>\n      <td>...</td>\n      <td>...</td>\n      <td>...</td>\n      <td>...</td>\n      <td>...</td>\n      <td>...</td>\n      <td>...</td>\n    </tr>\n    <tr>\n      <th>8871</th>\n      <td>99792011</td>\n      <td>3</td>\n      <td>8871</td>\n      <td>19</td>\n      <td>2</td>\n      <td>2</td>\n      <td>22</td>\n    </tr>\n    <tr>\n      <th>8872</th>\n      <td>99795650</td>\n      <td>2</td>\n      <td>8872</td>\n      <td>50</td>\n      <td>2</td>\n      <td>2</td>\n      <td>22</td>\n    </tr>\n    <tr>\n      <th>8873</th>\n      <td>99796192</td>\n      <td>5</td>\n      <td>8873</td>\n      <td>10</td>\n      <td>2</td>\n      <td>2</td>\n      <td>22</td>\n    </tr>\n    <tr>\n      <th>8874</th>\n      <td>99796276</td>\n      <td>2</td>\n      <td>8874</td>\n      <td>43</td>\n      <td>2</td>\n      <td>2</td>\n      <td>22</td>\n    </tr>\n    <tr>\n      <th>8875</th>\n      <td>99851929</td>\n      <td>4</td>\n      <td>8875</td>\n      <td>5</td>\n      <td>2</td>\n      <td>1</td>\n      <td>21</td>\n    </tr>\n    <tr>\n      <th>8876</th>\n      <td>99856680</td>\n      <td>8</td>\n      <td>8876</td>\n      <td>3</td>\n      <td>1</td>\n      <td>1</td>\n      <td>11</td>\n    </tr>\n    <tr>\n      <th>8877</th>\n      <td>99877834</td>\n      <td>5</td>\n      <td>8877</td>\n      <td>11</td>\n      <td>2</td>\n      <td>2</td>\n      <td>22</td>\n    </tr>\n    <tr>\n      <th>8878</th>\n      <td>99891846</td>\n      <td>3</td>\n      <td>8878</td>\n      <td>7</td>\n      <td>2</td>\n      <td>1</td>\n      <td>21</td>\n    </tr>\n    <tr>\n      <th>8879</th>\n      <td>99900937</td>\n      <td>3</td>\n      <td>8879</td>\n      <td>27</td>\n      <td>2</td>\n      <td>2</td>\n      <td>22</td>\n    </tr>\n    <tr>\n      <th>8880</th>\n      <td>99926967</td>\n      <td>6</td>\n      <td>8880</td>\n      <td>10</td>\n      <td>2</td>\n      <td>2</td>\n      <td>22</td>\n    </tr>\n    <tr>\n      <th>8881</th>\n      <td>99960313</td>\n      <td>7</td>\n      <td>8881</td>\n      <td>8</td>\n      <td>1</td>\n      <td>1</td>\n      <td>11</td>\n    </tr>\n    <tr>\n      <th>8882</th>\n      <td>9996155</td>\n      <td>13</td>\n      <td>8882</td>\n      <td>6</td>\n      <td>1</td>\n      <td>1</td>\n      <td>11</td>\n    </tr>\n    <tr>\n      <th>8883</th>\n      <td>99963140</td>\n      <td>5</td>\n      <td>8883</td>\n      <td>19</td>\n      <td>2</td>\n      <td>2</td>\n      <td>22</td>\n    </tr>\n    <tr>\n      <th>8884</th>\n      <td>99968428</td>\n      <td>6</td>\n      <td>8884</td>\n      <td>38</td>\n      <td>2</td>\n      <td>2</td>\n      <td>22</td>\n    </tr>\n    <tr>\n      <th>8885</th>\n      <td>99989881</td>\n      <td>5</td>\n      <td>8885</td>\n      <td>17</td>\n      <td>2</td>\n      <td>2</td>\n      <td>22</td>\n    </tr>\n  </tbody>\n</table>\n<p>8886 rows × 7 columns</p>\n</div>"
     },
     "execution_count": 158,
     "metadata": {},
     "output_type": "execute_result"
    }
   ],
   "source": [
    "rfm  # 22是最佳"
   ],
   "metadata": {
    "collapsed": false,
    "pycharm": {
     "name": "#%%\n"
    }
   }
  },
  {
   "cell_type": "code",
   "execution_count": 159,
   "outputs": [
    {
     "data": {
      "text/plain": "0       22\n4569    22\n4517    22\n4516    22\n4514    22\n4513    22\n4512    22\n4510    22\n4509    22\n4508    22\n4507    22\n4502    22\n4499    22\n4498    22\n4497    22\n        ..\n6849    11\n6850    11\n737     11\n6852    11\n6855    11\n5247    11\n6857    11\n5246    11\n1987    11\n5245    11\n3270    11\n6862    11\n3268    11\n1989    11\n2336    11\nName: rfm, Length: 8886, dtype: object"
     },
     "execution_count": 159,
     "metadata": {},
     "output_type": "execute_result"
    }
   ],
   "source": [
    "rfm1 = rfm.rfm.sort_values(ascending=False)\n",
    "rfm1\n"
   ],
   "metadata": {
    "collapsed": false,
    "pycharm": {
     "name": "#%%\n"
    }
   }
  }
 ],
 "metadata": {
  "kernelspec": {
   "display_name": "Python 3",
   "language": "python",
   "name": "python3"
  },
  "language_info": {
   "codemirror_mode": {
    "name": "ipython",
    "version": 2
   },
   "file_extension": ".py",
   "mimetype": "text/x-python",
   "name": "python",
   "nbconvert_exporter": "python",
   "pygments_lexer": "ipython2",
   "version": "2.7.6"
  }
 },
 "nbformat": 4,
 "nbformat_minor": 0
}