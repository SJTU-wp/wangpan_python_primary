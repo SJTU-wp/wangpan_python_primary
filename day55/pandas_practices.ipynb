{
 "cells": [
  {
   "cell_type": "markdown",
   "source": [
    "iloc 位置索引"
   ],
   "metadata": {
    "collapsed": false
   }
  },
  {
   "cell_type": "code",
   "execution_count": null,
   "outputs": [],
   "source": [
    "import pandas as pd\n",
    "import numpy as np\n",
    "\n",
    "# Series\n",
    "ser_obj = pd.Series(range(5), index = list(\"abcde\"))\n",
    "\n",
    "print(ser_obj)\n",
    "print(ser_obj[1:3])\n",
    "print(ser_obj.iloc[1:3])\n",
    "\n",
    "# DataFrame，iloc是前闭后开[)\n",
    "df_obj = pd.DataFrame(np.random.randn(5,4),\n",
    "                      columns = ['a', 'b', 'c', 'd'])\n",
    "\n",
    "print(df_obj.head())\n",
    "print(df_obj.iloc[0:2, 0:2])  # 注意和df_obj.loc[0:2, 'a']的区别\n",
    "print(df_obj.loc[0:2, 'a'])  # 标签索引，左闭右闭"
   ],
   "metadata": {
    "collapsed": false,
    "pycharm": {
     "name": "#%%\n"
    }
   }
  },
  {
   "cell_type": "markdown",
   "source": [
    "# 5 对齐运算"
   ],
   "metadata": {
    "collapsed": false
   }
  },
  {
   "cell_type": "code",
   "execution_count": null,
   "outputs": [],
   "source": [
    "import pandas as pd\n",
    "s1 = pd.Series(range(10, 20), index = range(10))\n",
    "s2 = pd.Series(range(20, 25), index = range(5))\n",
    "print(s1)\n",
    "print(s2)\n",
    "\n",
    "# Series 对齐运算\n",
    "print('s1+s2: ')\n",
    "s3=s1+s2\n",
    "print(s3)  #缺失数据默认是NaN  np.nan\n",
    "print(s3[6])\n",
    "print('-'*50)\n",
    "print(s1.add(s2, fill_value = 0))  #未对齐的数据将和填充值做运算"
   ],
   "metadata": {
    "collapsed": false,
    "pycharm": {
     "name": "#%%\n"
    }
   }
  },
  {
   "cell_type": "code",
   "execution_count": null,
   "outputs": [],
   "source": [
    "import numpy as np\n",
    "df1 = pd.DataFrame(np.ones((2,2)), columns = ['a', 'b'])\n",
    "df2 = pd.DataFrame(np.ones((3,3)), columns = ['a', 'b', 'c'])\n",
    "print(df1, '\\n', df2)\n",
    "print(df2.dtypes)  # 不同列可以是不同类型的数据\n",
    "print(df1-df2)\n",
    "print(df1.sub(df2, fill_value = 2)) #未对齐的数据将和填充值做运算"
   ],
   "metadata": {
    "collapsed": false,
    "pycharm": {
     "name": "#%%\n"
    }
   }
  },
  {
   "cell_type": "markdown",
   "source": [
    "# 6 Pandas的函数应用"
   ],
   "metadata": {
    "collapsed": false
   }
  },
  {
   "cell_type": "code",
   "execution_count": null,
   "outputs": [],
   "source": [
    "# Numpy ufunc 函数\n",
    "df = pd.DataFrame(np.random.randn(5,4) - 1)\n",
    "print(df)\n",
    "\n",
    "print(np.abs(df))  # 绝对值函数"
   ],
   "metadata": {
    "collapsed": false,
    "pycharm": {
     "name": "#%%\n"
    }
   }
  },
  {
   "cell_type": "code",
   "execution_count": null,
   "outputs": [],
   "source": [
    "#apply默认作用在列上\n",
    "print(df.apply(lambda x : x.max()))"
   ],
   "metadata": {
    "collapsed": false,
    "pycharm": {
     "name": "#%%\n"
    }
   }
  },
  {
   "cell_type": "code",
   "execution_count": null,
   "outputs": [],
   "source": [
    "#apply作用在行上\n",
    "print(df.apply(lambda x : x.max(), axis=1))\n",
    "print(type(df.apply(lambda x : x.max(), axis=1)))"
   ],
   "metadata": {
    "collapsed": false,
    "pycharm": {
     "name": "#%%\n"
    }
   }
  },
  {
   "cell_type": "code",
   "execution_count": null,
   "outputs": [],
   "source": [
    "# 使用applymap应用到每个数据\n",
    "print(df.applymap(lambda x : '%.2f' % x))\n",
    "df.dtypes"
   ],
   "metadata": {
    "collapsed": false,
    "pycharm": {
     "name": "#%%\n"
    }
   }
  },
  {
   "cell_type": "code",
   "execution_count": null,
   "outputs": [],
   "source": [
    "type('%.2f' % 1.3456)  # 字符串类型"
   ],
   "metadata": {
    "collapsed": false,
    "pycharm": {
     "name": "#%%\n"
    }
   }
  },
  {
   "cell_type": "markdown",
   "source": [
    "4 按索引排序"
   ],
   "metadata": {
    "collapsed": false
   }
  },
  {
   "cell_type": "code",
   "execution_count": null,
   "outputs": [],
   "source": [
    "# Series\n",
    "print(np.random.randint(5, size=5))\n",
    "s4 = pd.Series(range(10, 15), index = np.random.randint(5, size=5))\n",
    "print(s4)\n",
    "\n",
    "# 索引排序,sort_index返回一个新的排好索引的series\n",
    "print(s4.sort_index())\n",
    "print(s4)\n",
    "# s4.loc[0:3]  loc索引值不唯一时直接报错\n",
    "print(s4.iloc[0:3])\n",
    "s4[0:3]  # 默认用的位置索引"
   ],
   "metadata": {
    "collapsed": false,
    "pycharm": {
     "name": "#%%\n"
    }
   }
  },
  {
   "cell_type": "code",
   "execution_count": null,
   "outputs": [],
   "source": [
    "# DataFrame\n",
    "df4 = pd.DataFrame(np.random.randn(5, 5),\n",
    "                   index=np.random.randint(5, size=5),  # 行\n",
    "                   columns=np.random.randint(5, size=5))  # 列\n",
    "print(df4)\n",
    "# 轴零是行索引排序\n",
    "df4_isort = df4.sort_index(axis=0, ascending=False)  # 降序\n",
    "print(df4_isort)\n",
    "# 轴1是列索引排序\n",
    "df4_isort = df4.sort_index(axis=1, ascending=False)\n",
    "print(df4_isort)"
   ],
   "metadata": {
    "collapsed": false,
    "pycharm": {
     "name": "#%%\n"
    }
   }
  },
  {
   "cell_type": "markdown",
   "source": [
    "5 按值排序"
   ],
   "metadata": {
    "collapsed": false
   }
  },
  {
   "cell_type": "code",
   "execution_count": null,
   "outputs": [],
   "source": [
    "# 按值排序,by后是column的值\n",
    "import random\n",
    "l=[random.randint(0,100) for i in range(24)]\n",
    "df4 = pd.DataFrame(np.array(l).reshape(6,4))\n",
    "print(df4.values)\n",
    "print('-'*50)\n",
    "print(df4)\n",
    "print('-'*50)\n",
    "\n",
    "# 按轴零排序，by后是列名\n",
    "df4_vsort = df4.sort_values(by=3,axis=0, ascending=False) # 寻找的是columns里的3\n",
    "print(df4_vsort)\n",
    "\n",
    "# 按轴1排序，by后行索引名\n",
    "df4_vsort = df4.sort_values(by=3,axis=1, ascending=False) # 寻找的是index里的3\n",
    "print(df4_vsort)"
   ],
   "metadata": {
    "collapsed": false,
    "pycharm": {
     "name": "#%%\n"
    }
   }
  },
  {
   "cell_type": "markdown",
   "source": [
    "# 6 处理缺失数据"
   ],
   "metadata": {
    "collapsed": false
   }
  },
  {
   "cell_type": "code",
   "execution_count": null,
   "outputs": [],
   "source": [
    "df_data = pd.DataFrame([np.random.randn(3), [1., 2., np.nan],\n",
    "                        [np.nan, 4., np.nan], [1., 2., 3.]])\n",
    "print(df_data.head())"
   ],
   "metadata": {
    "collapsed": false,
    "pycharm": {
     "name": "#%%\n"
    }
   }
  },
  {
   "cell_type": "code",
   "execution_count": null,
   "outputs": [],
   "source": [
    "print(df_data.isnull())"
   ],
   "metadata": {
    "collapsed": false,
    "pycharm": {
     "name": "#%%\n"
    }
   }
  },
  {
   "cell_type": "code",
   "execution_count": null,
   "outputs": [],
   "source": [
    "print(df_data.dropna())"
   ],
   "metadata": {
    "collapsed": false,
    "pycharm": {
     "name": "#%%\n"
    }
   }
  },
  {
   "cell_type": "code",
   "execution_count": null,
   "outputs": [],
   "source": [
    "print(df_data.dropna(axis=1))  # 某列有nan就删除该列\n",
    "# 基本没什么用的操作，因为是删除掉了某一特征，很鸡肋"
   ],
   "metadata": {
    "collapsed": false,
    "pycharm": {
     "name": "#%%\n"
    }
   }
  },
  {
   "cell_type": "code",
   "execution_count": null,
   "outputs": [],
   "source": [
    "#给零列的空值填为-100\n",
    "print(df_data.iloc[:,0].fillna(-100.))"
   ],
   "metadata": {
    "collapsed": false,
    "pycharm": {
     "name": "#%%\n"
    }
   }
  },
  {
   "cell_type": "code",
   "execution_count": null,
   "outputs": [],
   "source": [
    "for i in df_data.columns:\n",
    "    print(i)"
   ],
   "metadata": {
    "collapsed": false,
    "pycharm": {
     "name": "#%%\n"
    }
   }
  },
  {
   "cell_type": "markdown",
   "source": [
    "# 7 层级索引（hierarchical indexing）"
   ],
   "metadata": {
    "collapsed": false
   }
  },
  {
   "cell_type": "code",
   "execution_count": null,
   "outputs": [],
   "source": [
    "import pandas as pd\n",
    "import numpy as np\n",
    "\n",
    "# MultiIndex是层级索引，索引类型的一种\n",
    "index1 = pd.MultiIndex.from_arrays([['a', 'a', 'a', 'b', 'b', 'b', 'c', 'c', 'c', 'd', 'd', 'd'],\n",
    "                [0, 1, 2, 0, 1, 2, 0, 1, 2, 0, 1, 2]], names=['cloth', 'size'])\n",
    "\n",
    "ser_obj = pd.Series(np.random.randn(12),index=index1)\n",
    "print(ser_obj)\n",
    "print(type(ser_obj))\n",
    "print(type(ser_obj.index))\n",
    "print(ser_obj.index)\n",
    "print(ser_obj.index.levels)\n",
    "ser_obj.index.codes"
   ],
   "metadata": {
    "collapsed": false,
    "pycharm": {
     "name": "#%%\n"
    }
   }
  },
  {
   "cell_type": "code",
   "execution_count": null,
   "outputs": [],
   "source": [
    "# 层级索引如何取数据\n",
    "print(ser_obj)\n",
    "print('-'*50)\n",
    "print(ser_obj['c'])\n",
    "print('-'*50)\n",
    "print(ser_obj['a', 2])\n",
    "print('-'*50)\n",
    "print(ser_obj[:, 2])"
   ],
   "metadata": {
    "collapsed": false,
    "pycharm": {
     "name": "#%%\n"
    }
   }
  },
  {
   "cell_type": "code",
   "execution_count": 22,
   "outputs": [
    {
     "name": "stdout",
     "output_type": "stream",
     "text": [
      "cloth  size\n",
      "a      0       1.422713\n",
      "       1      -0.289150\n",
      "       2      -0.286811\n",
      "b      0      -0.244828\n",
      "       1      -0.077338\n",
      "       2       0.608255\n",
      "c      0       0.540645\n",
      "       1       0.706036\n",
      "       2      -1.069390\n",
      "d      0      -2.025492\n",
      "       1       0.176507\n",
      "       2      -1.630801\n",
      "dtype: float64\n",
      "--------------------------------------------------\n",
      "cloth  size\n",
      "a      0       1.422713\n",
      "       1      -0.289150\n",
      "       2      -0.286811\n",
      "b      0      -0.244828\n",
      "       1      -0.077338\n",
      "       2       0.608255\n",
      "c      0       0.540645\n",
      "       1       0.706036\n",
      "       2      -1.069390\n",
      "d      0      -2.025492\n",
      "       1       0.176507\n",
      "       2      -1.630801\n",
      "dtype: float64\n",
      "cloth  size\n",
      "a      0       1.422713\n",
      "       1      -0.289150\n",
      "       2      -0.286811\n",
      "b      0      -0.244828\n",
      "       1      -0.077338\n",
      "       2       0.608255\n",
      "c      0       0.540645\n",
      "       1       0.706036\n",
      "       2      -1.069390\n",
      "d      0      -2.025492\n",
      "       1       0.176507\n",
      "       2      -1.630801\n",
      "dtype: float64\n",
      "cloth         a         b         c         d\n",
      "size                                         \n",
      "0      1.422713 -0.244828  0.540645 -2.025492\n",
      "1     -0.289150 -0.077338  0.706036  0.176507\n",
      "2     -0.286811  0.608255 -1.069390 -1.630801\n"
     ]
    }
   ],
   "source": [
    "#交换层级\n",
    "print(ser_obj.swaplevel())\n",
    "print('-'*50)\n",
    "\n",
    "ser_obj=ser_obj.swaplevel()\n",
    "print(ser_obj)\n",
    "print(ser_obj.sort_index(level=0))  # 层级索引按那个索引级别排序\n",
    "# 把0索引（最外层索引）变为列索引\n",
    "df_obj=ser_obj.unstack(0)  # unstack可以放索引名，或者索引位置\n",
    "print(df_obj)\n"
   ],
   "metadata": {
    "collapsed": false,
    "pycharm": {
     "name": "#%%\n"
    }
   }
  },
  {
   "cell_type": "code",
   "execution_count": 23,
   "outputs": [
    {
     "data": {
      "text/plain": "size  cloth\n0     a        1.422713\n      b       -0.244828\n      c        0.540645\n      d       -2.025492\n1     a       -0.289150\n      b       -0.077338\n      c        0.706036\n      d        0.176507\n2     a       -0.286811\n      b        0.608255\n      c       -1.069390\n      d       -1.630801\ndtype: float64"
     },
     "execution_count": 23,
     "metadata": {},
     "output_type": "execute_result"
    }
   ],
   "source": [
    "# 对df进行stack，就会把行，列索引进行堆叠，变为series\n",
    "df_obj.stack()  # stack变为series和unstack保持一致的"
   ],
   "metadata": {
    "collapsed": false,
    "pycharm": {
     "name": "#%%\n"
    }
   }
  },
  {
   "cell_type": "markdown",
   "source": [
    "# 8 Pandas统计计算和描述"
   ],
   "metadata": {
    "collapsed": false
   }
  },
  {
   "cell_type": "code",
   "execution_count": 24,
   "outputs": [
    {
     "name": "stdout",
     "output_type": "stream",
     "text": [
      "cloth         a         b         c         d\n",
      "size                                         \n",
      "0      1.422713 -0.244828  0.540645 -2.025492\n",
      "1     -0.289150 -0.077338  0.706036  0.176507\n",
      "2     -0.286811  0.608255 -1.069390 -1.630801\n",
      "cloth         a         b         c         d\n",
      "size                                         \n",
      "0      1.422713       NaN  0.540645 -2.025492\n",
      "1     -0.289150 -0.077338  0.706036  0.176507\n",
      "2     -0.286811  0.608255 -1.069390 -1.630801\n",
      "--------------------------------------------------\n",
      "cloth\n",
      "a   -0.289150\n",
      "b   -0.077338\n",
      "c   -1.069390\n",
      "d   -2.025492\n",
      "dtype: float64\n",
      "--------------------------------------------------\n",
      "cloth         a         b         c         d\n",
      "count  3.000000  2.000000  3.000000  3.000000\n",
      "mean   0.282250  0.265459  0.059097 -1.159929\n",
      "std    0.987670  0.484788  0.980791  1.174091\n",
      "min   -0.289150 -0.077338 -1.069390 -2.025492\n",
      "25%   -0.287981  0.094060 -0.264373 -1.828146\n",
      "50%   -0.286811  0.265459  0.540645 -1.630801\n",
      "75%    0.567951  0.436857  0.623341 -0.727147\n",
      "max    1.422713  0.608255  0.706036  0.176507\n"
     ]
    }
   ],
   "source": [
    "print(df_obj)\n",
    "df_obj.loc[0,'b']=np.nan  # 标签索引\n",
    "print(df_obj)\n",
    "print('-'*50)\n",
    "print(df_obj.min(axis=0, skipna=True))\n",
    "print('-'*50)\n",
    "print(df_obj.describe())  # 观察数据分布的一种方法"
   ],
   "metadata": {
    "collapsed": false,
    "pycharm": {
     "name": "#%%\n"
    }
   }
  },
  {
   "cell_type": "code",
   "execution_count": 25,
   "outputs": [
    {
     "data": {
      "text/plain": "size\n0    0.540645\n1    0.706036\n2   -1.069390\nName: c, dtype: float64"
     },
     "execution_count": 25,
     "metadata": {},
     "output_type": "execute_result"
    }
   ],
   "source": [
    "df_obj.loc[:,'c']"
   ],
   "metadata": {
    "collapsed": false,
    "pycharm": {
     "name": "#%%\n"
    }
   }
  },
  {
   "cell_type": "code",
   "execution_count": 26,
   "outputs": [
    {
     "name": "stdout",
     "output_type": "stream",
     "text": [
      "2\n"
     ]
    }
   ],
   "source": [
    "# 计算最小值或者最大值的索引的位置\n",
    "print(df_obj.loc[:,'c'].argmin())  # argmin和argmax只能是series，不能是df\n"
   ],
   "metadata": {
    "collapsed": false,
    "pycharm": {
     "name": "#%%\n"
    }
   }
  },
  {
   "cell_type": "code",
   "execution_count": 28,
   "outputs": [
    {
     "name": "stdout",
     "output_type": "stream",
     "text": [
      "cloth         a         b         c         d\n",
      "size                                         \n",
      "0      1.422713       NaN  0.540645 -2.025492\n",
      "1     -0.289150 -0.077338  0.706036  0.176507\n",
      "2     -0.286811  0.608255 -1.069390 -1.630801\n"
     ]
    },
    {
     "data": {
      "text/plain": "size\n0    d\n1    a\n2    d\ndtype: object"
     },
     "execution_count": 28,
     "metadata": {},
     "output_type": "execute_result"
    }
   ],
   "source": [
    "#返回的是一个series\n",
    "print(df_obj)\n",
    "df_obj.idxmin(axis=1)  # 计算最小值或者最大值的索引值"
   ],
   "metadata": {
    "collapsed": false,
    "pycharm": {
     "name": "#%%\n"
    }
   }
  },
  {
   "cell_type": "code",
   "execution_count": 32,
   "outputs": [
    {
     "name": "stdout",
     "output_type": "stream",
     "text": [
      "<class 'pandas.core.frame.DataFrame'>\n",
      "RangeIndex: 1000 entries, 0 to 999\n",
      "Data columns (total 12 columns):\n",
      " #   Column              Non-Null Count  Dtype  \n",
      "---  ------              --------------  -----  \n",
      " 0   Rank                1000 non-null   int64  \n",
      " 1   Title               1000 non-null   object \n",
      " 2   Genre               1000 non-null   object \n",
      " 3   Description         1000 non-null   object \n",
      " 4   Director            1000 non-null   object \n",
      " 5   Actors              1000 non-null   object \n",
      " 6   Year                1000 non-null   int64  \n",
      " 7   Runtime (Minutes)   1000 non-null   int64  \n",
      " 8   Rating              1000 non-null   float64\n",
      " 9   Votes               1000 non-null   int64  \n",
      " 10  Revenue (Millions)  872 non-null    float64\n",
      " 11  Metascore           936 non-null    float64\n",
      "dtypes: float64(3), int64(4), object(5)\n",
      "memory usage: 93.9+ KB\n",
      "None\n",
      "**************************************************\n",
      "              Rank         Year  Runtime (Minutes)       Rating         Votes  \\\n",
      "count  1000.000000  1000.000000        1000.000000  1000.000000  1.000000e+03   \n",
      "mean    500.500000  2012.783000         113.172000     6.723200  1.698083e+05   \n",
      "std     288.819436     3.205962          18.810908     0.945429  1.887626e+05   \n",
      "min       1.000000  2006.000000          66.000000     1.900000  6.100000e+01   \n",
      "25%     250.750000  2010.000000         100.000000     6.200000  3.630900e+04   \n",
      "50%     500.500000  2014.000000         111.000000     6.800000  1.107990e+05   \n",
      "75%     750.250000  2016.000000         123.000000     7.400000  2.399098e+05   \n",
      "max    1000.000000  2016.000000         191.000000     9.000000  1.791916e+06   \n",
      "\n",
      "       Revenue (Millions)   Metascore  \n",
      "count          872.000000  936.000000  \n",
      "mean            82.956376   58.985043  \n",
      "std            103.253540   17.194757  \n",
      "min              0.000000   11.000000  \n",
      "25%             13.270000   47.000000  \n",
      "50%             47.985000   59.500000  \n",
      "75%            113.715000   72.000000  \n",
      "max            936.630000  100.000000  \n",
      "   Rank                    Title                    Genre  \\\n",
      "0     1  Guardians of the Galaxy  Action,Adventure,Sci-Fi   \n",
      "\n",
      "                                         Description    Director  \\\n",
      "0  A group of intergalactic criminals are forced ...  James Gunn   \n",
      "\n",
      "                                              Actors  Year  Runtime (Minutes)  \\\n",
      "0  Chris Pratt, Vin Diesel, Bradley Cooper, Zoe S...  2014                121   \n",
      "\n",
      "   Rating   Votes  Revenue (Millions)  Metascore  \n",
      "0     8.1  757074              333.13       76.0  \n",
      "**************************************************\n",
      "--------------------------------------------------\n",
      "644\n",
      "644\n",
      "2015\n",
      "125\n",
      "--------------------------------------------------\n"
     ]
    },
    {
     "data": {
      "text/plain": "<Figure size 1600x640 with 1 Axes>",
      "image/png": "[encoded data removed]"
     },
     "metadata": {
      "needs_background": "light"
     },
     "output_type": "display_data"
    }
   ],
   "source": [
    "import pandas as pd\n",
    "from matplotlib import pyplot as plt\n",
    "\n",
    "file_path = \"IMDB-Movie-Data.csv\"\n",
    "df = pd.read_csv(file_path) # 不加路径默认当前路径\n",
    "# 打印数据信息\n",
    "print(df.info())\n",
    "print(\"*\"*50)\n",
    "print(df.describe())\n",
    "print(df.head(1))\n",
    "print('-'*50)\n",
    "\n",
    "# 导演的人数\n",
    "print(len(set(df[\"Director\"].tolist())))\n",
    "print(len(df[\"Director\"].unique()))\n",
    "\n",
    "# # 获取演员的人数\n",
    "temp_actors_list = df[\"Actors\"].str.split(\", \").tolist()  #二维列表\n",
    "# print(temp_actors_list)\n",
    "actors_list = [i for j in temp_actors_list for i in j]  #二维展为一维\n",
    "actors_num = len(set(actors_list))\n",
    "print(actors_num)\n",
    "\n",
    "# runtime分布情况\n",
    "# 选择图形，直方图\n",
    "# 准备数据\n",
    "runtime_data = df[\"Runtime (Minutes)\"].values\n",
    "\n",
    "max_runtime = runtime_data.max()\n",
    "min_runtime = runtime_data.min()\n",
    "\n",
    "# 计算组数\n",
    "print(max_runtime - min_runtime)\n",
    "print('-'*50)\n",
    "num_bin = (max_runtime - min_runtime) // 5\n",
    "\n",
    "# 设置图形的大小\n",
    "plt.figure(figsize=(20, 8), dpi=80)\n",
    "# 第二个bins参数必须为int或sequence或str，bins代表划分为多少个单元\n",
    "plt.hist(runtime_data, int(num_bin))\n",
    "\n",
    "plt.xticks(range(min_runtime, max_runtime + 5, 5))\n",
    "\n",
    "plt.show()"
   ],
   "metadata": {
    "collapsed": false,
    "pycharm": {
     "name": "#%%\n"
    }
   }
  },
  {
   "cell_type": "code",
   "execution_count": 1,
   "outputs": [
    {
     "name": "stdout",
     "output_type": "stream",
     "text": [
      "<class 'pandas.core.frame.DataFrame'>\n",
      "RangeIndex: 1000 entries, 0 to 999\n",
      "Data columns (total 12 columns):\n",
      " #   Column              Non-Null Count  Dtype  \n",
      "---  ------              --------------  -----  \n",
      " 0   Rank                1000 non-null   int64  \n",
      " 1   Title               1000 non-null   object \n",
      " 2   Genre               1000 non-null   object \n",
      " 3   Description         1000 non-null   object \n",
      " 4   Director            1000 non-null   object \n",
      " 5   Actors              1000 non-null   object \n",
      " 6   Year                1000 non-null   int64  \n",
      " 7   Runtime (Minutes)   1000 non-null   int64  \n",
      " 8   Rating              1000 non-null   float64\n",
      " 9   Votes               1000 non-null   int64  \n",
      " 10  Revenue (Millions)  872 non-null    float64\n",
      " 11  Metascore           936 non-null    float64\n",
      "dtypes: float64(3), int64(4), object(5)\n",
      "memory usage: 93.9+ KB\n",
      "None\n",
      "   Rank                    Title                    Genre  \\\n",
      "0     1  Guardians of the Galaxy  Action,Adventure,Sci-Fi   \n",
      "\n",
      "                                         Description    Director  \\\n",
      "0  A group of intergalactic criminals are forced ...  James Gunn   \n",
      "\n",
      "                                              Actors  Year  Runtime (Minutes)  \\\n",
      "0  Chris Pratt, Vin Diesel, Bradley Cooper, Zoe S...  2014                121   \n",
      "\n",
      "   Rating   Votes  Revenue (Millions)  Metascore  \n",
      "0     8.1  757074              333.13       76.0  \n",
      "6.723199999999999\n",
      "644\n",
      "644\n",
      "2015\n",
      "--------------------------------------------------\n",
      "9.0 1.9\n",
      "7.1\n"
     ]
    },
    {
     "data": {
      "text/plain": "<Figure size 1600x640 with 1 Axes>",
      "image/png": "[encoded data removed]"
     },
     "metadata": {
      "needs_background": "light"
     },
     "output_type": "display_data"
    }
   ],
   "source": [
    "import pandas as pd\n",
    "from matplotlib import pyplot as plt\n",
    "\n",
    "file_path = \"IMDB-Movie-Data.csv\"\n",
    "df = pd.read_csv(file_path)\n",
    "# 打印数据信息\n",
    "print(df.info())\n",
    "\n",
    "print(df.head(1))\n",
    "\n",
    "# 获取平均评分\n",
    "print(df[\"Rating\"].mean())\n",
    "\n",
    "# 导演的人数\n",
    "print(len(set(df[\"Director\"].tolist())))\n",
    "print(len(df[\"Director\"].unique()))\n",
    "\n",
    "# 获取演员的人数\n",
    "temp_actors_list = df[\"Actors\"].str.split(\", \").tolist()\n",
    "actors_list = [i for j in temp_actors_list for i in j]\n",
    "actors_num = len(set(actors_list))\n",
    "print(actors_num)\n",
    "\n",
    "# rating分布情况\n",
    "# 选择图形，直方图\n",
    "# 准备数据\n",
    "rating_data = df[\"Rating\"].values\n",
    "\n",
    "max_rating = rating_data.max()\n",
    "min_rating = rating_data.min()\n",
    "print('-'*50)\n",
    "print(max_rating,min_rating)\n",
    "# 计算组数\n",
    "print(max_rating - min_rating)\n",
    "num_bin = (max_rating - min_rating) // 0.5\n",
    "\n",
    "# 设置图形的大小\n",
    "plt.figure(figsize=(20, 8), dpi=80)\n",
    "# 第二个bins参数必须为int或sequence或str，bins代表划分为多少个单元\n",
    "plt.hist(rating_data, int(num_bin))\n",
    "\n",
    "#因为range的步长不支持0.5\n",
    "_x = [min_rating]\n",
    "i = min_rating\n",
    "while i <= max_rating + 0.5:\n",
    "    i = i + 0.5\n",
    "    _x.append(i)\n",
    "\n",
    "plt.xticks(_x)\n",
    "\n",
    "plt.show()"
   ],
   "metadata": {
    "collapsed": false,
    "pycharm": {
     "name": "#%%\n"
    }
   }
  },
  {
   "cell_type": "code",
   "execution_count": 34,
   "outputs": [
    {
     "name": "stdout",
     "output_type": "stream",
     "text": [
      "0     Action,Adventure,Sci-Fi\n",
      "1    Adventure,Mystery,Sci-Fi\n",
      "2             Horror,Thriller\n",
      "Name: Genre, dtype: object\n",
      "20\n",
      "     Horror  Fantasy  Biography  Animation  Romance  History  Family  Music  \\\n",
      "0       0.0      0.0        0.0        0.0      0.0      0.0     0.0    0.0   \n",
      "1       0.0      0.0        0.0        0.0      0.0      0.0     0.0    0.0   \n",
      "2       0.0      0.0        0.0        0.0      0.0      0.0     0.0    0.0   \n",
      "3       0.0      0.0        0.0        0.0      0.0      0.0     0.0    0.0   \n",
      "4       0.0      0.0        0.0        0.0      0.0      0.0     0.0    0.0   \n",
      "..      ...      ...        ...        ...      ...      ...     ...    ...   \n",
      "995     0.0      0.0        0.0        0.0      0.0      0.0     0.0    0.0   \n",
      "996     0.0      0.0        0.0        0.0      0.0      0.0     0.0    0.0   \n",
      "997     0.0      0.0        0.0        0.0      0.0      0.0     0.0    0.0   \n",
      "998     0.0      0.0        0.0        0.0      0.0      0.0     0.0    0.0   \n",
      "999     0.0      0.0        0.0        0.0      0.0      0.0     0.0    0.0   \n",
      "\n",
      "     Sci-Fi  War  Mystery  Comedy  Musical  Action  Thriller  Crime  Sport  \\\n",
      "0       0.0  0.0      0.0     0.0      0.0     0.0       0.0    0.0    0.0   \n",
      "1       0.0  0.0      0.0     0.0      0.0     0.0       0.0    0.0    0.0   \n",
      "2       0.0  0.0      0.0     0.0      0.0     0.0       0.0    0.0    0.0   \n",
      "3       0.0  0.0      0.0     0.0      0.0     0.0       0.0    0.0    0.0   \n",
      "4       0.0  0.0      0.0     0.0      0.0     0.0       0.0    0.0    0.0   \n",
      "..      ...  ...      ...     ...      ...     ...       ...    ...    ...   \n",
      "995     0.0  0.0      0.0     0.0      0.0     0.0       0.0    0.0    0.0   \n",
      "996     0.0  0.0      0.0     0.0      0.0     0.0       0.0    0.0    0.0   \n",
      "997     0.0  0.0      0.0     0.0      0.0     0.0       0.0    0.0    0.0   \n",
      "998     0.0  0.0      0.0     0.0      0.0     0.0       0.0    0.0    0.0   \n",
      "999     0.0  0.0      0.0     0.0      0.0     0.0       0.0    0.0    0.0   \n",
      "\n",
      "     Adventure  Drama  Western  \n",
      "0          0.0    0.0      0.0  \n",
      "1          0.0    0.0      0.0  \n",
      "2          0.0    0.0      0.0  \n",
      "3          0.0    0.0      0.0  \n",
      "4          0.0    0.0      0.0  \n",
      "..         ...    ...      ...  \n",
      "995        0.0    0.0      0.0  \n",
      "996        0.0    0.0      0.0  \n",
      "997        0.0    0.0      0.0  \n",
      "998        0.0    0.0      0.0  \n",
      "999        0.0    0.0      0.0  \n",
      "\n",
      "[1000 rows x 20 columns]\n",
      "   Horror  Fantasy  Biography  Animation  Romance  History  Family  Music  \\\n",
      "0     0.0      0.0        0.0        0.0      0.0      0.0     0.0    0.0   \n",
      "1     0.0      0.0        0.0        0.0      0.0      0.0     0.0    0.0   \n",
      "2     1.0      0.0        0.0        0.0      0.0      0.0     0.0    0.0   \n",
      "\n",
      "   Sci-Fi  War  Mystery  Comedy  Musical  Action  Thriller  Crime  Sport  \\\n",
      "0     1.0  0.0      0.0     0.0      0.0     1.0       0.0    0.0    0.0   \n",
      "1     1.0  0.0      1.0     0.0      0.0     0.0       0.0    0.0    0.0   \n",
      "2     0.0  0.0      0.0     0.0      0.0     0.0       1.0    0.0    0.0   \n",
      "\n",
      "   Adventure  Drama  Western  \n",
      "0        1.0    0.0      0.0  \n",
      "1        1.0    0.0      0.0  \n",
      "2        0.0    0.0      0.0  \n",
      "Horror       119.0\n",
      "Fantasy      101.0\n",
      "Biography     81.0\n",
      "Animation     49.0\n",
      "Romance      141.0\n",
      "History       29.0\n",
      "Family        51.0\n",
      "Music         16.0\n",
      "Sci-Fi       120.0\n",
      "War           13.0\n",
      "Mystery      106.0\n",
      "Comedy       279.0\n",
      "Musical        5.0\n",
      "Action       303.0\n",
      "Thriller     195.0\n",
      "Crime        150.0\n",
      "Sport         18.0\n",
      "Adventure    259.0\n",
      "Drama        513.0\n",
      "Western        7.0\n",
      "dtype: float64\n"
     ]
    },
    {
     "data": {
      "text/plain": "<Figure size 1600x640 with 1 Axes>",
      "image/png": "[encoded data removed]"
     },
     "metadata": {
      "needs_background": "light"
     },
     "output_type": "display_data"
    }
   ],
   "source": [
    "import pandas as pd\n",
    "from matplotlib import pyplot as plt\n",
    "import numpy as np\n",
    "#导演要拍什么题材电影\n",
    "file_path = \"./IMDB-Movie-Data.csv\"\n",
    "\n",
    "df = pd.read_csv(file_path)\n",
    "print(df[\"Genre\"].head(3))  #看前几条数据，掌握格式，内容类型\n",
    "# 统计分类的列表\n",
    "temp_list = df[\"Genre\"].str.split(\",\").tolist()  # [[],[],[]]\n",
    "# 二维变为1位\n",
    "genre_list = list(set([i for j in temp_list for i in j]))\n",
    "print(len(genre_list))\n",
    "# 构造全为0的数组，行是原来的样本数，列是题材类型数目，one-hot编码，\n",
    "zeros_df = pd.DataFrame(np.zeros((df.shape[0], len(genre_list))), columns=genre_list)\n",
    "print(zeros_df)\n",
    "\n",
    "# 给每个电影出现分类的位置赋值1\n",
    "for i in range(df.shape[0]):\n",
    "    # zeros_df.loc[0,[\"Sci-fi\",\"Musical\"]] = 1\n",
    "    zeros_df.loc[i, temp_list[i]] = 1\n",
    "\n",
    "print(zeros_df.head(3))\n",
    "\n",
    "# 统计每个分类的电影的数量和，genre_count是什么类型？\n",
    "genre_count = zeros_df.sum(axis=0)\n",
    "print(genre_count)\n",
    "\n",
    "# 排序\n",
    "genre_count = genre_count.sort_values()\n",
    "_x = genre_count.index\n",
    "_y = genre_count.values\n",
    "# 画图\n",
    "plt.figure(figsize=(20, 8), dpi=80)\n",
    "plt.bar(range(len(_x)), _y, width=0.4, color=\"orange\")\n",
    "plt.xticks(range(len(_x)), _x)\n",
    "plt.show()"
   ],
   "metadata": {
    "collapsed": false,
    "pycharm": {
     "name": "#%%\n"
    }
   }
  },
  {
   "cell_type": "markdown",
   "source": [
    "# 电影数据-关系分析"
   ],
   "metadata": {
    "collapsed": false
   }
  },
  {
   "cell_type": "markdown",
   "source": [
    "1.票房与导演的关系"
   ],
   "metadata": {
    "collapsed": false
   }
  },
  {
   "cell_type": "code",
   "execution_count": 8,
   "outputs": [
    {
     "name": "stdout",
     "output_type": "stream",
     "text": [
      "644\n",
      "644\n",
      "Director\n",
      "Aamir Khan               1.20\n",
      "Abdellatif Kechiche      2.20\n",
      "Adam Leon                0.00\n",
      "Adam McKay             438.14\n",
      "Adam Shankman          157.33\n",
      "                        ...  \n",
      "Xavier Dolan             3.49\n",
      "Yimou Zhang             45.13\n",
      "Yorgos Lanthimos         8.81\n",
      "Zack Snyder            975.74\n",
      "Zackary Adler            6.53\n",
      "Name: Revenue (Millions), Length: 644, dtype: float64\n",
      "<zip object at 0x000002353D45CC80>\n",
      "[1.20000e+00 2.20000e+00 0.00000e+00 4.38140e+02 1.57330e+02 2.10700e+01\n",
      " 0.00000e+00 0.00000e+00 0.00000e+00 9.39000e+00 2.96090e+02 9.48200e+01\n",
      " 5.00000e-02 2.60280e+02 1.43520e+02 2.54400e+01 3.11400e+01 0.00000e+00\n",
      " 8.26200e+01 6.69400e+01 0.00000e+00 0.00000e+00 3.09370e+02 6.74000e+00\n",
      " 1.90600e+01 0.00000e+00 3.90000e+00 0.00000e+00 6.60000e-01 3.90000e+00\n",
      " 5.80000e-01 6.41700e+01 7.83160e+02 2.30500e+01 0.00000e+00 7.15900e+01\n",
      " 2.34000e+00 0.00000e+00 7.02200e+01 1.26700e+02 1.15600e+02 2.20000e-01\n",
      " 3.03500e+01 2.29220e+02 3.20000e-01 6.67830e+02 3.93210e+02 3.00000e-01\n",
      " 0.00000e+00 3.40200e+01 1.42700e+01 1.86000e+01 3.40000e+00 9.40000e+00\n",
      " 0.00000e+00 5.20700e+01 6.24000e+01 4.32500e+01 2.78500e+01 1.98660e+02\n",
      " 1.94360e+02 2.58870e+02 6.30300e+01 1.97490e+02 2.14000e+00 0.00000e+00\n",
      " 4.85000e+00 7.56100e+01 5.73580e+02 0.00000e+00 5.00000e-02 4.26500e+01\n",
      " 3.67700e+01 6.76000e+00 5.09220e+02 1.54300e+01 1.55180e+02 2.73600e+01\n",
      " 3.07020e+02 9.68700e+01 2.84800e+01 6.90000e-01 5.25300e+01 5.89310e+02\n",
      " 7.50600e+01 3.41260e+02 0.00000e+00 0.00000e+00 1.43620e+02 1.12300e+01\n",
      " 1.91450e+02 4.79500e+01 4.30000e+01 2.01000e+00 4.00740e+02 1.67510e+02\n",
      " 4.00000e-02 0.00000e+00 3.68310e+02 0.00000e+00 3.30400e+01 7.00800e+01\n",
      " 1.03300e+01 4.68200e+01 4.69800e+01 2.70320e+02 3.64000e+00 2.53680e+02\n",
      " 1.51509e+03 0.00000e+00 2.90000e-01 1.07510e+02 6.58990e+02 4.18000e+01\n",
      " 6.52180e+02 0.00000e+00 0.00000e+00 0.00000e+00 5.17800e+01 2.75500e+01\n",
      " 1.30000e-01 2.38660e+02 1.64150e+02 3.08000e+00 0.00000e+00 4.48000e+01\n",
      " 3.22800e+01 4.21000e+00 3.55400e+01 2.68490e+02 7.19000e+01 1.21000e+00\n",
      " 0.00000e+00 1.83400e+02 2.18250e+02 5.40000e-01 4.51710e+02 1.01690e+02\n",
      " 1.71100e+01 4.71100e+01 6.72400e+01 5.27720e+02 1.55710e+02 1.08900e+02\n",
      " 0.00000e+00 7.62000e+01 0.00000e+00 2.68600e+01 4.32220e+02 3.40100e+01\n",
      " 1.46700e+01 4.00000e-02 6.00000e-02 3.00520e+02 4.20000e+01 1.63051e+03\n",
      " 3.94390e+02 0.00000e+00 2.16210e+02 4.98720e+02 2.12000e+01 5.76400e+01\n",
      " 4.36100e+01 1.57900e+01 0.00000e+00 0.00000e+00 2.22490e+02 3.23600e+01\n",
      " 1.80360e+02 3.00000e-02 4.20400e+01 1.06880e+02 0.00000e+00 8.11100e+01\n",
      " 1.48130e+02 3.20000e-01 2.47600e+01 1.92270e+02 2.00000e-01 2.20000e+00\n",
      " 0.00000e+00 2.87700e+01 5.98000e+00 9.03500e+01 2.75300e+02 1.07580e+02\n",
      " 0.00000e+00 2.34370e+02 0.00000e+00 6.88000e+00 1.43450e+02 0.00000e+00\n",
      " 0.00000e+00 0.00000e+00 1.12800e+01 1.29981e+03 4.62800e+01 2.55900e+01\n",
      " 1.37500e+01 8.60000e-01 5.00000e-02 4.82400e+01 8.22300e+01 2.32540e+02\n",
      " 7.32830e+02 3.24600e+01 5.16900e+01 0.00000e+00 4.08000e+02 5.59400e+01\n",
      " 5.87200e+01 0.00000e+00 1.40000e+00 2.60240e+02 9.98500e+01 0.00000e+00\n",
      " 1.69690e+02 3.51620e+02 1.55500e+02 9.75000e+01 0.00000e+00 0.00000e+00\n",
      " 9.00000e-02 1.38090e+02 8.29820e+02 5.33600e+01 0.00000e+00 1.01600e+01\n",
      " 1.73730e+02 9.76600e+01 3.90000e+01 0.00000e+00 0.00000e+00 2.46220e+02\n",
      " 2.00000e-02 4.46970e+02 3.36000e+00 2.07760e+02 1.41200e+01 3.85600e+01\n",
      " 7.52800e+01 1.91000e+00 0.00000e+00 7.90000e-01 0.00000e+00 0.00000e+00\n",
      " 0.00000e+00 9.24000e+00 7.06300e+01 3.49100e+01 2.27300e+01 3.85000e+00\n",
      " 1.68345e+03 0.00000e+00 0.00000e+00 3.85400e+01 3.19900e+01 4.60100e+01\n",
      " 0.00000e+00 0.00000e+00 7.70400e+01 7.60510e+02 1.43420e+02 0.00000e+00\n",
      " 8.01000e+00 3.41220e+02 0.00000e+00 1.32550e+02 3.58900e+01 6.85000e+00\n",
      " 3.40000e+00 6.43870e+02 7.00000e-02 4.00000e-02 9.35000e+00 2.00000e-01\n",
      " 1.73600e+01 1.41700e+01 1.52030e+02 2.27300e+02 1.57780e+02 9.39500e+01\n",
      " 6.70000e+01 5.40000e-01 0.00000e+00 1.14100e+01 5.36000e+01 0.00000e+00\n",
      " 3.33000e+00 9.20000e-01 1.50000e-01 3.22000e+00 3.15800e+01 2.14000e+00\n",
      " 2.00000e-02 0.00000e+00 2.02000e+00 4.10100e+01 7.72100e+01 1.76640e+02\n",
      " 1.38930e+02 4.37700e+01 2.07600e+01 0.00000e+00 1.94000e+01 4.40500e+01\n",
      " 2.72900e+01 5.88800e+01 6.03100e+01 5.00900e+01 1.02000e+00 4.35500e+02\n",
      " 3.52040e+02 3.43300e+01 3.44000e+00 0.00000e+00 0.00000e+00 8.42600e+01\n",
      " 1.31560e+02 1.36500e+01 1.02560e+03 5.67200e+01 2.00000e-02 1.13080e+02\n",
      " 2.45550e+02 3.00000e-02 5.00000e-02 5.98900e+01 2.61000e+00 0.00000e+00\n",
      " 4.71000e+00 1.01320e+02 2.74510e+02 1.29000e+00 5.01500e+01 2.27000e+00\n",
      " 2.44800e+01 2.61070e+02 1.24870e+02 5.47300e+01 5.61100e+01 1.08227e+03\n",
      " 5.86100e+01 2.86400e+01 2.01700e+01 3.26260e+02 5.10000e-01 3.00000e-02\n",
      " 2.43400e+01 2.68100e+01 3.00000e-02 5.46500e+01 8.24790e+02 4.40000e+00\n",
      " 1.50000e-01 0.00000e+00 1.64300e+01 1.11420e+02 0.00000e+00 1.42600e+01\n",
      " 0.00000e+00 0.00000e+00 4.32720e+02 4.77000e+01 1.27710e+02 3.32700e+01\n",
      " 3.52700e+01 1.00670e+02 3.16600e+01 3.36030e+02 6.40000e-01 4.73800e+01\n",
      " 5.96200e+01 4.55000e+00 7.13500e+01 1.64170e+02 4.24800e+01 4.14980e+02\n",
      " 1.93400e+02 1.46800e+01 8.10000e-01 3.15400e+01 0.00000e+00 0.00000e+00\n",
      " 1.69500e+01 4.22270e+02 1.63470e+02 1.98000e+00 8.23900e+01 3.91000e+00\n",
      " 1.74000e+00 3.70490e+02 4.68000e+00 5.40100e+01 3.70720e+02 4.97270e+02\n",
      " 0.00000e+00 8.62700e+01 1.48000e+00 0.00000e+00 2.37280e+02 9.03000e+00\n",
      " 1.39900e+01 2.15400e+02 1.15800e+02 7.79000e+00 0.00000e+00 2.83600e+02\n",
      " 0.00000e+00 2.27500e+01 4.58110e+02 0.00000e+00 3.86000e+00 3.00700e+02\n",
      " 5.88000e+00 8.00000e-02 3.61050e+02 0.00000e+00 3.59000e+00 2.10770e+02\n",
      " 1.17980e+02 2.80000e-01 1.42132e+03 1.03700e+01 9.20000e-01 0.00000e+00\n",
      " 1.36000e+00 1.29000e+00 2.67600e+01 0.00000e+00 1.04130e+02 2.47970e+02\n",
      " 1.44400e+01 0.00000e+00 1.07200e+01 0.00000e+00 4.07000e+00 6.69500e+01\n",
      " 9.71000e+01 4.42000e+00 3.30000e-01 6.25900e+01 4.40000e-01 5.66000e+00\n",
      " 9.07600e+01 6.40600e+01 8.81000e+00 0.00000e+00 1.91130e+02 6.23200e+01\n",
      " 2.87000e+00 7.52700e+01 0.00000e+00 2.00810e+02 0.00000e+00 2.69900e+02\n",
      " 1.20000e-01 1.47220e+02 0.00000e+00 3.40890e+02 8.39100e+01 3.64800e+01\n",
      " 1.01000e+01 5.47200e+01 5.20000e+01 1.11500e+01 1.06370e+02 6.87900e+01\n",
      " 1.29000e+00 8.92500e+01 1.31800e+01 0.00000e+00 2.00000e-02 1.39600e+01\n",
      " 3.00000e-02 0.00000e+00 2.70000e+00 0.00000e+00 6.16900e+01 1.00000e-02\n",
      " 3.92900e+01 0.00000e+00 4.58000e+01 5.67820e+02 4.96400e+02 2.82600e+01\n",
      " 6.46900e+01 0.00000e+00 2.08920e+02 3.19000e+00 6.49430e+02 1.34000e+01\n",
      " 2.05700e+01 5.11330e+02 1.09180e+02 8.60450e+02 3.45300e+01 2.98870e+02\n",
      " 0.00000e+00 5.87830e+02 1.10000e-01 1.00000e-02 1.63400e+02 1.43700e+02\n",
      " 6.19550e+02 1.55640e+02 3.37440e+02 5.04600e+01 1.70900e+01 2.77750e+02\n",
      " 6.64700e+01 4.21000e+00 1.89410e+02 1.52900e+01 1.09710e+02 2.87300e+01\n",
      " 0.00000e+00 1.74700e+01 7.19060e+02 1.37570e+02 8.00200e+01 3.69060e+02\n",
      " 7.80000e-01 2.51400e+01 1.70080e+02 2.50300e+01 2.86360e+02 2.41410e+02\n",
      " 2.26120e+02 1.00000e-02 4.00000e-02 3.42350e+02 0.00000e+00 1.55200e+01\n",
      " 3.53120e+02 3.03690e+02 1.87100e+01 1.21590e+02 1.55110e+02 2.10370e+02\n",
      " 1.09710e+02 7.00000e-02 6.60100e+01 6.50000e+00 5.27310e+02 5.71430e+02\n",
      " 1.66150e+02 2.13000e+00 0.00000e+00 0.00000e+00 7.38900e+01 2.80660e+02\n",
      " 2.59800e+01 6.04400e+01 4.01700e+01 4.35700e+01 2.04730e+02 2.96000e+00\n",
      " 0.00000e+00 1.83500e+01 1.71800e+01 1.17530e+02 3.42510e+02 2.33900e+01\n",
      " 4.45240e+02 2.40900e+01 0.00000e+00 2.43860e+02 0.00000e+00 3.33100e+01\n",
      " 3.00000e-02 6.40300e+01 8.50200e+01 1.00000e-02 1.59600e+01 2.55600e+01\n",
      " 8.85000e+01 0.00000e+00 1.77400e+01 0.00000e+00 2.73700e+01 7.22000e+00\n",
      " 1.50170e+02 6.08200e+01 5.40000e-01 1.36000e+00 4.25800e+01 9.00000e-02\n",
      " 0.00000e+00 3.06490e+02 6.26990e+02 3.77000e+00 2.15970e+02 5.20000e+00\n",
      " 9.80600e+01 2.45020e+02 1.66000e+00 1.08000e+00 1.38600e+01 0.00000e+00\n",
      " 7.69000e+00 0.00000e+00 5.62300e+01 1.69270e+02 6.10000e-01 1.32560e+02\n",
      " 5.54020e+02 1.77340e+02 3.63020e+02 1.60950e+02 2.50000e-01 3.20330e+02\n",
      " 0.00000e+00 1.06400e+01 2.60500e+01 3.00290e+02 4.49900e+01 1.48340e+02\n",
      " 1.80000e-01 3.35100e+01 2.41000e+01 1.13170e+02 8.15600e+01 4.80200e+01\n",
      " 0.00000e+00 2.30100e+01 1.53690e+02 0.00000e+00 3.65000e+00 5.48000e+00\n",
      " 1.25580e+02 1.84100e+02 3.81800e+01 1.40100e+01 2.00110e+02 0.00000e+00\n",
      " 3.57900e+01 0.00000e+00 1.41190e+02 3.49000e+00 4.51300e+01 8.81000e+00\n",
      " 9.75740e+02 6.53000e+00]\n"
     ]
    },
    {
     "data": {
      "text/plain": "<Figure size 1600x640 with 0 Axes>"
     },
     "execution_count": 8,
     "metadata": {},
     "output_type": "execute_result"
    },
    {
     "data": {
      "text/plain": "<Figure size 1600x640 with 0 Axes>"
     },
     "metadata": {},
     "output_type": "display_data"
    }
   ],
   "source": [
    "import pandas as pd\n",
    "from matplotlib import pyplot as plt\n",
    "\n",
    "file_path = \"IMDB-Movie-Data.csv\"\n",
    "df = pd.read_csv(file_path)\n",
    "\n",
    "# 导演的人数\n",
    "print(len(set(df[\"Director\"].tolist())))\n",
    "print(len(df[\"Director\"].unique()))\n",
    "director_num = len(df[\"Director\"].unique())\n",
    "\n",
    "# 选择图形，散点图\n",
    "# 准备数据\n",
    "revenue = df[\"Revenue (Millions)\"].groupby(df[\"Director\"]).sum()\n",
    "print(revenue)\n",
    "\n",
    "_y = revenue.values\n",
    "# _x =\n",
    "# 设置图形大小\n",
    "plt.figure( figsize=(20, 8), dpi=80 )\n",
    "# 使用scatter绘制散点图\n",
    "# plt.scatter( x, y, label='3月份' )"
   ],
   "metadata": {
    "collapsed": false,
    "pycharm": {
     "name": "#%%\n"
    }
   }
  },
  {
   "cell_type": "markdown",
   "source": [
    "2.票房与演员的关系"
   ],
   "metadata": {
    "collapsed": false
   }
  },
  {
   "cell_type": "markdown",
   "source": [
    "3.票房与电影题材的关系"
   ],
   "metadata": {
    "collapsed": false
   }
  },
  {
   "cell_type": "markdown",
   "source": [
    "4.评分与票房的关系"
   ],
   "metadata": {
    "collapsed": false
   }
  },
  {
   "cell_type": "markdown",
   "source": [
    "5.时长与票房的关系"
   ],
   "metadata": {
    "collapsed": false
   }
  },
  {
   "cell_type": "markdown",
   "source": [
    "# 9 Pandas分组与聚合"
   ],
   "metadata": {
    "collapsed": false
   }
  },
  {
   "cell_type": "code",
   "execution_count": 35,
   "outputs": [
    {
     "name": "stdout",
     "output_type": "stream",
     "text": [
      "  key1   key2     data1     data2\n",
      "0    a    one  0.241580 -1.345097\n",
      "1    b    one  1.019846  1.351051\n",
      "2    a    two -0.643605  0.184093\n",
      "3    b  three -0.588190  2.320644\n",
      "4    a    two -1.298028  0.278463\n",
      "5    b    two -1.446970  0.498766\n",
      "6    a    one  0.895290 -0.029943\n",
      "7    a  three -0.989878 -0.362506\n",
      "<pandas.core.groupby.generic.DataFrameGroupBy object at 0x00000211CEA40EB0>\n",
      "<class 'pandas.core.groupby.generic.DataFrameGroupBy'>\n",
      "--------------------------------------------------\n",
      "0    0.241580\n",
      "1    1.019846\n",
      "2   -0.643605\n",
      "3   -0.588190\n",
      "4   -1.298028\n",
      "5   -1.446970\n",
      "6    0.895290\n",
      "7   -0.989878\n",
      "Name: data1, dtype: float64\n",
      "<class 'pandas.core.groupby.generic.SeriesGroupBy'>\n",
      "         data1     data2\n",
      "key1                    \n",
      "a    -0.358928 -0.254998\n",
      "b    -0.338438  1.390154\n",
      "key1\n",
      "a   -0.358928\n",
      "b   -0.338438\n",
      "Name: data1, dtype: float64\n"
     ]
    }
   ],
   "source": [
    "import pandas as pd\n",
    "import numpy as np\n",
    "dict_obj = {'key1' : ['a', 'b', 'a', 'b',\n",
    "                      'a', 'b', 'a', 'a'],\n",
    "            'key2' : ['one', 'one', 'two', 'three',\n",
    "                      'two', 'two', 'one', 'three'],\n",
    "            'data1': np.random.randn(8),\n",
    "            'data2': np.random.randn(8)}\n",
    "df_obj = pd.DataFrame(dict_obj)\n",
    "\n",
    "print(df_obj)\n",
    "\n",
    "# dataframe根据key1进行分组，分组后的对象类型\n",
    "print(df_obj.groupby('key1'))\n",
    "print(type(df_obj.groupby('key1')))\n",
    "print('-'*50)\n",
    "print(df_obj['data1'])\n",
    "# dataframe的 data1 列根据 key1 进行分组\n",
    "print(type(df_obj['data1'].groupby(df_obj['key1'])))\n",
    "\n",
    "# 分组运算\n",
    "grouped1 = df_obj.groupby('key1')\n",
    "print(grouped1.mean())\n",
    "\n",
    "grouped2 = df_obj['data1'].groupby(df_obj['key1'])\n",
    "print(grouped2.mean())\n"
   ],
   "metadata": {
    "collapsed": false,
    "pycharm": {
     "name": "#%%\n"
    }
   }
  },
  {
   "cell_type": "markdown",
   "source": [
    "### 3. 按自定义的key分组"
   ],
   "metadata": {
    "collapsed": false
   }
  },
  {
   "cell_type": "code",
   "execution_count": 41,
   "outputs": [
    {
     "name": "stdout",
     "output_type": "stream",
     "text": [
      "  key1   key2     data1     data2\n",
      "0    a    one  0.241580 -1.345097\n",
      "1    b    one  1.019846  1.351051\n",
      "2    a    two -0.643605  0.184093\n",
      "3    b  three -0.588190  2.320644\n",
      "4    a    two -1.298028  0.278463\n",
      "5    b    two -1.446970  0.498766\n",
      "6    a    one  0.895290 -0.029943\n",
      "7    a  three -0.989878 -0.362506\n",
      "0    1\n",
      "1    1\n",
      "2    1\n",
      "3    3\n",
      "5    1\n",
      "7    1\n",
      "dtype: int64\n",
      "      data1     data2\n",
      "0  0.241580 -1.345097\n",
      "1  1.019846  1.351051\n",
      "2 -0.643605  0.184093\n",
      "3 -3.333188  3.097873\n",
      "5  0.895290 -0.029943\n",
      "7 -0.989878 -0.362506\n",
      "key1  key2 \n",
      "a     one      2\n",
      "      three    1\n",
      "      two      2\n",
      "b     one      1\n",
      "      three    1\n",
      "      two      1\n",
      "dtype: int64\n",
      "--------------------------------------------------\n",
      "<pandas.core.groupby.generic.DataFrameGroupBy object at 0x00000211D72AF130>\n",
      "key1  key2 \n",
      "a     one      2\n",
      "      three    1\n",
      "      two      2\n",
      "b     one      1\n",
      "      three    1\n",
      "      two      1\n",
      "dtype: int64\n",
      "--------------------------------------------------\n",
      "key2   key1\n",
      "one    a       2\n",
      "       b       1\n",
      "three  a       1\n",
      "       b       1\n",
      "two    a       2\n",
      "       b       1\n",
      "dtype: int64\n",
      "               data1     data2\n",
      "key2  key1                    \n",
      "one   a     0.568435 -0.687520\n",
      "      b     1.019846  1.351051\n",
      "three a    -0.989878 -0.362506\n",
      "      b    -0.588190  2.320644\n",
      "two   a    -0.970817  0.231278\n",
      "      b    -1.446970  0.498766\n",
      "MultiIndex([(  'one', 'a'),\n",
      "            (  'one', 'b'),\n",
      "            ('three', 'a'),\n",
      "            ('three', 'b'),\n",
      "            (  'two', 'a'),\n",
      "            (  'two', 'b')],\n",
      "           names=['key2', 'key1'])\n",
      "          data1               data2          \n",
      "key1          a         b         a         b\n",
      "key2                                         \n",
      "one    0.568435  1.019846 -0.687520  1.351051\n",
      "three -0.989878 -0.588190 -0.362506  2.320644\n",
      "two   -0.970817 -1.446970  0.231278  0.498766\n",
      "MultiIndex([('data1', 'a'),\n",
      "            ('data1', 'b'),\n",
      "            ('data2', 'a'),\n",
      "            ('data2', 'b')],\n",
      "           names=[None, 'key1'])\n",
      "**************************************************\n",
      "('one', 'a')\n",
      "  key1 key2    data1     data2\n",
      "0    a  one  0.24158 -1.345097\n",
      "6    a  one  0.89529 -0.029943\n",
      "<class 'pandas.core.frame.DataFrame'>\n",
      "('one', 'b')\n",
      "  key1 key2     data1     data2\n",
      "1    b  one  1.019846  1.351051\n",
      "<class 'pandas.core.frame.DataFrame'>\n",
      "('three', 'a')\n",
      "  key1   key2     data1     data2\n",
      "7    a  three -0.989878 -0.362506\n",
      "<class 'pandas.core.frame.DataFrame'>\n",
      "('three', 'b')\n",
      "  key1   key2    data1     data2\n",
      "3    b  three -0.58819  2.320644\n",
      "<class 'pandas.core.frame.DataFrame'>\n",
      "('two', 'a')\n",
      "  key1 key2     data1     data2\n",
      "2    a  two -0.643605  0.184093\n",
      "4    a  two -1.298028  0.278463\n",
      "<class 'pandas.core.frame.DataFrame'>\n",
      "('two', 'b')\n",
      "  key1 key2    data1     data2\n",
      "5    b  two -1.44697  0.498766\n",
      "<class 'pandas.core.frame.DataFrame'>\n"
     ]
    }
   ],
   "source": [
    "# 按自定义key分组，列表\n",
    "self_def_key = [0, 1, 2, 3, 3, 3, 5, 7]\n",
    "print(df_obj)\n",
    "print(df_obj.groupby(self_def_key).size())  # 等于mysql的count\n",
    "print(df_obj.groupby(self_def_key).sum())\n",
    "# 按自定义key分组，多层列表\n",
    "print(df_obj.groupby([df_obj['key1'], df_obj['key2']]).size())\n",
    "\n",
    "# 按多个列多层分组\n",
    "print('-'*50)\n",
    "grouped2 = df_obj.groupby(['key1', 'key2'])\n",
    "print(grouped2)\n",
    "print(grouped2.size())\n",
    "\n",
    "# 多层分组按key的顺序进行\n",
    "print('-'*50)\n",
    "grouped3 = df_obj.groupby(['key2', 'key1'])\n",
    "print(grouped3.size())\n",
    "print(grouped3.mean())\n",
    "# unstack可以将多层索引的结果转换成单层的dataframe\n",
    "print(grouped3.mean().index)\n",
    "print(grouped3.mean().unstack())  # 竖变横\n",
    "print(grouped3.mean().unstack().columns)\n",
    "print(\"*\"*50)\n",
    "# 多层分组，根据key1 和 key2，做个性化处理\n",
    "for group_name, group_data in grouped3:\n",
    "    print(group_name)\n",
    "    print(group_data)\n",
    "    print(type(group_data))"
   ],
   "metadata": {
    "collapsed": false,
    "pycharm": {
     "name": "#%%\n"
    }
   }
  },
  {
   "cell_type": "code",
   "execution_count": 42,
   "outputs": [
    {
     "data": {
      "text/plain": "[(('one', 'a'),\n    key1 key2    data1     data2\n  0    a  one  0.24158 -1.345097\n  6    a  one  0.89529 -0.029943),\n (('one', 'b'),\n    key1 key2     data1     data2\n  1    b  one  1.019846  1.351051),\n (('three', 'a'),\n    key1   key2     data1     data2\n  7    a  three -0.989878 -0.362506),\n (('three', 'b'),\n    key1   key2    data1     data2\n  3    b  three -0.58819  2.320644),\n (('two', 'a'),\n    key1 key2     data1     data2\n  2    a  two -0.643605  0.184093\n  4    a  two -1.298028  0.278463),\n (('two', 'b'),\n    key1 key2    data1     data2\n  5    b  two -1.44697  0.498766)]"
     },
     "execution_count": 42,
     "metadata": {},
     "output_type": "execute_result"
    }
   ],
   "source": [
    "list(grouped3)"
   ],
   "metadata": {
    "collapsed": false,
    "pycharm": {
     "name": "#%%\n"
    }
   }
  },
  {
   "cell_type": "markdown",
   "source": [
    "# 按类型分组"
   ],
   "metadata": {
    "collapsed": false
   }
  },
  {
   "cell_type": "code",
   "execution_count": null,
   "outputs": [],
   "source": [
    "print(df_obj.dtypes)"
   ],
   "metadata": {
    "collapsed": false,
    "pycharm": {
     "name": "#%%\n"
    }
   }
  },
  {
   "cell_type": "code",
   "execution_count": 45,
   "outputs": [
    {
     "name": "stdout",
     "output_type": "stream",
     "text": [
      "  key1   key2     data1     data2     data3\n",
      "0    a    one  0.241580 -1.345097 -0.345097\n",
      "1    b    one  1.019846  1.351051  2.351051\n",
      "2    a    two -0.643605  0.184093  1.184093\n",
      "3    b  three -0.588190  2.320644  3.320644\n",
      "4    a    two -1.298028  0.278463  1.278463\n",
      "5    b    two -1.446970  0.498766  1.498766\n",
      "6    a    one  0.895290 -0.029943  0.970057\n",
      "7    a  three -0.989878 -0.362506  0.637494\n",
      "float64    3\n",
      "object     2\n",
      "dtype: int64\n",
      "    float64  object\n",
      "0 -1.448614    aone\n",
      "1  4.721949    bone\n",
      "2  0.724581    atwo\n",
      "3  5.053098  bthree\n",
      "4  0.258898    atwo\n",
      "5  0.550561    btwo\n",
      "6  1.835404    aone\n",
      "7 -0.714890  athree\n",
      "   1      2         3         4\n",
      "0  a    one -1.103517 -0.345097\n",
      "1  b    one  2.370898  2.351051\n",
      "2  a    two -0.459512  1.184093\n",
      "3  b  three  1.732454  3.320644\n",
      "4  a    two -1.019565  1.278463\n",
      "5  b    two -0.948204  1.498766\n",
      "6  a    one  0.865347  0.970057\n",
      "7  a  three -1.352384  0.637494\n"
     ]
    }
   ],
   "source": [
    "# 一列数据类型必须一致，因为现实生活中一个特征类型是一致的\n",
    "df_obj['data3']=df_obj['data2']+1\n",
    "print(df_obj)\n",
    "print(df_obj.groupby(df_obj.dtypes, axis=1).size()) # 按轴0没有意义\n",
    "print(df_obj.groupby(df_obj.dtypes, axis=1).sum())\n",
    "self_column_key=[1,2,3,3,4]\n",
    "print(df_obj.groupby(self_column_key, axis=1).sum())   # 通过自定义索引去让不同列相加"
   ],
   "metadata": {
    "collapsed": false,
    "pycharm": {
     "name": "#%%\n"
    }
   }
  },
  {
   "cell_type": "markdown",
   "source": [
    "### 2. 通过字典分组"
   ],
   "metadata": {
    "collapsed": false
   }
  },
  {
   "cell_type": "code",
   "execution_count": 46,
   "outputs": [
    {
     "name": "stdout",
     "output_type": "stream",
     "text": [
      "   a    b    c    d  e\n",
      "A  1  1.0  8.0  1.0  7\n",
      "B  4  NaN  NaN  NaN  9\n",
      "C  3  9.0  7.0  6.0  6\n",
      "D  6  1.0  5.0  9.0  6\n",
      "E  4  7.0  6.0  6.0  1\n",
      "C         1\n",
      "Java      2\n",
      "Python    2\n",
      "dtype: int64\n",
      "   C  Java  Python\n",
      "A  1     2       2\n",
      "B  0     1       1\n",
      "C  1     2       2\n",
      "D  1     2       2\n",
      "E  1     2       2\n",
      "     C  Java  Python\n",
      "A  1.0  15.0     2.0\n",
      "B  0.0   9.0     4.0\n",
      "C  6.0  13.0    12.0\n",
      "D  9.0  11.0     7.0\n",
      "E  6.0   7.0    11.0\n"
     ]
    }
   ],
   "source": [
    "df_obj2 = pd.DataFrame(np.random.randint(1, 10, (5,5)),\n",
    "                       columns=['a', 'b', 'c', 'd', 'e'],\n",
    "                       index=['A', 'B', 'C', 'D', 'E'])\n",
    "# 给指定某个部分的数据重新赋值为 np.NaN\n",
    "df_obj2.loc['B','b':'d']=np.NAN\n",
    "\n",
    "print(df_obj2)\n",
    "# 通过字典分组\n",
    "mapping_dict = {'a':'Python', 'b':'Python', 'c':'Java', 'd':'C', 'e':'Java'}\n",
    "print(df_obj2.groupby(mapping_dict, axis=1).size())\n",
    "print(df_obj2.groupby(mapping_dict, axis=1).count()) # 非NaN的个数\n",
    "print(df_obj2.groupby(mapping_dict, axis=1).sum())  #求和不记录nan,nan当为0\n"
   ],
   "metadata": {
    "collapsed": false,
    "pycharm": {
     "name": "#%%\n"
    }
   }
  },
  {
   "cell_type": "code",
   "execution_count": 47,
   "outputs": [],
   "source": [
    "str1='熊大'"
   ],
   "metadata": {
    "collapsed": false,
    "pycharm": {
     "name": "#%%\n"
    }
   }
  },
  {
   "cell_type": "code",
   "execution_count": 48,
   "outputs": [
    {
     "data": {
      "text/plain": "'熊'"
     },
     "execution_count": 48,
     "metadata": {},
     "output_type": "execute_result"
    }
   ],
   "source": [
    "str1[0]"
   ],
   "metadata": {
    "collapsed": false,
    "pycharm": {
     "name": "#%%\n"
    }
   }
  },
  {
   "cell_type": "code",
   "execution_count": 52,
   "outputs": [
    {
     "name": "stdout",
     "output_type": "stream",
     "text": [
      "      a  b  c  d  ee\n",
      "AA    5  8  4  1   3\n",
      "BBBB  6  2  5  5   5\n",
      "CC    4  8  4  6   8\n",
      "D     4  4  2  6   9\n",
      "EE    9  3  2  5   9\n",
      "1    4\n",
      "2    1\n",
      "dtype: int64\n",
      "**************************************************\n"
     ]
    },
    {
     "data": {
      "text/plain": "1    1\n2    3\n4    1\ndtype: int64"
     },
     "execution_count": 52,
     "metadata": {},
     "output_type": "execute_result"
    }
   ],
   "source": [
    "# 通过函数分组\n",
    "df_obj3 = pd.DataFrame(np.random.randint(1, 10, (5,5)),\n",
    "                       columns=['a', 'b', 'c', 'd', 'ee'],\n",
    "                       index=['AA', 'BBBB', 'CC', 'D', 'EE'])\n",
    "#df_obj3\n",
    "\n",
    "def group_key(idx):\n",
    "    \"\"\"\n",
    "        idx 为列索引或行索引，默认为行索引\n",
    "    \"\"\"\n",
    "    #return idx\n",
    "    return len(idx)\n",
    "print(df_obj3)\n",
    "print(df_obj3.groupby(group_key,axis=1).size())\n",
    "print(\"*\"*50)\n",
    "# 以上自定义函数默认情况下等价于\n",
    "df_obj3.groupby(len).size()\n"
   ],
   "metadata": {
    "collapsed": false,
    "pycharm": {
     "name": "#%%\n"
    }
   }
  },
  {
   "cell_type": "code",
   "execution_count": 53,
   "outputs": [
    {
     "name": "stdout",
     "output_type": "stream",
     "text": [
      "language Python Java Python Java Python\n",
      "index1        A    A      B    C      B\n",
      "0             8    9      8    5      9\n",
      "1             1    5      2    1      8\n",
      "2             1    2      3    3      3\n",
      "3             4    8      6    4      6\n",
      "4             7    5      2    4      6\n",
      "language  Java  Python\n",
      "0           14      25\n",
      "1            6      11\n",
      "2            5       7\n",
      "3           12      16\n",
      "4            9      15\n",
      "index1   A   B  C\n",
      "0       17  17  5\n",
      "1        6  10  1\n",
      "2        3   6  3\n",
      "3       12  12  4\n",
      "4       12   8  4\n"
     ]
    }
   ],
   "source": [
    "# 通过索引级别分组\n",
    "columns = pd.MultiIndex.from_arrays([['Python', 'Java', 'Python', 'Java', 'Python'],\n",
    "                                     ['A', 'A', 'B', 'C', 'B']],\n",
    "                                    names=['language', 'index1'])\n",
    "df_obj4 = pd.DataFrame(np.random.randint(1, 10, (5, 5)), columns=columns)\n",
    "print(df_obj4)\n",
    "\n",
    "# 根据language进行分组\n",
    "print(df_obj4.groupby(level='language', axis=1).sum())\n",
    "# 根据index进行分组\n",
    "print(df_obj4.groupby(level='index1', axis=1).sum())\n"
   ],
   "metadata": {
    "collapsed": false,
    "pycharm": {
     "name": "#%%\n"
    }
   }
  },
  {
   "cell_type": "markdown",
   "source": [
    "## 聚合\n"
   ],
   "metadata": {
    "collapsed": false
   }
  },
  {
   "cell_type": "code",
   "execution_count": 56,
   "outputs": [
    {
     "name": "stdout",
     "output_type": "stream",
     "text": [
      "  key1   key2  data1  data2\n",
      "0    a    one      8      1\n",
      "1    b    one      4      2\n",
      "2    a    two      1      9\n",
      "3    b  three      4      7\n",
      "4    a    two      8      1\n",
      "5    b    two      2      3\n",
      "6    a    one      9      6\n",
      "7    a  three      7      5\n",
      "      data1  data2\n",
      "key1              \n",
      "a        33     22\n",
      "b        10     12\n",
      "     key2  data1  data2\n",
      "key1                   \n",
      "a     two      9      9\n",
      "b     two      4      7\n",
      "     key2  data1  data2\n",
      "key1                   \n",
      "a     one      1      1\n",
      "b     one      2      2\n",
      "--------------------------------------------------\n",
      "         data1  data2\n",
      "key1                 \n",
      "a     6.600000    4.4\n",
      "b     3.333333    4.0\n",
      "--------------------------------------------------\n",
      "     data1                                              data2                 \\\n",
      "     count      mean       std  min  25%  50%  75%  max count mean       std   \n",
      "key1                                                                           \n",
      "a      5.0  6.600000  3.209361  1.0  7.0  8.0  8.0  9.0   5.0  4.4  3.435113   \n",
      "b      3.0  3.333333  1.154701  2.0  3.0  4.0  4.0  4.0   3.0  4.0  2.645751   \n",
      "\n",
      "                               \n",
      "      min  25%  50%  75%  max  \n",
      "key1                           \n",
      "a     1.0  1.0  5.0  6.0  9.0  \n",
      "b     2.0  2.5  3.0  5.0  7.0  \n"
     ]
    }
   ],
   "source": [
    "dict_obj = {'key1' : ['a', 'b', 'a', 'b',\n",
    "                      'a', 'b', 'a', 'a'],\n",
    "            'key2' : ['one', 'one', 'two', 'three',\n",
    "                      'two', 'two', 'one', 'three'],\n",
    "            'data1': np.random.randint(1,10, 8),\n",
    "            'data2': np.random.randint(1,10, 8)}\n",
    "df_obj = pd.DataFrame(dict_obj)\n",
    "print(df_obj)\n",
    "\n",
    "print(df_obj.groupby(\"key1\").sum())\n",
    "print(df_obj.groupby(\"key1\").max())\n",
    "print(df_obj.groupby(\"key1\").min())\n",
    "print('-'*50)\n",
    "#平均值\n",
    "print(df_obj.groupby(\"key1\").mean())\n",
    "print('-'*50)\n",
    "print(df_obj.groupby(\"key1\").describe())"
   ],
   "metadata": {
    "collapsed": false,
    "pycharm": {
     "name": "#%%\n"
    }
   }
  },
  {
   "cell_type": "code",
   "execution_count": 59,
   "outputs": [
    {
     "name": "stdout",
     "output_type": "stream",
     "text": [
      "  key1   key2  data1  data2\n",
      "0    a    one      8      1\n",
      "1    b    one      4      2\n",
      "2    a    two      1      9\n",
      "3    b  three      4      7\n",
      "4    a    two      8      1\n",
      "5    b    two      2      3\n",
      "6    a    one      9      6\n",
      "7    a  three      7      5\n",
      "      data1  data2\n",
      "key1              \n",
      "a         8      8\n",
      "b         2      5\n",
      "      data1  data2\n",
      "key1              \n",
      "a         8      8\n",
      "b         2      5\n"
     ]
    }
   ],
   "source": [
    "\n",
    "df_obj5 = pd.DataFrame(dict_obj)\n",
    "print(df_obj5)\n",
    "# 自定义聚合函数\n",
    "def peak_range(df):\n",
    "    \"\"\"\n",
    "        返回数值范围,df参数是groupby后的groupby对象\n",
    "    \"\"\"\n",
    "    # 参数df为索引所对应的记录；计算极差\n",
    "    return df.max() - df.min()\n",
    "\n",
    "print(df_obj5.loc[:,['key1','data1','data2']].groupby('key1').agg(peak_range))\n",
    "print(df_obj5.loc[:,['key1','data1','data2']].groupby('key1').agg(lambda df : df.max() - df.min()))  # 以上：等价于该匿名函数"
   ],
   "metadata": {
    "collapsed": false,
    "pycharm": {
     "name": "#%%\n"
    }
   }
  },
  {
   "cell_type": "code",
   "execution_count": 60,
   "outputs": [
    {
     "name": "stdout",
     "output_type": "stream",
     "text": [
      "         data1                            data2                           \n",
      "          mean       std count peak_range  mean       std count peak_range\n",
      "key1                                                                      \n",
      "a     6.600000  3.209361     5          8   4.4  3.435113     5          8\n",
      "b     3.333333  1.154701     3          2   4.0  2.645751     3          5\n"
     ]
    },
    {
     "name": "stderr",
     "output_type": "stream",
     "text": [
      "C:\\Users\\waitp\\AppData\\Local\\Temp\\ipykernel_20604\\3406391583.py:2: FutureWarning: ['key2'] did not aggregate successfully. If any error is raised this will raise in a future version of pandas. Drop these columns/ops to avoid this warning.\n",
      "  print(df_obj.groupby('key1').agg(['mean', 'std', 'count', peak_range]))\n"
     ]
    }
   ],
   "source": [
    "# 同时应用多个聚合函数\n",
    "print(df_obj.groupby('key1').agg(['mean', 'std', 'count', peak_range]))"
   ],
   "metadata": {
    "collapsed": false,
    "pycharm": {
     "name": "#%%\n"
    }
   }
  },
  {
   "cell_type": "code",
   "execution_count": 61,
   "outputs": [
    {
     "name": "stdout",
     "output_type": "stream",
     "text": [
      "         data1  data2\n",
      "key1                 \n",
      "a     6.600000      5\n",
      "b     3.333333      3\n"
     ]
    }
   ],
   "source": [
    "# 每列作用不同的聚合函数（利用字典实现）\n",
    "dict_mapping = {'data1':'mean',\n",
    "                'data2':'count'}\n",
    "print(df_obj.groupby('key1').agg(dict_mapping))"
   ],
   "metadata": {
    "collapsed": false,
    "pycharm": {
     "name": "#%%\n"
    }
   }
  }
 ],
 "metadata": {
  "kernelspec": {
   "display_name": "Python 3",
   "language": "python",
   "name": "python3"
  },
  "language_info": {
   "codemirror_mode": {
    "name": "ipython",
    "version": 2
   },
   "file_extension": ".py",
   "mimetype": "text/x-python",
   "name": "python",
   "nbconvert_exporter": "python",
   "pygments_lexer": "ipython2",
   "version": "2.7.6"
  }
 },
 "nbformat": 4,
 "nbformat_minor": 0
}