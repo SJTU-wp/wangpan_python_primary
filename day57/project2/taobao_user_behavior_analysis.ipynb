{
 "cells": [
  {
   "cell_type": "code",
   "execution_count": 2,
   "outputs": [],
   "source": [
    "import pandas as pd\n",
    "import numpy as np\n",
    "import matplotlib.pyplot as plt\n",
    "import seaborn as sns\n",
    "sns.set(style ='darkgrid', font_scale=1.5)\n",
    "plt.rcParams['font.sans-serif'] =['SimHei']\n",
    "plt.rcParams['axes.unicode_minus'] =False\n"
   ],
   "metadata": {
    "collapsed": false,
    "pycharm": {
     "name": "#%%\n"
    }
   }
  },
  {
   "cell_type": "markdown",
   "source": [
    "# 1、数据查看"
   ],
   "metadata": {
    "collapsed": false
   }
  },
  {
   "cell_type": "code",
   "execution_count": 3,
   "outputs": [],
   "source": [
    "data_user = pd.read_csv('tianchi_mobile_recommend_train_user.csv',dtype = str)"
   ],
   "metadata": {
    "collapsed": false,
    "pycharm": {
     "name": "#%%\n"
    }
   }
  },
  {
   "cell_type": "code",
   "execution_count": 4,
   "outputs": [
    {
     "name": "stdout",
     "output_type": "stream",
     "text": [
      "<class 'pandas.core.frame.DataFrame'>\n",
      "RangeIndex: 12256906 entries, 0 to 12256905\n",
      "Data columns (total 6 columns):\n",
      " #   Column         Dtype \n",
      "---  ------         ----- \n",
      " 0   user_id        object\n",
      " 1   item_id        object\n",
      " 2   behavior_type  object\n",
      " 3   user_geohash   object\n",
      " 4   item_category  object\n",
      " 5   time           object\n",
      "dtypes: object(6)\n",
      "memory usage: 561.1+ MB\n"
     ]
    }
   ],
   "source": [
    "#如电脑比较弱（4G内存，cpu比较弱） 在这里选前100万条数据即可\n",
    "data_user.info()"
   ],
   "metadata": {
    "collapsed": false,
    "pycharm": {
     "name": "#%%\n"
    }
   }
  },
  {
   "cell_type": "code",
   "execution_count": 5,
   "outputs": [
    {
     "data": {
      "text/plain": "    user_id    item_id behavior_type user_geohash item_category           time\n0  98047837  232431562             1          NaN          4245  2014-12-06 02\n1  97726136  383583590             1          NaN          5894  2014-12-09 20\n2  98607707   64749712             1          NaN          2883  2014-12-18 11\n3  98662432  320593836             1      96nn52n          6562  2014-12-06 10\n4  98145908  290208520             1          NaN         13926  2014-12-16 21",
      "text/html": "<div>\n<style scoped>\n    .dataframe tbody tr th:only-of-type {\n        vertical-align: middle;\n    }\n\n    .dataframe tbody tr th {\n        vertical-align: top;\n    }\n\n    .dataframe thead th {\n        text-align: right;\n    }\n</style>\n<table border=\"1\" class=\"dataframe\">\n  <thead>\n    <tr style=\"text-align: right;\">\n      <th></th>\n      <th>user_id</th>\n      <th>item_id</th>\n      <th>behavior_type</th>\n      <th>user_geohash</th>\n      <th>item_category</th>\n      <th>time</th>\n    </tr>\n  </thead>\n  <tbody>\n    <tr>\n      <th>0</th>\n      <td>98047837</td>\n      <td>232431562</td>\n      <td>1</td>\n      <td>NaN</td>\n      <td>4245</td>\n      <td>2014-12-06 02</td>\n    </tr>\n    <tr>\n      <th>1</th>\n      <td>97726136</td>\n      <td>383583590</td>\n      <td>1</td>\n      <td>NaN</td>\n      <td>5894</td>\n      <td>2014-12-09 20</td>\n    </tr>\n    <tr>\n      <th>2</th>\n      <td>98607707</td>\n      <td>64749712</td>\n      <td>1</td>\n      <td>NaN</td>\n      <td>2883</td>\n      <td>2014-12-18 11</td>\n    </tr>\n    <tr>\n      <th>3</th>\n      <td>98662432</td>\n      <td>320593836</td>\n      <td>1</td>\n      <td>96nn52n</td>\n      <td>6562</td>\n      <td>2014-12-06 10</td>\n    </tr>\n    <tr>\n      <th>4</th>\n      <td>98145908</td>\n      <td>290208520</td>\n      <td>1</td>\n      <td>NaN</td>\n      <td>13926</td>\n      <td>2014-12-16 21</td>\n    </tr>\n  </tbody>\n</table>\n</div>"
     },
     "execution_count": 5,
     "metadata": {},
     "output_type": "execute_result"
    }
   ],
   "source": [
    "data_user.head()"
   ],
   "metadata": {
    "collapsed": false,
    "pycharm": {
     "name": "#%%\n"
    }
   }
  },
  {
   "cell_type": "markdown",
   "source": [
    "# 2 数据预处理"
   ],
   "metadata": {
    "collapsed": false
   }
  },
  {
   "cell_type": "code",
   "execution_count": 6,
   "outputs": [
    {
     "data": {
      "text/plain": "user_id          0.00000\nitem_id          0.00000\nbehavior_type    0.00000\nuser_geohash     0.68001\nitem_category    0.00000\ntime             0.00000\ndtype: float64"
     },
     "execution_count": 6,
     "metadata": {},
     "output_type": "execute_result"
    }
   ],
   "source": [
    "#2.1 缺失值分析，apply默认对列进行操作，x代表一列\n",
    "data_user.apply(lambda x: sum(x.isnull())/len(x))  # 只有地理位置列有缺失值\n"
   ],
   "metadata": {
    "collapsed": false,
    "pycharm": {
     "name": "#%%\n"
    }
   }
  },
  {
   "cell_type": "code",
   "execution_count": 8,
   "outputs": [
    {
     "data": {
      "text/plain": "user_id                0\nitem_id                0\nbehavior_type          0\nuser_geohash     8334824\nitem_category          0\ntime                   0\ndtype: int64"
     },
     "execution_count": 8,
     "metadata": {},
     "output_type": "execute_result"
    }
   ],
   "source": [
    "data_user.apply(lambda x: sum(x.isnull()))"
   ],
   "metadata": {
    "collapsed": false,
    "pycharm": {
     "name": "#%%\n"
    }
   }
  },
  {
   "cell_type": "code",
   "execution_count": 9,
   "outputs": [
    {
     "data": {
      "text/plain": "(12256906, 6)"
     },
     "execution_count": 9,
     "metadata": {},
     "output_type": "execute_result"
    }
   ],
   "source": [
    "data_user.shape"
   ],
   "metadata": {
    "collapsed": false,
    "pycharm": {
     "name": "#%%\n"
    }
   }
  },
  {
   "cell_type": "code",
   "execution_count": 10,
   "outputs": [],
   "source": [
    "#把日期和小时分别取出来\n",
    "data_user['date'] = data_user['time'].str[0:10]\n",
    "data_user['hour'] = data_user['time'].str[11:]  #如果发生溢出就分开执行"
   ],
   "metadata": {
    "collapsed": false,
    "pycharm": {
     "name": "#%%\n"
    }
   }
  },
  {
   "cell_type": "code",
   "execution_count": 11,
   "outputs": [
    {
     "data": {
      "text/plain": "user_id          object\nitem_id          object\nbehavior_type    object\nuser_geohash     object\nitem_category    object\ntime             object\ndate             object\nhour             object\ndtype: object"
     },
     "execution_count": 11,
     "metadata": {},
     "output_type": "execute_result"
    }
   ],
   "source": [
    "data_user.dtypes"
   ],
   "metadata": {
    "collapsed": false,
    "pycharm": {
     "name": "#%%\n"
    }
   }
  },
  {
   "cell_type": "code",
   "execution_count": 12,
   "outputs": [
    {
     "data": {
      "text/plain": "    user_id    item_id behavior_type user_geohash item_category  \\\n0  98047837  232431562             1          NaN          4245   \n1  97726136  383583590             1          NaN          5894   \n2  98607707   64749712             1          NaN          2883   \n3  98662432  320593836             1      96nn52n          6562   \n4  98145908  290208520             1          NaN         13926   \n\n            time        date hour  \n0  2014-12-06 02  2014-12-06   02  \n1  2014-12-09 20  2014-12-09   20  \n2  2014-12-18 11  2014-12-18   11  \n3  2014-12-06 10  2014-12-06   10  \n4  2014-12-16 21  2014-12-16   21  ",
      "text/html": "<div>\n<style scoped>\n    .dataframe tbody tr th:only-of-type {\n        vertical-align: middle;\n    }\n\n    .dataframe tbody tr th {\n        vertical-align: top;\n    }\n\n    .dataframe thead th {\n        text-align: right;\n    }\n</style>\n<table border=\"1\" class=\"dataframe\">\n  <thead>\n    <tr style=\"text-align: right;\">\n      <th></th>\n      <th>user_id</th>\n      <th>item_id</th>\n      <th>behavior_type</th>\n      <th>user_geohash</th>\n      <th>item_category</th>\n      <th>time</th>\n      <th>date</th>\n      <th>hour</th>\n    </tr>\n  </thead>\n  <tbody>\n    <tr>\n      <th>0</th>\n      <td>98047837</td>\n      <td>232431562</td>\n      <td>1</td>\n      <td>NaN</td>\n      <td>4245</td>\n      <td>2014-12-06 02</td>\n      <td>2014-12-06</td>\n      <td>02</td>\n    </tr>\n    <tr>\n      <th>1</th>\n      <td>97726136</td>\n      <td>383583590</td>\n      <td>1</td>\n      <td>NaN</td>\n      <td>5894</td>\n      <td>2014-12-09 20</td>\n      <td>2014-12-09</td>\n      <td>20</td>\n    </tr>\n    <tr>\n      <th>2</th>\n      <td>98607707</td>\n      <td>64749712</td>\n      <td>1</td>\n      <td>NaN</td>\n      <td>2883</td>\n      <td>2014-12-18 11</td>\n      <td>2014-12-18</td>\n      <td>11</td>\n    </tr>\n    <tr>\n      <th>3</th>\n      <td>98662432</td>\n      <td>320593836</td>\n      <td>1</td>\n      <td>96nn52n</td>\n      <td>6562</td>\n      <td>2014-12-06 10</td>\n      <td>2014-12-06</td>\n      <td>10</td>\n    </tr>\n    <tr>\n      <th>4</th>\n      <td>98145908</td>\n      <td>290208520</td>\n      <td>1</td>\n      <td>NaN</td>\n      <td>13926</td>\n      <td>2014-12-16 21</td>\n      <td>2014-12-16</td>\n      <td>21</td>\n    </tr>\n  </tbody>\n</table>\n</div>"
     },
     "execution_count": 12,
     "metadata": {},
     "output_type": "execute_result"
    }
   ],
   "source": [
    "data_user.head()"
   ],
   "metadata": {
    "collapsed": false,
    "pycharm": {
     "name": "#%%\n"
    }
   }
  },
  {
   "cell_type": "code",
   "execution_count": 13,
   "outputs": [],
   "source": [
    "data_user['date'] = pd.to_datetime(data_user['date'])\n",
    "data_user['time']= pd.to_datetime(data_user['time'])\n",
    "data_user['hour'] = data_user['hour'].astype(int)"
   ],
   "metadata": {
    "collapsed": false,
    "pycharm": {
     "name": "#%%\n"
    }
   }
  },
  {
   "cell_type": "code",
   "execution_count": 15,
   "outputs": [
    {
     "data": {
      "text/plain": "user_id                  object\nitem_id                  object\nbehavior_type            object\nuser_geohash             object\nitem_category            object\ntime             datetime64[ns]\ndate             datetime64[ns]\nhour                      int32\ndtype: object"
     },
     "execution_count": 15,
     "metadata": {},
     "output_type": "execute_result"
    }
   ],
   "source": [
    "data_user.dtypes"
   ],
   "metadata": {
    "collapsed": false,
    "pycharm": {
     "name": "#%%\n"
    }
   }
  },
  {
   "cell_type": "code",
   "execution_count": 16,
   "outputs": [
    {
     "data": {
      "text/plain": "    user_id    item_id behavior_type user_geohash item_category  \\\n0  98047837  232431562             1          NaN          4245   \n1  97726136  383583590             1          NaN          5894   \n2  98607707   64749712             1          NaN          2883   \n3  98662432  320593836             1      96nn52n          6562   \n4  98145908  290208520             1          NaN         13926   \n\n                 time       date  hour  \n0 2014-12-06 02:00:00 2014-12-06     2  \n1 2014-12-09 20:00:00 2014-12-09    20  \n2 2014-12-18 11:00:00 2014-12-18    11  \n3 2014-12-06 10:00:00 2014-12-06    10  \n4 2014-12-16 21:00:00 2014-12-16    21  ",
      "text/html": "<div>\n<style scoped>\n    .dataframe tbody tr th:only-of-type {\n        vertical-align: middle;\n    }\n\n    .dataframe tbody tr th {\n        vertical-align: top;\n    }\n\n    .dataframe thead th {\n        text-align: right;\n    }\n</style>\n<table border=\"1\" class=\"dataframe\">\n  <thead>\n    <tr style=\"text-align: right;\">\n      <th></th>\n      <th>user_id</th>\n      <th>item_id</th>\n      <th>behavior_type</th>\n      <th>user_geohash</th>\n      <th>item_category</th>\n      <th>time</th>\n      <th>date</th>\n      <th>hour</th>\n    </tr>\n  </thead>\n  <tbody>\n    <tr>\n      <th>0</th>\n      <td>98047837</td>\n      <td>232431562</td>\n      <td>1</td>\n      <td>NaN</td>\n      <td>4245</td>\n      <td>2014-12-06 02:00:00</td>\n      <td>2014-12-06</td>\n      <td>2</td>\n    </tr>\n    <tr>\n      <th>1</th>\n      <td>97726136</td>\n      <td>383583590</td>\n      <td>1</td>\n      <td>NaN</td>\n      <td>5894</td>\n      <td>2014-12-09 20:00:00</td>\n      <td>2014-12-09</td>\n      <td>20</td>\n    </tr>\n    <tr>\n      <th>2</th>\n      <td>98607707</td>\n      <td>64749712</td>\n      <td>1</td>\n      <td>NaN</td>\n      <td>2883</td>\n      <td>2014-12-18 11:00:00</td>\n      <td>2014-12-18</td>\n      <td>11</td>\n    </tr>\n    <tr>\n      <th>3</th>\n      <td>98662432</td>\n      <td>320593836</td>\n      <td>1</td>\n      <td>96nn52n</td>\n      <td>6562</td>\n      <td>2014-12-06 10:00:00</td>\n      <td>2014-12-06</td>\n      <td>10</td>\n    </tr>\n    <tr>\n      <th>4</th>\n      <td>98145908</td>\n      <td>290208520</td>\n      <td>1</td>\n      <td>NaN</td>\n      <td>13926</td>\n      <td>2014-12-16 21:00:00</td>\n      <td>2014-12-16</td>\n      <td>21</td>\n    </tr>\n  </tbody>\n</table>\n</div>"
     },
     "execution_count": 16,
     "metadata": {},
     "output_type": "execute_result"
    }
   ],
   "source": [
    "data_user.head()"
   ],
   "metadata": {
    "collapsed": false,
    "pycharm": {
     "name": "#%%\n"
    }
   }
  },
  {
   "cell_type": "code",
   "execution_count": 17,
   "outputs": [],
   "source": [
    "#对数据进行一下排序\n",
    "data_user.sort_values(by ='time',ascending=True,inplace = True)  # 升序"
   ],
   "metadata": {
    "collapsed": false,
    "pycharm": {
     "name": "#%%\n"
    }
   }
  },
  {
   "cell_type": "code",
   "execution_count": 19,
   "outputs": [
    {
     "data": {
      "text/plain": "            user_id    item_id behavior_type user_geohash item_category  \\\n1505077    73462715  378485233             1          NaN          9130   \n8686537    36090137  236748115             1          NaN         10523   \n4035788    40459733  155218177             1          NaN          8561   \n10113411     814199  149808524             1          NaN          9053   \n2936757   113309982    5730861             1          NaN          3783   \n\n               time       date  hour  \n1505077  2014-11-18 2014-11-18     0  \n8686537  2014-11-18 2014-11-18     0  \n4035788  2014-11-18 2014-11-18     0  \n10113411 2014-11-18 2014-11-18     0  \n2936757  2014-11-18 2014-11-18     0  ",
      "text/html": "<div>\n<style scoped>\n    .dataframe tbody tr th:only-of-type {\n        vertical-align: middle;\n    }\n\n    .dataframe tbody tr th {\n        vertical-align: top;\n    }\n\n    .dataframe thead th {\n        text-align: right;\n    }\n</style>\n<table border=\"1\" class=\"dataframe\">\n  <thead>\n    <tr style=\"text-align: right;\">\n      <th></th>\n      <th>user_id</th>\n      <th>item_id</th>\n      <th>behavior_type</th>\n      <th>user_geohash</th>\n      <th>item_category</th>\n      <th>time</th>\n      <th>date</th>\n      <th>hour</th>\n    </tr>\n  </thead>\n  <tbody>\n    <tr>\n      <th>1505077</th>\n      <td>73462715</td>\n      <td>378485233</td>\n      <td>1</td>\n      <td>NaN</td>\n      <td>9130</td>\n      <td>2014-11-18</td>\n      <td>2014-11-18</td>\n      <td>0</td>\n    </tr>\n    <tr>\n      <th>8686537</th>\n      <td>36090137</td>\n      <td>236748115</td>\n      <td>1</td>\n      <td>NaN</td>\n      <td>10523</td>\n      <td>2014-11-18</td>\n      <td>2014-11-18</td>\n      <td>0</td>\n    </tr>\n    <tr>\n      <th>4035788</th>\n      <td>40459733</td>\n      <td>155218177</td>\n      <td>1</td>\n      <td>NaN</td>\n      <td>8561</td>\n      <td>2014-11-18</td>\n      <td>2014-11-18</td>\n      <td>0</td>\n    </tr>\n    <tr>\n      <th>10113411</th>\n      <td>814199</td>\n      <td>149808524</td>\n      <td>1</td>\n      <td>NaN</td>\n      <td>9053</td>\n      <td>2014-11-18</td>\n      <td>2014-11-18</td>\n      <td>0</td>\n    </tr>\n    <tr>\n      <th>2936757</th>\n      <td>113309982</td>\n      <td>5730861</td>\n      <td>1</td>\n      <td>NaN</td>\n      <td>3783</td>\n      <td>2014-11-18</td>\n      <td>2014-11-18</td>\n      <td>0</td>\n    </tr>\n  </tbody>\n</table>\n</div>"
     },
     "execution_count": 19,
     "metadata": {},
     "output_type": "execute_result"
    }
   ],
   "source": [
    "data_user.head()"
   ],
   "metadata": {
    "collapsed": false,
    "pycharm": {
     "name": "#%%\n"
    }
   }
  },
  {
   "cell_type": "code",
   "execution_count": 20,
   "outputs": [
    {
     "data": {
      "text/plain": "            user_id    item_id behavior_type user_geohash item_category  \\\n5241608   132653097  119946062             2          NaN          6054   \n10296029  130082553  296196819             1          NaN         11532   \n8527264    43592945  350594832             1      9rhhgph          9541   \n6263497    12833799  186993938             1      954g37v          3798   \n9200479    77522552   69292191             1          NaN           889   \n\n                        time       date  hour  \n5241608  2014-12-18 23:00:00 2014-12-18    23  \n10296029 2014-12-18 23:00:00 2014-12-18    23  \n8527264  2014-12-18 23:00:00 2014-12-18    23  \n6263497  2014-12-18 23:00:00 2014-12-18    23  \n9200479  2014-12-18 23:00:00 2014-12-18    23  ",
      "text/html": "<div>\n<style scoped>\n    .dataframe tbody tr th:only-of-type {\n        vertical-align: middle;\n    }\n\n    .dataframe tbody tr th {\n        vertical-align: top;\n    }\n\n    .dataframe thead th {\n        text-align: right;\n    }\n</style>\n<table border=\"1\" class=\"dataframe\">\n  <thead>\n    <tr style=\"text-align: right;\">\n      <th></th>\n      <th>user_id</th>\n      <th>item_id</th>\n      <th>behavior_type</th>\n      <th>user_geohash</th>\n      <th>item_category</th>\n      <th>time</th>\n      <th>date</th>\n      <th>hour</th>\n    </tr>\n  </thead>\n  <tbody>\n    <tr>\n      <th>5241608</th>\n      <td>132653097</td>\n      <td>119946062</td>\n      <td>2</td>\n      <td>NaN</td>\n      <td>6054</td>\n      <td>2014-12-18 23:00:00</td>\n      <td>2014-12-18</td>\n      <td>23</td>\n    </tr>\n    <tr>\n      <th>10296029</th>\n      <td>130082553</td>\n      <td>296196819</td>\n      <td>1</td>\n      <td>NaN</td>\n      <td>11532</td>\n      <td>2014-12-18 23:00:00</td>\n      <td>2014-12-18</td>\n      <td>23</td>\n    </tr>\n    <tr>\n      <th>8527264</th>\n      <td>43592945</td>\n      <td>350594832</td>\n      <td>1</td>\n      <td>9rhhgph</td>\n      <td>9541</td>\n      <td>2014-12-18 23:00:00</td>\n      <td>2014-12-18</td>\n      <td>23</td>\n    </tr>\n    <tr>\n      <th>6263497</th>\n      <td>12833799</td>\n      <td>186993938</td>\n      <td>1</td>\n      <td>954g37v</td>\n      <td>3798</td>\n      <td>2014-12-18 23:00:00</td>\n      <td>2014-12-18</td>\n      <td>23</td>\n    </tr>\n    <tr>\n      <th>9200479</th>\n      <td>77522552</td>\n      <td>69292191</td>\n      <td>1</td>\n      <td>NaN</td>\n      <td>889</td>\n      <td>2014-12-18 23:00:00</td>\n      <td>2014-12-18</td>\n      <td>23</td>\n    </tr>\n  </tbody>\n</table>\n</div>"
     },
     "execution_count": 20,
     "metadata": {},
     "output_type": "execute_result"
    }
   ],
   "source": [
    "data_user.tail()"
   ],
   "metadata": {
    "collapsed": false,
    "pycharm": {
     "name": "#%%\n"
    }
   }
  },
  {
   "cell_type": "code",
   "execution_count": 21,
   "outputs": [],
   "source": [
    "#丢弃原有索引，按位置重新生成索引，在原有df生效\n",
    "data_user.reset_index(drop =True,inplace =True)"
   ],
   "metadata": {
    "collapsed": false,
    "pycharm": {
     "name": "#%%\n"
    }
   }
  },
  {
   "cell_type": "code",
   "execution_count": 22,
   "outputs": [
    {
     "data": {
      "text/plain": "     user_id    item_id behavior_type user_geohash item_category       time  \\\n0   73462715  378485233             1          NaN          9130 2014-11-18   \n1   36090137  236748115             1          NaN         10523 2014-11-18   \n2   40459733  155218177             1          NaN          8561 2014-11-18   \n3     814199  149808524             1          NaN          9053 2014-11-18   \n4  113309982    5730861             1          NaN          3783 2014-11-18   \n\n        date  hour  \n0 2014-11-18     0  \n1 2014-11-18     0  \n2 2014-11-18     0  \n3 2014-11-18     0  \n4 2014-11-18     0  ",
      "text/html": "<div>\n<style scoped>\n    .dataframe tbody tr th:only-of-type {\n        vertical-align: middle;\n    }\n\n    .dataframe tbody tr th {\n        vertical-align: top;\n    }\n\n    .dataframe thead th {\n        text-align: right;\n    }\n</style>\n<table border=\"1\" class=\"dataframe\">\n  <thead>\n    <tr style=\"text-align: right;\">\n      <th></th>\n      <th>user_id</th>\n      <th>item_id</th>\n      <th>behavior_type</th>\n      <th>user_geohash</th>\n      <th>item_category</th>\n      <th>time</th>\n      <th>date</th>\n      <th>hour</th>\n    </tr>\n  </thead>\n  <tbody>\n    <tr>\n      <th>0</th>\n      <td>73462715</td>\n      <td>378485233</td>\n      <td>1</td>\n      <td>NaN</td>\n      <td>9130</td>\n      <td>2014-11-18</td>\n      <td>2014-11-18</td>\n      <td>0</td>\n    </tr>\n    <tr>\n      <th>1</th>\n      <td>36090137</td>\n      <td>236748115</td>\n      <td>1</td>\n      <td>NaN</td>\n      <td>10523</td>\n      <td>2014-11-18</td>\n      <td>2014-11-18</td>\n      <td>0</td>\n    </tr>\n    <tr>\n      <th>2</th>\n      <td>40459733</td>\n      <td>155218177</td>\n      <td>1</td>\n      <td>NaN</td>\n      <td>8561</td>\n      <td>2014-11-18</td>\n      <td>2014-11-18</td>\n      <td>0</td>\n    </tr>\n    <tr>\n      <th>3</th>\n      <td>814199</td>\n      <td>149808524</td>\n      <td>1</td>\n      <td>NaN</td>\n      <td>9053</td>\n      <td>2014-11-18</td>\n      <td>2014-11-18</td>\n      <td>0</td>\n    </tr>\n    <tr>\n      <th>4</th>\n      <td>113309982</td>\n      <td>5730861</td>\n      <td>1</td>\n      <td>NaN</td>\n      <td>3783</td>\n      <td>2014-11-18</td>\n      <td>2014-11-18</td>\n      <td>0</td>\n    </tr>\n  </tbody>\n</table>\n</div>"
     },
     "execution_count": 22,
     "metadata": {},
     "output_type": "execute_result"
    }
   ],
   "source": [
    "data_user.head()"
   ],
   "metadata": {
    "collapsed": false,
    "pycharm": {
     "name": "#%%\n"
    }
   }
  },
  {
   "cell_type": "code",
   "execution_count": 23,
   "outputs": [
    {
     "data": {
      "text/plain": "         user_id    item_id behavior_type user_geohash item_category\ncount   12256906   12256906      12256906      3922082      12256906\nunique     10000    2876947             4       575458          8916\ntop     36233277  112921337             1      94ek6ke          1863\nfreq       31030       1445      11550581         1052        393247",
      "text/html": "<div>\n<style scoped>\n    .dataframe tbody tr th:only-of-type {\n        vertical-align: middle;\n    }\n\n    .dataframe tbody tr th {\n        vertical-align: top;\n    }\n\n    .dataframe thead th {\n        text-align: right;\n    }\n</style>\n<table border=\"1\" class=\"dataframe\">\n  <thead>\n    <tr style=\"text-align: right;\">\n      <th></th>\n      <th>user_id</th>\n      <th>item_id</th>\n      <th>behavior_type</th>\n      <th>user_geohash</th>\n      <th>item_category</th>\n    </tr>\n  </thead>\n  <tbody>\n    <tr>\n      <th>count</th>\n      <td>12256906</td>\n      <td>12256906</td>\n      <td>12256906</td>\n      <td>3922082</td>\n      <td>12256906</td>\n    </tr>\n    <tr>\n      <th>unique</th>\n      <td>10000</td>\n      <td>2876947</td>\n      <td>4</td>\n      <td>575458</td>\n      <td>8916</td>\n    </tr>\n    <tr>\n      <th>top</th>\n      <td>36233277</td>\n      <td>112921337</td>\n      <td>1</td>\n      <td>94ek6ke</td>\n      <td>1863</td>\n    </tr>\n    <tr>\n      <th>freq</th>\n      <td>31030</td>\n      <td>1445</td>\n      <td>11550581</td>\n      <td>1052</td>\n      <td>393247</td>\n    </tr>\n  </tbody>\n</table>\n</div>"
     },
     "execution_count": 23,
     "metadata": {},
     "output_type": "execute_result"
    }
   ],
   "source": [
    "# top是出现最多次数的那个str值，freq是top内的值出现的次数\n",
    "data_user.describe(include = ['object'])  #第二行可以看出行为类型，用户位置类别，商品品类"
   ],
   "metadata": {
    "collapsed": false,
    "pycharm": {
     "name": "#%%\n"
    }
   }
  },
  {
   "cell_type": "code",
   "execution_count": 25,
   "outputs": [
    {
     "data": {
      "text/plain": "           user_id    item_id behavior_type user_geohash item_category  \\\n126002    36233277   47069893             1      94ek6ke          1121   \n126409    36233277   98158383             1      94ek6ke          1121   \n126582    36233277  142300149             1      94ek6ke          1121   \n126955    36233277  161989622             1      94ek6ke          1121   \n262221    36233277  350861457             1      94ek6ke          1121   \n...            ...        ...           ...          ...           ...   \n12132749  36233277  224972503             3      94ek6ke          1863   \n12243377  36233277  229099022             1      94ek6ke          8721   \n12243569  36233277   34128930             1      94ek6ke          9835   \n12243608  36233277  221625532             1      94ek6ke          1863   \n12255805  36233277  260021102             1      94ek6ke          2825   \n\n                        time       date  hour  \n126002   2014-11-18 13:00:00 2014-11-18    13  \n126409   2014-11-18 13:00:00 2014-11-18    13  \n126582   2014-11-18 13:00:00 2014-11-18    13  \n126955   2014-11-18 13:00:00 2014-11-18    13  \n262221   2014-11-18 20:00:00 2014-11-18    20  \n...                      ...        ...   ...  \n12132749 2014-12-18 19:00:00 2014-12-18    19  \n12243377 2014-12-18 23:00:00 2014-12-18    23  \n12243569 2014-12-18 23:00:00 2014-12-18    23  \n12243608 2014-12-18 23:00:00 2014-12-18    23  \n12255805 2014-12-18 23:00:00 2014-12-18    23  \n\n[1052 rows x 8 columns]",
      "text/html": "<div>\n<style scoped>\n    .dataframe tbody tr th:only-of-type {\n        vertical-align: middle;\n    }\n\n    .dataframe tbody tr th {\n        vertical-align: top;\n    }\n\n    .dataframe thead th {\n        text-align: right;\n    }\n</style>\n<table border=\"1\" class=\"dataframe\">\n  <thead>\n    <tr style=\"text-align: right;\">\n      <th></th>\n      <th>user_id</th>\n      <th>item_id</th>\n      <th>behavior_type</th>\n      <th>user_geohash</th>\n      <th>item_category</th>\n      <th>time</th>\n      <th>date</th>\n      <th>hour</th>\n    </tr>\n  </thead>\n  <tbody>\n    <tr>\n      <th>126002</th>\n      <td>36233277</td>\n      <td>47069893</td>\n      <td>1</td>\n      <td>94ek6ke</td>\n      <td>1121</td>\n      <td>2014-11-18 13:00:00</td>\n      <td>2014-11-18</td>\n      <td>13</td>\n    </tr>\n    <tr>\n      <th>126409</th>\n      <td>36233277</td>\n      <td>98158383</td>\n      <td>1</td>\n      <td>94ek6ke</td>\n      <td>1121</td>\n      <td>2014-11-18 13:00:00</td>\n      <td>2014-11-18</td>\n      <td>13</td>\n    </tr>\n    <tr>\n      <th>126582</th>\n      <td>36233277</td>\n      <td>142300149</td>\n      <td>1</td>\n      <td>94ek6ke</td>\n      <td>1121</td>\n      <td>2014-11-18 13:00:00</td>\n      <td>2014-11-18</td>\n      <td>13</td>\n    </tr>\n    <tr>\n      <th>126955</th>\n      <td>36233277</td>\n      <td>161989622</td>\n      <td>1</td>\n      <td>94ek6ke</td>\n      <td>1121</td>\n      <td>2014-11-18 13:00:00</td>\n      <td>2014-11-18</td>\n      <td>13</td>\n    </tr>\n    <tr>\n      <th>262221</th>\n      <td>36233277</td>\n      <td>350861457</td>\n      <td>1</td>\n      <td>94ek6ke</td>\n      <td>1121</td>\n      <td>2014-11-18 20:00:00</td>\n      <td>2014-11-18</td>\n      <td>20</td>\n    </tr>\n    <tr>\n      <th>...</th>\n      <td>...</td>\n      <td>...</td>\n      <td>...</td>\n      <td>...</td>\n      <td>...</td>\n      <td>...</td>\n      <td>...</td>\n      <td>...</td>\n    </tr>\n    <tr>\n      <th>12132749</th>\n      <td>36233277</td>\n      <td>224972503</td>\n      <td>3</td>\n      <td>94ek6ke</td>\n      <td>1863</td>\n      <td>2014-12-18 19:00:00</td>\n      <td>2014-12-18</td>\n      <td>19</td>\n    </tr>\n    <tr>\n      <th>12243377</th>\n      <td>36233277</td>\n      <td>229099022</td>\n      <td>1</td>\n      <td>94ek6ke</td>\n      <td>8721</td>\n      <td>2014-12-18 23:00:00</td>\n      <td>2014-12-18</td>\n      <td>23</td>\n    </tr>\n    <tr>\n      <th>12243569</th>\n      <td>36233277</td>\n      <td>34128930</td>\n      <td>1</td>\n      <td>94ek6ke</td>\n      <td>9835</td>\n      <td>2014-12-18 23:00:00</td>\n      <td>2014-12-18</td>\n      <td>23</td>\n    </tr>\n    <tr>\n      <th>12243608</th>\n      <td>36233277</td>\n      <td>221625532</td>\n      <td>1</td>\n      <td>94ek6ke</td>\n      <td>1863</td>\n      <td>2014-12-18 23:00:00</td>\n      <td>2014-12-18</td>\n      <td>23</td>\n    </tr>\n    <tr>\n      <th>12255805</th>\n      <td>36233277</td>\n      <td>260021102</td>\n      <td>1</td>\n      <td>94ek6ke</td>\n      <td>2825</td>\n      <td>2014-12-18 23:00:00</td>\n      <td>2014-12-18</td>\n      <td>23</td>\n    </tr>\n  </tbody>\n</table>\n<p>1052 rows × 8 columns</p>\n</div>"
     },
     "execution_count": 25,
     "metadata": {},
     "output_type": "execute_result"
    }
   ],
   "source": [
    "data_user[data_user['user_geohash']=='94ek6ke']"
   ],
   "metadata": {
    "collapsed": false,
    "pycharm": {
     "name": "#%%\n"
    }
   }
  },
  {
   "cell_type": "code",
   "execution_count": 26,
   "outputs": [
    {
     "name": "stderr",
     "output_type": "stream",
     "text": [
      "C:\\Users\\waitp\\AppData\\Local\\Temp\\ipykernel_11584\\2449917830.py:1: FutureWarning: Treating datetime data as categorical rather than numeric in `.describe` is deprecated and will be removed in a future version of pandas. Specify `datetime_is_numeric=True` to silence this warning and adopt the future behavior now.\n",
      "  data_user.describe(include = 'all')\n",
      "C:\\Users\\waitp\\AppData\\Local\\Temp\\ipykernel_11584\\2449917830.py:1: FutureWarning: Treating datetime data as categorical rather than numeric in `.describe` is deprecated and will be removed in a future version of pandas. Specify `datetime_is_numeric=True` to silence this warning and adopt the future behavior now.\n",
      "  data_user.describe(include = 'all')\n"
     ]
    },
    {
     "data": {
      "text/plain": "         user_id    item_id behavior_type user_geohash item_category  \\\ncount   12256906   12256906      12256906      3922082      12256906   \nunique     10000    2876947             4       575458          8916   \ntop     36233277  112921337             1      94ek6ke          1863   \nfreq       31030       1445      11550581         1052        393247   \nfirst        NaN        NaN           NaN          NaN           NaN   \nlast         NaN        NaN           NaN          NaN           NaN   \nmean         NaN        NaN           NaN          NaN           NaN   \nstd          NaN        NaN           NaN          NaN           NaN   \nmin          NaN        NaN           NaN          NaN           NaN   \n25%          NaN        NaN           NaN          NaN           NaN   \n50%          NaN        NaN           NaN          NaN           NaN   \n75%          NaN        NaN           NaN          NaN           NaN   \nmax          NaN        NaN           NaN          NaN           NaN   \n\n                       time                 date          hour  \ncount              12256906             12256906  1.225691e+07  \nunique                  744                   31           NaN  \ntop     2014-12-11 22:00:00  2014-12-12 00:00:00           NaN  \nfreq                  54797               691712           NaN  \nfirst   2014-11-18 00:00:00  2014-11-18 00:00:00           NaN  \nlast    2014-12-18 23:00:00  2014-12-18 00:00:00           NaN  \nmean                    NaN                  NaN  1.481799e+01  \nstd                     NaN                  NaN  6.474778e+00  \nmin                     NaN                  NaN  0.000000e+00  \n25%                     NaN                  NaN  1.000000e+01  \n50%                     NaN                  NaN  1.600000e+01  \n75%                     NaN                  NaN  2.000000e+01  \nmax                     NaN                  NaN  2.300000e+01  ",
      "text/html": "<div>\n<style scoped>\n    .dataframe tbody tr th:only-of-type {\n        vertical-align: middle;\n    }\n\n    .dataframe tbody tr th {\n        vertical-align: top;\n    }\n\n    .dataframe thead th {\n        text-align: right;\n    }\n</style>\n<table border=\"1\" class=\"dataframe\">\n  <thead>\n    <tr style=\"text-align: right;\">\n      <th></th>\n      <th>user_id</th>\n      <th>item_id</th>\n      <th>behavior_type</th>\n      <th>user_geohash</th>\n      <th>item_category</th>\n      <th>time</th>\n      <th>date</th>\n      <th>hour</th>\n    </tr>\n  </thead>\n  <tbody>\n    <tr>\n      <th>count</th>\n      <td>12256906</td>\n      <td>12256906</td>\n      <td>12256906</td>\n      <td>3922082</td>\n      <td>12256906</td>\n      <td>12256906</td>\n      <td>12256906</td>\n      <td>1.225691e+07</td>\n    </tr>\n    <tr>\n      <th>unique</th>\n      <td>10000</td>\n      <td>2876947</td>\n      <td>4</td>\n      <td>575458</td>\n      <td>8916</td>\n      <td>744</td>\n      <td>31</td>\n      <td>NaN</td>\n    </tr>\n    <tr>\n      <th>top</th>\n      <td>36233277</td>\n      <td>112921337</td>\n      <td>1</td>\n      <td>94ek6ke</td>\n      <td>1863</td>\n      <td>2014-12-11 22:00:00</td>\n      <td>2014-12-12 00:00:00</td>\n      <td>NaN</td>\n    </tr>\n    <tr>\n      <th>freq</th>\n      <td>31030</td>\n      <td>1445</td>\n      <td>11550581</td>\n      <td>1052</td>\n      <td>393247</td>\n      <td>54797</td>\n      <td>691712</td>\n      <td>NaN</td>\n    </tr>\n    <tr>\n      <th>first</th>\n      <td>NaN</td>\n      <td>NaN</td>\n      <td>NaN</td>\n      <td>NaN</td>\n      <td>NaN</td>\n      <td>2014-11-18 00:00:00</td>\n      <td>2014-11-18 00:00:00</td>\n      <td>NaN</td>\n    </tr>\n    <tr>\n      <th>last</th>\n      <td>NaN</td>\n      <td>NaN</td>\n      <td>NaN</td>\n      <td>NaN</td>\n      <td>NaN</td>\n      <td>2014-12-18 23:00:00</td>\n      <td>2014-12-18 00:00:00</td>\n      <td>NaN</td>\n    </tr>\n    <tr>\n      <th>mean</th>\n      <td>NaN</td>\n      <td>NaN</td>\n      <td>NaN</td>\n      <td>NaN</td>\n      <td>NaN</td>\n      <td>NaN</td>\n      <td>NaN</td>\n      <td>1.481799e+01</td>\n    </tr>\n    <tr>\n      <th>std</th>\n      <td>NaN</td>\n      <td>NaN</td>\n      <td>NaN</td>\n      <td>NaN</td>\n      <td>NaN</td>\n      <td>NaN</td>\n      <td>NaN</td>\n      <td>6.474778e+00</td>\n    </tr>\n    <tr>\n      <th>min</th>\n      <td>NaN</td>\n      <td>NaN</td>\n      <td>NaN</td>\n      <td>NaN</td>\n      <td>NaN</td>\n      <td>NaN</td>\n      <td>NaN</td>\n      <td>0.000000e+00</td>\n    </tr>\n    <tr>\n      <th>25%</th>\n      <td>NaN</td>\n      <td>NaN</td>\n      <td>NaN</td>\n      <td>NaN</td>\n      <td>NaN</td>\n      <td>NaN</td>\n      <td>NaN</td>\n      <td>1.000000e+01</td>\n    </tr>\n    <tr>\n      <th>50%</th>\n      <td>NaN</td>\n      <td>NaN</td>\n      <td>NaN</td>\n      <td>NaN</td>\n      <td>NaN</td>\n      <td>NaN</td>\n      <td>NaN</td>\n      <td>1.600000e+01</td>\n    </tr>\n    <tr>\n      <th>75%</th>\n      <td>NaN</td>\n      <td>NaN</td>\n      <td>NaN</td>\n      <td>NaN</td>\n      <td>NaN</td>\n      <td>NaN</td>\n      <td>NaN</td>\n      <td>2.000000e+01</td>\n    </tr>\n    <tr>\n      <th>max</th>\n      <td>NaN</td>\n      <td>NaN</td>\n      <td>NaN</td>\n      <td>NaN</td>\n      <td>NaN</td>\n      <td>NaN</td>\n      <td>NaN</td>\n      <td>2.300000e+01</td>\n    </tr>\n  </tbody>\n</table>\n</div>"
     },
     "execution_count": 26,
     "metadata": {},
     "output_type": "execute_result"
    }
   ],
   "source": [
    "data_user.describe(include = 'all')"
   ],
   "metadata": {
    "collapsed": false,
    "pycharm": {
     "name": "#%%\n"
    }
   }
  },
  {
   "cell_type": "markdown",
   "source": [
    "# 构建模型"
   ],
   "metadata": {
    "collapsed": false
   }
  },
  {
   "cell_type": "code",
   "execution_count": 27,
   "outputs": [],
   "source": [
    "pv_daily = data_user.groupby('date').count()['user_id']"
   ],
   "metadata": {
    "collapsed": false,
    "pycharm": {
     "name": "#%%\n"
    }
   }
  },
  {
   "cell_type": "code",
   "execution_count": 28,
   "outputs": [
    {
     "data": {
      "text/plain": "date\n2014-11-18    366701\n2014-11-19    358823\n2014-11-20    353429\n2014-11-21    333104\n2014-11-22    361355\nName: user_id, dtype: int64"
     },
     "execution_count": 28,
     "metadata": {},
     "output_type": "execute_result"
    }
   ],
   "source": [
    "#得到了每天的pv（日活）\n",
    "pv_daily.head()"
   ],
   "metadata": {
    "collapsed": false,
    "pycharm": {
     "name": "#%%\n"
    }
   }
  },
  {
   "cell_type": "code",
   "execution_count": 29,
   "outputs": [],
   "source": [
    "#如果不小心把名字弄错了，不需要重新读取数据，直接改列名\n",
    "#改为user_id1的目的是为了下面命名为pv,uv做准备\n",
    "pv_daily = pv_daily.rename('user_id1') #注意这里一定要写赋值"
   ],
   "metadata": {
    "collapsed": false,
    "pycharm": {
     "name": "#%%\n"
    }
   }
  },
  {
   "cell_type": "code",
   "execution_count": 30,
   "outputs": [],
   "source": [
    "#显示所有列\n",
    "pd.set_option('display.max_columns', None)\n",
    "#显示所有行\n",
    "pd.set_option('display.max_rows', None)\n",
    "#设置value的显示长度为100，默认为50\n",
    "pd.set_option('max_colwidth',100)"
   ],
   "metadata": {
    "collapsed": false,
    "pycharm": {
     "name": "#%%\n"
    }
   }
  },
  {
   "cell_type": "code",
   "execution_count": 63,
   "outputs": [
    {
     "data": {
      "text/plain": "0            73462715\n1            36090137\n2            40459733\n3              814199\n4           113309982\n5              814199\n6              814199\n7            79587494\n8            71146691\n9            71146691\n366701       81506172\n366702        1926899\n366703       51204443\n366704        4364079\n366705       46274658\n366706      120852545\n366707       51204443\n366708       69389641\n366709      133240213\n366710       18785289\n725524       35427753\n725525       73854016\n725526       78314284\n725527       74492481\n725528       53916276\n725529       10539406\n725530       62068426\n725531       17048049\n725532       10164041\n725533       73455580\n1078953      74952849\n1078954     139174569\n1078955      33596774\n1078956      85169785\n1078957      97389266\n1078958      48509295\n1078959      75251738\n1078960      11552428\n1078961     139174569\n1078962     119160278\n1412057      97019627\n1412058     131112654\n1412059     134233776\n1412060       2283337\n1412061       7226947\n1412062     108506795\n1412063      39526193\n1412064       2196875\n1412065     121306092\n1412066     135402088\n1773412      15541192\n1773413      89428650\n1773414      88090767\n1773415     117026591\n1773416     108039936\n1773417      73138544\n1773418     137175187\n1773419     110561108\n1773420      43794910\n1773421      97733928\n2156114      59659116\n2156115     125482009\n2156116      59511789\n2156117      87983348\n2156118      45598577\n2156119     120215742\n2156120      77801990\n2156121     108535249\n2156122     100288957\n2156123     139725346\n2534456     113693068\n2534457     126215864\n2534458      94992306\n2534459      15957740\n2534460      94992306\n2534461      10020755\n2534462     108049747\n2534463      81506172\n2534464      44706382\n2534465      59864388\n2904695     114726208\n2904696      73196588\n2904697      45773960\n2904698     102930156\n2904699      28085061\n2904700     138635225\n2904701      61459598\n2904702     123395094\n2904703     104479798\n2904704     138467876\n3265591      84441355\n3265592      48677702\n3265593      12570225\n3265594       3840121\n3265595      63159938\n3265596      62901515\n3265597      84441355\n3265598      83851924\n3265599      12925543\n3265600      18009500\n3636975      64699430\n3636976      38387226\n3636977      33513319\n3636978     126024699\n3636979      61626834\n3636980       4283186\n3636981       9056309\n3636982     125482009\n3636983       4573013\n3636984      33984927\n3977613      79134636\n3977614     135639209\n3977615      35272739\n3977616      85558599\n3977617     137428887\n3977618     138977388\n3977619      64699430\n3977620      36457777\n3977621     138977388\n3977622     113674227\n4342310     124063835\n4342311      29689901\n4342312     103936681\n4342313      83960181\n4342314     103377341\n4342315     126399162\n4342316     108369002\n4342317      88548564\n4342318      93702639\n4342319       5051617\n4743930      94943213\n4743931      10825402\n4743932      47693061\n4743933     140990654\n4743934     128476994\n4743935      82857884\n4743936     141840594\n4743937       4261260\n4743938     109613455\n4743939     128213972\n5138541     112044266\n5138542     112044266\n5138543      72990071\n5138544      74752035\n5138545     122822446\n5138546     131961100\n5138547     112044266\n5138548      52577851\n5138549      74752035\n5138550     134630812\n5543757       5837961\n5543758      21465106\n5543759      10309048\n5543760      77965060\n5543761      61596634\n5543762      46023224\n5543763      34693663\n5543764     108287275\n5543765      38478428\n5543766      25330254\n5955363      80378029\n5955364     113285889\n5955365      80378029\n5955366      67202688\n5955367      21562611\n5955368      29476135\n5955369        814199\n5955370     112044266\n5955371      33674599\n5955372     112142417\n6355315      95290487\n6355316     138301582\n6355317     100637858\n6355318      25330254\n6355319      70689524\n6355320      74049444\n6355321     112570004\n6355322     123842164\n6355323       4869558\n6355324      57846106\n6717193     126951542\n6717194     119675939\n6717195      66688297\n6717196     129675564\n6717197     116678892\n6717198     125193088\n6717199     101287551\n6717200     119675939\n6717201      70233601\n6717202      22182160\n7106803     132627681\n7106804      91351115\n7106805      87351617\n7106806      83158116\n7106807     123842164\n7106808      88950524\n7106809      77591948\n7106810     123250328\n7106811      43250746\n7106812      82604847\n7506554     120685346\n7506555      48942128\n7506556      47874120\n7506557     117903708\n7506558     110374516\n7506559      66150030\n7506560     128039265\n7506561      18757834\n7506562     116232438\n7506563      76314785\n7893221     134479240\n7893222      28975138\n7893223       3318666\n7893224     136506198\n7893225      82853795\n7893226      67514411\n7893227      98043049\n7893228      59511789\n7893229      72306639\n7893230     132966536\n8291246      64030719\n8291247      81840544\n8291248      65683052\n8291249     138843810\n8291250     121273095\n8291251      77822835\n8291252      99425436\n8291253      74947645\n8291254      64030719\n8291255      43626933\n8713156     112747648\n8713157      78704357\n8713158     105278727\n8713159      51053646\n8713160      47874120\n8713161      66274733\n8713162      51053646\n8713163      12940608\n8713164       9639120\n8713165       1257131\n9201664      43488815\n9201665      57190135\n9201666     110276286\n9201667     130547450\n9201668     107377446\n9201669     119681430\n9201670      74314315\n9201671      56892801\n9201672       7197108\n9201673      70876649\n9893376      89886681\n9893377       8679255\n9893378     109927373\n9893379     140732064\n9893380      80052488\n9893381      40211203\n9893382     101748138\n9893383      40729803\n9893384      71702944\n9893385      10990641\n10300536     12055347\n10300537    139145544\n10300538    118061360\n10300539      5315279\n10300540     64557626\n10300541    132711863\n10300542     30839253\n10300543     59511789\n10300544    118056913\n10300545      2675166\n10703077     73218701\n10703078    133754248\n10703079    121000384\n10703080     59894542\n10703081    110883373\n10703082      8354126\n10703083     12570225\n10703084    124790821\n10703085     37981108\n10703086     55588786\n11101433       100539\n11101434     10319860\n11101435     52895098\n11101436       100539\n11101437     77119566\n11101438     79807626\n11101439    104792616\n11101440    133003311\n11101441     68917618\n11101442     16676403\n11496518     33544881\n11496519     15158257\n11496520       189833\n11496521     20347929\n11496522    136204332\n11496523    122079464\n11496524    140230525\n11496525    101435898\n11496526     10309048\n11496527    112317649\n11881309     52895098\n11881310     62360262\n11881311     37981108\n11881312     33984927\n11881313    125912657\n11881314     93755017\n11881315     48059114\n11881316     57808521\n11881317     62360262\n11881318     48885147\nName: user_id, dtype: object"
     },
     "execution_count": 63,
     "metadata": {},
     "output_type": "execute_result"
    }
   ],
   "source": [
    "data_user.groupby('date')['user_id'].head(10)"
   ],
   "metadata": {
    "collapsed": false,
    "pycharm": {
     "name": "#%%\n"
    }
   }
  },
  {
   "cell_type": "code",
   "execution_count": 36,
   "outputs": [],
   "source": [
    "#如何计算uv，针对用户访问进行去重，再计算数目\n",
    "uv_daily = data_user.groupby('date')['user_id'].apply(lambda x:x.drop_duplicates().count())\n"
   ],
   "metadata": {
    "collapsed": false,
    "pycharm": {
     "name": "#%%\n"
    }
   }
  },
  {
   "cell_type": "code",
   "execution_count": 37,
   "outputs": [
    {
     "data": {
      "text/plain": "date\n2014-11-18    6343\n2014-11-19    6420\n2014-11-20    6333\n2014-11-21    6276\n2014-11-22    6187\nName: user_id, dtype: int64"
     },
     "execution_count": 37,
     "metadata": {},
     "output_type": "execute_result"
    }
   ],
   "source": [
    "uv_daily.head()"
   ],
   "metadata": {
    "collapsed": false,
    "pycharm": {
     "name": "#%%\n"
    }
   }
  },
  {
   "cell_type": "code",
   "execution_count": 38,
   "outputs": [],
   "source": [
    "pv_uv_daily = pd.concat([pv_daily, uv_daily],axis=1)\n"
   ],
   "metadata": {
    "collapsed": false,
    "pycharm": {
     "name": "#%%\n"
    }
   }
  },
  {
   "cell_type": "code",
   "execution_count": 39,
   "outputs": [
    {
     "data": {
      "text/plain": "            user_id1  user_id\ndate                         \n2014-11-18    366701     6343\n2014-11-19    358823     6420\n2014-11-20    353429     6333\n2014-11-21    333104     6276\n2014-11-22    361355     6187",
      "text/html": "<div>\n<style scoped>\n    .dataframe tbody tr th:only-of-type {\n        vertical-align: middle;\n    }\n\n    .dataframe tbody tr th {\n        vertical-align: top;\n    }\n\n    .dataframe thead th {\n        text-align: right;\n    }\n</style>\n<table border=\"1\" class=\"dataframe\">\n  <thead>\n    <tr style=\"text-align: right;\">\n      <th></th>\n      <th>user_id1</th>\n      <th>user_id</th>\n    </tr>\n    <tr>\n      <th>date</th>\n      <th></th>\n      <th></th>\n    </tr>\n  </thead>\n  <tbody>\n    <tr>\n      <th>2014-11-18</th>\n      <td>366701</td>\n      <td>6343</td>\n    </tr>\n    <tr>\n      <th>2014-11-19</th>\n      <td>358823</td>\n      <td>6420</td>\n    </tr>\n    <tr>\n      <th>2014-11-20</th>\n      <td>353429</td>\n      <td>6333</td>\n    </tr>\n    <tr>\n      <th>2014-11-21</th>\n      <td>333104</td>\n      <td>6276</td>\n    </tr>\n    <tr>\n      <th>2014-11-22</th>\n      <td>361355</td>\n      <td>6187</td>\n    </tr>\n  </tbody>\n</table>\n</div>"
     },
     "execution_count": 39,
     "metadata": {},
     "output_type": "execute_result"
    }
   ],
   "source": [
    "pv_uv_daily.head()"
   ],
   "metadata": {
    "collapsed": false,
    "pycharm": {
     "name": "#%%\n"
    }
   }
  },
  {
   "cell_type": "code",
   "execution_count": 40,
   "outputs": [],
   "source": [
    "pv_uv_daily.rename(columns={'user_id1':'pv','user_id':'uv'},inplace =True)\n"
   ],
   "metadata": {
    "collapsed": false,
    "pycharm": {
     "name": "#%%\n"
    }
   }
  },
  {
   "cell_type": "code",
   "execution_count": 41,
   "outputs": [
    {
     "data": {
      "text/plain": "                pv    uv\ndate                    \n2014-11-18  366701  6343\n2014-11-19  358823  6420\n2014-11-20  353429  6333\n2014-11-21  333104  6276\n2014-11-22  361355  6187",
      "text/html": "<div>\n<style scoped>\n    .dataframe tbody tr th:only-of-type {\n        vertical-align: middle;\n    }\n\n    .dataframe tbody tr th {\n        vertical-align: top;\n    }\n\n    .dataframe thead th {\n        text-align: right;\n    }\n</style>\n<table border=\"1\" class=\"dataframe\">\n  <thead>\n    <tr style=\"text-align: right;\">\n      <th></th>\n      <th>pv</th>\n      <th>uv</th>\n    </tr>\n    <tr>\n      <th>date</th>\n      <th></th>\n      <th></th>\n    </tr>\n  </thead>\n  <tbody>\n    <tr>\n      <th>2014-11-18</th>\n      <td>366701</td>\n      <td>6343</td>\n    </tr>\n    <tr>\n      <th>2014-11-19</th>\n      <td>358823</td>\n      <td>6420</td>\n    </tr>\n    <tr>\n      <th>2014-11-20</th>\n      <td>353429</td>\n      <td>6333</td>\n    </tr>\n    <tr>\n      <th>2014-11-21</th>\n      <td>333104</td>\n      <td>6276</td>\n    </tr>\n    <tr>\n      <th>2014-11-22</th>\n      <td>361355</td>\n      <td>6187</td>\n    </tr>\n  </tbody>\n</table>\n</div>"
     },
     "execution_count": 41,
     "metadata": {},
     "output_type": "execute_result"
    }
   ],
   "source": [
    "pv_uv_daily.head()"
   ],
   "metadata": {
    "collapsed": false,
    "pycharm": {
     "name": "#%%\n"
    }
   }
  },
  {
   "cell_type": "code",
   "execution_count": 42,
   "outputs": [],
   "source": [
    "pv_uv_daily.head(5).to_csv('pv_uv.csv')"
   ],
   "metadata": {
    "collapsed": false,
    "pycharm": {
     "name": "#%%\n"
    }
   }
  },
  {
   "cell_type": "code",
   "execution_count": null,
   "outputs": [],
   "source": [
    "# pv_uv_daily.head(5).to_excel('pv_uv.xls')"
   ],
   "metadata": {
    "collapsed": false,
    "pycharm": {
     "name": "#%%\n"
    }
   }
  },
  {
   "cell_type": "code",
   "execution_count": 43,
   "outputs": [
    {
     "data": {
      "text/plain": "       pv     uv\npv  1.000  0.825\nuv  0.825  1.000",
      "text/html": "<div>\n<style scoped>\n    .dataframe tbody tr th:only-of-type {\n        vertical-align: middle;\n    }\n\n    .dataframe tbody tr th {\n        vertical-align: top;\n    }\n\n    .dataframe thead th {\n        text-align: right;\n    }\n</style>\n<table border=\"1\" class=\"dataframe\">\n  <thead>\n    <tr style=\"text-align: right;\">\n      <th></th>\n      <th>pv</th>\n      <th>uv</th>\n    </tr>\n  </thead>\n  <tbody>\n    <tr>\n      <th>pv</th>\n      <td>1.000</td>\n      <td>0.825</td>\n    </tr>\n    <tr>\n      <th>uv</th>\n      <td>0.825</td>\n      <td>1.000</td>\n    </tr>\n  </tbody>\n</table>\n</div>"
     },
     "execution_count": 43,
     "metadata": {},
     "output_type": "execute_result"
    }
   ],
   "source": [
    "pv_uv_daily.corr(method = 'spearman')"
   ],
   "metadata": {
    "collapsed": false,
    "pycharm": {
     "name": "#%%\n"
    }
   }
  },
  {
   "cell_type": "code",
   "execution_count": 44,
   "outputs": [
    {
     "data": {
      "text/plain": "          pv        uv\npv  1.000000  0.920602\nuv  0.920602  1.000000",
      "text/html": "<div>\n<style scoped>\n    .dataframe tbody tr th:only-of-type {\n        vertical-align: middle;\n    }\n\n    .dataframe tbody tr th {\n        vertical-align: top;\n    }\n\n    .dataframe thead th {\n        text-align: right;\n    }\n</style>\n<table border=\"1\" class=\"dataframe\">\n  <thead>\n    <tr style=\"text-align: right;\">\n      <th></th>\n      <th>pv</th>\n      <th>uv</th>\n    </tr>\n  </thead>\n  <tbody>\n    <tr>\n      <th>pv</th>\n      <td>1.000000</td>\n      <td>0.920602</td>\n    </tr>\n    <tr>\n      <th>uv</th>\n      <td>0.920602</td>\n      <td>1.000000</td>\n    </tr>\n  </tbody>\n</table>\n</div>"
     },
     "execution_count": 44,
     "metadata": {},
     "output_type": "execute_result"
    }
   ],
   "source": [
    "pv_uv_daily.corr(method = 'pearson')  #皮尔逊相关系数,到推荐那里讲"
   ],
   "metadata": {
    "collapsed": false,
    "pycharm": {
     "name": "#%%\n"
    }
   }
  },
  {
   "cell_type": "code",
   "execution_count": null,
   "outputs": [],
   "source": [
    "#上面说明每天的访问量和访问用户是正相关的关系"
   ],
   "metadata": {
    "collapsed": false,
    "pycharm": {
     "name": "#%%\n"
    }
   }
  },
  {
   "cell_type": "code",
   "execution_count": 45,
   "outputs": [
    {
     "data": {
      "text/plain": "date\n2014-11-18    366701\n2014-11-19    358823\n2014-11-20    353429\n2014-11-21    333104\n2014-11-22    361355\n2014-11-23    382702\n2014-11-24    378342\n2014-11-25    370239\n2014-11-26    360896\n2014-11-27    371384\n2014-11-28    340638\n2014-11-29    364697\n2014-11-30    401620\n2014-12-01    394611\n2014-12-02    405216\n2014-12-03    411606\n2014-12-04    399952\n2014-12-05    361878\n2014-12-06    389610\n2014-12-07    399751\n2014-12-08    386667\n2014-12-09    398025\n2014-12-10    421910\n2014-12-11    488508\n2014-12-12    691712\n2014-12-13    407160\n2014-12-14    402541\n2014-12-15    398356\n2014-12-16    395085\n2014-12-17    384791\n2014-12-18    375597\nName: user_id1, dtype: int64"
     },
     "execution_count": 45,
     "metadata": {},
     "output_type": "execute_result"
    }
   ],
   "source": [
    "pv_daily.head(100)"
   ],
   "metadata": {
    "collapsed": false,
    "pycharm": {
     "name": "#%%\n"
    }
   }
  },
  {
   "cell_type": "code",
   "execution_count": 46,
   "outputs": [
    {
     "data": {
      "text/plain": "<Figure size 1152x648 with 2 Axes>",
      "image/png": "[encoded data removed]"
     },
     "metadata": {},
     "output_type": "display_data"
    }
   ],
   "source": [
    "#默认显示一个月的区别\n",
    "plt.figure(figsize=(16,9))\n",
    "plt.subplot(211)  #等价于2,1,2，是2行1列图，这里是第一个图\n",
    "plt.plot(pv_daily, color='red')  #pv_daily是一个series，\n",
    "plt.title('每天访问量')\n",
    "plt.subplot(212)\n",
    "plt.plot(uv_daily,color='green')\n",
    "plt.title('每天访问用户数')\n",
    "plt.suptitle('UV和PV变化趋势')\n",
    "plt.show()\n"
   ],
   "metadata": {
    "collapsed": false,
    "pycharm": {
     "name": "#%%\n"
    }
   }
  },
  {
   "cell_type": "code",
   "execution_count": null,
   "outputs": [],
   "source": [
    "#结论：上面两幅图可以发现双12达到峰值"
   ],
   "metadata": {
    "collapsed": false,
    "pycharm": {
     "name": "#%%\n"
    }
   }
  },
  {
   "cell_type": "code",
   "execution_count": 47,
   "outputs": [],
   "source": [
    "#小时的pv\n",
    "pv_daily = data_user.groupby('hour').count()['user_id']"
   ],
   "metadata": {
    "collapsed": false,
    "pycharm": {
     "name": "#%%\n"
    }
   }
  },
  {
   "cell_type": "code",
   "execution_count": 48,
   "outputs": [
    {
     "data": {
      "text/plain": "hour\n0      517404\n1      267682\n2      147090\n3       98516\n4       80487\n5       88296\n6      158798\n7      287337\n8      396106\n9      485951\n10     550665\n11     526940\n12     531957\n13     598343\n14     594215\n15     598849\n16     576207\n17     505936\n18     547383\n19     735192\n20     935161\n21    1090178\n22    1088961\n23     849252\nName: user_id, dtype: int64"
     },
     "execution_count": 48,
     "metadata": {},
     "output_type": "execute_result"
    }
   ],
   "source": [
    "pv_daily.head(30)"
   ],
   "metadata": {
    "collapsed": false,
    "pycharm": {
     "name": "#%%\n"
    }
   }
  },
  {
   "cell_type": "code",
   "execution_count": 49,
   "outputs": [],
   "source": [
    "#小时的uv\n",
    "uv_daily = data_user.groupby('hour')['user_id'].apply(lambda x:x.drop_duplicates().count())"
   ],
   "metadata": {
    "collapsed": false,
    "pycharm": {
     "name": "#%%\n"
    }
   }
  },
  {
   "cell_type": "code",
   "execution_count": 50,
   "outputs": [
    {
     "data": {
      "text/plain": "hour\n0     5786\n1     3780\n2     2532\n3     1937\n4     1765\n5     2030\n6     3564\n7     5722\n8     7108\n9     7734\n10    8139\n11    8239\n12    8314\n13    8352\n14    8255\n15    8257\n16    8320\n17    8228\n18    8278\n19    8538\n20    8780\n21    8866\n22    8599\n23    7484\nName: user_id, dtype: int64"
     },
     "execution_count": 50,
     "metadata": {},
     "output_type": "execute_result"
    }
   ],
   "source": [
    "uv_daily.head(30)"
   ],
   "metadata": {
    "collapsed": false,
    "pycharm": {
     "name": "#%%\n"
    }
   }
  },
  {
   "cell_type": "code",
   "execution_count": 51,
   "outputs": [],
   "source": [
    "pv_uv_daily = pd.concat([pv_daily, uv_daily],axis=1)"
   ],
   "metadata": {
    "collapsed": false,
    "pycharm": {
     "name": "#%%\n"
    }
   }
  },
  {
   "cell_type": "code",
   "execution_count": 52,
   "outputs": [],
   "source": [
    "pv_uv_daily.columns=['pv','uv']"
   ],
   "metadata": {
    "collapsed": false,
    "pycharm": {
     "name": "#%%\n"
    }
   }
  },
  {
   "cell_type": "code",
   "execution_count": 53,
   "outputs": [
    {
     "data": {
      "text/plain": "          pv    uv\nhour              \n0     517404  5786\n1     267682  3780\n2     147090  2532\n3      98516  1937\n4      80487  1765",
      "text/html": "<div>\n<style scoped>\n    .dataframe tbody tr th:only-of-type {\n        vertical-align: middle;\n    }\n\n    .dataframe tbody tr th {\n        vertical-align: top;\n    }\n\n    .dataframe thead th {\n        text-align: right;\n    }\n</style>\n<table border=\"1\" class=\"dataframe\">\n  <thead>\n    <tr style=\"text-align: right;\">\n      <th></th>\n      <th>pv</th>\n      <th>uv</th>\n    </tr>\n    <tr>\n      <th>hour</th>\n      <th></th>\n      <th></th>\n    </tr>\n  </thead>\n  <tbody>\n    <tr>\n      <th>0</th>\n      <td>517404</td>\n      <td>5786</td>\n    </tr>\n    <tr>\n      <th>1</th>\n      <td>267682</td>\n      <td>3780</td>\n    </tr>\n    <tr>\n      <th>2</th>\n      <td>147090</td>\n      <td>2532</td>\n    </tr>\n    <tr>\n      <th>3</th>\n      <td>98516</td>\n      <td>1937</td>\n    </tr>\n    <tr>\n      <th>4</th>\n      <td>80487</td>\n      <td>1765</td>\n    </tr>\n  </tbody>\n</table>\n</div>"
     },
     "execution_count": 53,
     "metadata": {},
     "output_type": "execute_result"
    }
   ],
   "source": [
    "pv_uv_daily.head()"
   ],
   "metadata": {
    "collapsed": false,
    "pycharm": {
     "name": "#%%\n"
    }
   }
  },
  {
   "cell_type": "code",
   "execution_count": 54,
   "outputs": [
    {
     "data": {
      "text/plain": "          pv        uv\npv  1.000000  0.903478\nuv  0.903478  1.000000",
      "text/html": "<div>\n<style scoped>\n    .dataframe tbody tr th:only-of-type {\n        vertical-align: middle;\n    }\n\n    .dataframe tbody tr th {\n        vertical-align: top;\n    }\n\n    .dataframe thead th {\n        text-align: right;\n    }\n</style>\n<table border=\"1\" class=\"dataframe\">\n  <thead>\n    <tr style=\"text-align: right;\">\n      <th></th>\n      <th>pv</th>\n      <th>uv</th>\n    </tr>\n  </thead>\n  <tbody>\n    <tr>\n      <th>pv</th>\n      <td>1.000000</td>\n      <td>0.903478</td>\n    </tr>\n    <tr>\n      <th>uv</th>\n      <td>0.903478</td>\n      <td>1.000000</td>\n    </tr>\n  </tbody>\n</table>\n</div>"
     },
     "execution_count": 54,
     "metadata": {},
     "output_type": "execute_result"
    }
   ],
   "source": [
    "pv_uv_daily.corr(method = 'spearman')"
   ],
   "metadata": {
    "collapsed": false,
    "pycharm": {
     "name": "#%%\n"
    }
   }
  },
  {
   "cell_type": "code",
   "execution_count": 55,
   "outputs": [
    {
     "data": {
      "text/plain": "          pv        uv\npv  1.000000  0.835305\nuv  0.835305  1.000000",
      "text/html": "<div>\n<style scoped>\n    .dataframe tbody tr th:only-of-type {\n        vertical-align: middle;\n    }\n\n    .dataframe tbody tr th {\n        vertical-align: top;\n    }\n\n    .dataframe thead th {\n        text-align: right;\n    }\n</style>\n<table border=\"1\" class=\"dataframe\">\n  <thead>\n    <tr style=\"text-align: right;\">\n      <th></th>\n      <th>pv</th>\n      <th>uv</th>\n    </tr>\n  </thead>\n  <tbody>\n    <tr>\n      <th>pv</th>\n      <td>1.000000</td>\n      <td>0.835305</td>\n    </tr>\n    <tr>\n      <th>uv</th>\n      <td>0.835305</td>\n      <td>1.000000</td>\n    </tr>\n  </tbody>\n</table>\n</div>"
     },
     "execution_count": 55,
     "metadata": {},
     "output_type": "execute_result"
    }
   ],
   "source": [
    "pv_uv_daily.corr(method = 'pearson')  #皮尔逊相关系数"
   ],
   "metadata": {
    "collapsed": false,
    "pycharm": {
     "name": "#%%\n"
    }
   }
  },
  {
   "cell_type": "code",
   "execution_count": null,
   "outputs": [],
   "source": [],
   "metadata": {
    "collapsed": false,
    "pycharm": {
     "name": "#%%\n"
    }
   }
  },
  {
   "cell_type": "code",
   "execution_count": 56,
   "outputs": [
    {
     "data": {
      "text/plain": "<Figure size 1152x648 with 2 Axes>",
      "image/png": "[encoded data removed]"
     },
     "metadata": {},
     "output_type": "display_data"
    }
   ],
   "source": [
    "plt.figure(figsize=(16,9))\n",
    "pv_uv_daily['pv'].plot(color= 'steelblue', label ='每个小时访问量')\n",
    "plt.legend(loc ='upper center')\n",
    "plt.ylabel('访问量')\n",
    "pv_uv_daily['uv'].plot(color= 'red', label='每个小时不同用户访问量',secondary_y =True)\n",
    "plt.ylabel('访问用户数')\n",
    "plt.xticks(range(0,24),pv_uv_daily.index)\n",
    "plt.legend(loc ='upper center')\n",
    "plt.grid(True)\n",
    "plt.show()\n"
   ],
   "metadata": {
    "collapsed": false,
    "pycharm": {
     "name": "#%%\n"
    }
   }
  },
  {
   "cell_type": "code",
   "execution_count": 57,
   "outputs": [],
   "source": [
    "#先看下上面的数据\n",
    "pv_detail = pd.pivot_table(columns ='behavior_type',index ='hour' , data = data_user,values = 'user_id',aggfunc=np.size)"
   ],
   "metadata": {
    "collapsed": false,
    "pycharm": {
     "name": "#%%\n"
    }
   }
  },
  {
   "cell_type": "code",
   "execution_count": 58,
   "outputs": [
    {
     "data": {
      "text/plain": "behavior_type        1      2      3     4\nhour                                      \n0               487341  11062  14156  4845\n1               252991   6276   6712  1703\n2               139139   3311   3834   806\n3                93250   2282   2480   504\n4                75832   2010   2248   397\n5                83545   2062   2213   476\n6               150356   3651   3768  1023\n7               272470   5885   7044  1938\n8               374701   7849   9970  3586\n9               456781  10507  12956  5707\n10              515960  11185  16203  7317\n11              493679  10918  15257  7086\n12              500036   9940  15025  6956\n13              561513  11694  17419  7717\n14              558246  11695  17067  7207\n15              562238  12010  17289  7312\n16              541846  11127  16304  6930\n17              476369   9754  14515  5298\n18              517078  10342  14823  5140\n19              696035  13952  18853  6352\n20              885669  16599  25021  7872\n21             1030483  20397  30469  8829\n22             1027269  20343  32504  8845\n23              797754  17705  27434  6359",
      "text/html": "<div>\n<style scoped>\n    .dataframe tbody tr th:only-of-type {\n        vertical-align: middle;\n    }\n\n    .dataframe tbody tr th {\n        vertical-align: top;\n    }\n\n    .dataframe thead th {\n        text-align: right;\n    }\n</style>\n<table border=\"1\" class=\"dataframe\">\n  <thead>\n    <tr style=\"text-align: right;\">\n      <th>behavior_type</th>\n      <th>1</th>\n      <th>2</th>\n      <th>3</th>\n      <th>4</th>\n    </tr>\n    <tr>\n      <th>hour</th>\n      <th></th>\n      <th></th>\n      <th></th>\n      <th></th>\n    </tr>\n  </thead>\n  <tbody>\n    <tr>\n      <th>0</th>\n      <td>487341</td>\n      <td>11062</td>\n      <td>14156</td>\n      <td>4845</td>\n    </tr>\n    <tr>\n      <th>1</th>\n      <td>252991</td>\n      <td>6276</td>\n      <td>6712</td>\n      <td>1703</td>\n    </tr>\n    <tr>\n      <th>2</th>\n      <td>139139</td>\n      <td>3311</td>\n      <td>3834</td>\n      <td>806</td>\n    </tr>\n    <tr>\n      <th>3</th>\n      <td>93250</td>\n      <td>2282</td>\n      <td>2480</td>\n      <td>504</td>\n    </tr>\n    <tr>\n      <th>4</th>\n      <td>75832</td>\n      <td>2010</td>\n      <td>2248</td>\n      <td>397</td>\n    </tr>\n    <tr>\n      <th>5</th>\n      <td>83545</td>\n      <td>2062</td>\n      <td>2213</td>\n      <td>476</td>\n    </tr>\n    <tr>\n      <th>6</th>\n      <td>150356</td>\n      <td>3651</td>\n      <td>3768</td>\n      <td>1023</td>\n    </tr>\n    <tr>\n      <th>7</th>\n      <td>272470</td>\n      <td>5885</td>\n      <td>7044</td>\n      <td>1938</td>\n    </tr>\n    <tr>\n      <th>8</th>\n      <td>374701</td>\n      <td>7849</td>\n      <td>9970</td>\n      <td>3586</td>\n    </tr>\n    <tr>\n      <th>9</th>\n      <td>456781</td>\n      <td>10507</td>\n      <td>12956</td>\n      <td>5707</td>\n    </tr>\n    <tr>\n      <th>10</th>\n      <td>515960</td>\n      <td>11185</td>\n      <td>16203</td>\n      <td>7317</td>\n    </tr>\n    <tr>\n      <th>11</th>\n      <td>493679</td>\n      <td>10918</td>\n      <td>15257</td>\n      <td>7086</td>\n    </tr>\n    <tr>\n      <th>12</th>\n      <td>500036</td>\n      <td>9940</td>\n      <td>15025</td>\n      <td>6956</td>\n    </tr>\n    <tr>\n      <th>13</th>\n      <td>561513</td>\n      <td>11694</td>\n      <td>17419</td>\n      <td>7717</td>\n    </tr>\n    <tr>\n      <th>14</th>\n      <td>558246</td>\n      <td>11695</td>\n      <td>17067</td>\n      <td>7207</td>\n    </tr>\n    <tr>\n      <th>15</th>\n      <td>562238</td>\n      <td>12010</td>\n      <td>17289</td>\n      <td>7312</td>\n    </tr>\n    <tr>\n      <th>16</th>\n      <td>541846</td>\n      <td>11127</td>\n      <td>16304</td>\n      <td>6930</td>\n    </tr>\n    <tr>\n      <th>17</th>\n      <td>476369</td>\n      <td>9754</td>\n      <td>14515</td>\n      <td>5298</td>\n    </tr>\n    <tr>\n      <th>18</th>\n      <td>517078</td>\n      <td>10342</td>\n      <td>14823</td>\n      <td>5140</td>\n    </tr>\n    <tr>\n      <th>19</th>\n      <td>696035</td>\n      <td>13952</td>\n      <td>18853</td>\n      <td>6352</td>\n    </tr>\n    <tr>\n      <th>20</th>\n      <td>885669</td>\n      <td>16599</td>\n      <td>25021</td>\n      <td>7872</td>\n    </tr>\n    <tr>\n      <th>21</th>\n      <td>1030483</td>\n      <td>20397</td>\n      <td>30469</td>\n      <td>8829</td>\n    </tr>\n    <tr>\n      <th>22</th>\n      <td>1027269</td>\n      <td>20343</td>\n      <td>32504</td>\n      <td>8845</td>\n    </tr>\n    <tr>\n      <th>23</th>\n      <td>797754</td>\n      <td>17705</td>\n      <td>27434</td>\n      <td>6359</td>\n    </tr>\n  </tbody>\n</table>\n</div>"
     },
     "execution_count": 58,
     "metadata": {},
     "output_type": "execute_result"
    }
   ],
   "source": [
    "pv_detail #点击、收藏、加入购物车和支付 的比例"
   ],
   "metadata": {
    "collapsed": false,
    "pycharm": {
     "name": "#%%\n"
    }
   }
  }
 ],
 "metadata": {
  "kernelspec": {
   "display_name": "Python 3",
   "language": "python",
   "name": "python3"
  },
  "language_info": {
   "codemirror_mode": {
    "name": "ipython",
    "version": 2
   },
   "file_extension": ".py",
   "mimetype": "text/x-python",
   "name": "python",
   "nbconvert_exporter": "python",
   "pygments_lexer": "ipython2",
   "version": "2.7.6"
  }
 },
 "nbformat": 4,
 "nbformat_minor": 0
}