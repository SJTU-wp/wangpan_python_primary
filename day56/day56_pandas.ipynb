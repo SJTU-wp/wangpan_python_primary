{
 "cells": [
  {
   "cell_type": "markdown",
   "metadata": {
    "collapsed": true,
    "pycharm": {
     "name": "#%% md\n"
    }
   },
   "source": [
    "# 星际争霸-层级索引学习"
   ]
  },
  {
   "cell_type": "code",
   "execution_count": 1,
   "outputs": [
    {
     "data": {
      "text/plain": "      LeagueIndex   Age  HoursPerWeek  TotalHours       APM\n0               5  27.0          10.0      3000.0  143.7180\n1               5  23.0          10.0      5000.0  129.2322\n2               4  30.0          10.0       200.0   69.9612\n3               3  19.0          20.0       400.0  107.6016\n4               3  32.0          10.0       500.0  122.8908\n...           ...   ...           ...         ...       ...\n3390            8   NaN           NaN         NaN  259.6296\n3391            8   NaN           NaN         NaN  314.6700\n3392            8   NaN           NaN         NaN  299.4282\n3393            8   NaN           NaN         NaN  375.8664\n3394            8   NaN           NaN         NaN  348.3576\n\n[3395 rows x 5 columns]",
      "text/html": "<div>\n<style scoped>\n    .dataframe tbody tr th:only-of-type {\n        vertical-align: middle;\n    }\n\n    .dataframe tbody tr th {\n        vertical-align: top;\n    }\n\n    .dataframe thead th {\n        text-align: right;\n    }\n</style>\n<table border=\"1\" class=\"dataframe\">\n  <thead>\n    <tr style=\"text-align: right;\">\n      <th></th>\n      <th>LeagueIndex</th>\n      <th>Age</th>\n      <th>HoursPerWeek</th>\n      <th>TotalHours</th>\n      <th>APM</th>\n    </tr>\n  </thead>\n  <tbody>\n    <tr>\n      <th>0</th>\n      <td>5</td>\n      <td>27.0</td>\n      <td>10.0</td>\n      <td>3000.0</td>\n      <td>143.7180</td>\n    </tr>\n    <tr>\n      <th>1</th>\n      <td>5</td>\n      <td>23.0</td>\n      <td>10.0</td>\n      <td>5000.0</td>\n      <td>129.2322</td>\n    </tr>\n    <tr>\n      <th>2</th>\n      <td>4</td>\n      <td>30.0</td>\n      <td>10.0</td>\n      <td>200.0</td>\n      <td>69.9612</td>\n    </tr>\n    <tr>\n      <th>3</th>\n      <td>3</td>\n      <td>19.0</td>\n      <td>20.0</td>\n      <td>400.0</td>\n      <td>107.6016</td>\n    </tr>\n    <tr>\n      <th>4</th>\n      <td>3</td>\n      <td>32.0</td>\n      <td>10.0</td>\n      <td>500.0</td>\n      <td>122.8908</td>\n    </tr>\n    <tr>\n      <th>...</th>\n      <td>...</td>\n      <td>...</td>\n      <td>...</td>\n      <td>...</td>\n      <td>...</td>\n    </tr>\n    <tr>\n      <th>3390</th>\n      <td>8</td>\n      <td>NaN</td>\n      <td>NaN</td>\n      <td>NaN</td>\n      <td>259.6296</td>\n    </tr>\n    <tr>\n      <th>3391</th>\n      <td>8</td>\n      <td>NaN</td>\n      <td>NaN</td>\n      <td>NaN</td>\n      <td>314.6700</td>\n    </tr>\n    <tr>\n      <th>3392</th>\n      <td>8</td>\n      <td>NaN</td>\n      <td>NaN</td>\n      <td>NaN</td>\n      <td>299.4282</td>\n    </tr>\n    <tr>\n      <th>3393</th>\n      <td>8</td>\n      <td>NaN</td>\n      <td>NaN</td>\n      <td>NaN</td>\n      <td>375.8664</td>\n    </tr>\n    <tr>\n      <th>3394</th>\n      <td>8</td>\n      <td>NaN</td>\n      <td>NaN</td>\n      <td>NaN</td>\n      <td>348.3576</td>\n    </tr>\n  </tbody>\n</table>\n<p>3395 rows × 5 columns</p>\n</div>"
     },
     "execution_count": 1,
     "metadata": {},
     "output_type": "execute_result"
    }
   ],
   "source": [
    "import pandas as pd\n",
    "\n",
    "dataset_path = './starcraft.csv'\n",
    "df_data = pd.read_csv(dataset_path, usecols=['LeagueIndex', 'Age', 'HoursPerWeek',\n",
    "                                             'TotalHours', 'APM'])\n",
    "df_data"
   ],
   "metadata": {
    "collapsed": false,
    "pycharm": {
     "name": "#%%\n"
    }
   }
  },
  {
   "cell_type": "code",
   "execution_count": 2,
   "outputs": [
    {
     "name": "stdout",
     "output_type": "stream",
     "text": [
      "                  LeagueIndex   Age  HoursPerWeek  TotalHours       APM\n",
      "LeagueIndex                                                            \n",
      "1           2214            1  20.0          12.0       730.0  172.9530\n",
      "            2246            1  27.0           8.0       250.0  141.6282\n",
      "            1753            1  20.0          28.0       100.0  139.6362\n",
      "2           3062            2  20.0           6.0       100.0  179.6250\n",
      "            3229            2  16.0          24.0       110.0  156.7380\n",
      "            1520            2  29.0           6.0       250.0  151.6470\n",
      "3           1557            3  22.0           6.0       200.0  226.6554\n",
      "            484             3  19.0          42.0       450.0  220.0692\n",
      "            2883            3  16.0           8.0       800.0  208.9500\n",
      "4           2688            4  26.0          24.0       990.0  249.0210\n",
      "            1759            4  16.0           6.0        75.0  229.9122\n",
      "            2637            4  23.0          24.0       650.0  227.2272\n",
      "5           3277            5  18.0          16.0       950.0  372.6426\n",
      "            93              5  17.0          36.0       720.0  335.4990\n",
      "            202             5  37.0          14.0       800.0  327.7218\n",
      "6           734             6  16.0          28.0       730.0  389.8314\n",
      "            2746            6  16.0          28.0      4000.0  350.4114\n",
      "            1810            6  21.0          14.0       730.0  323.2506\n",
      "7           3127            7  23.0          42.0      2000.0  298.7952\n",
      "            104             7  21.0          24.0      1000.0  286.4538\n",
      "            1654            7  18.0          98.0       700.0  236.0316\n",
      "8           3393            8   NaN           NaN         NaN  375.8664\n",
      "            3373            8   NaN           NaN         NaN  364.8504\n",
      "            3372            8   NaN           NaN         NaN  355.3518\n"
     ]
    }
   ],
   "source": [
    "def top_n(df, n=3, column='APM'):\n",
    "    \"\"\"\n",
    "        返回每个分组按 column 的 top n 数据\n",
    "    \"\"\"\n",
    "    return df.sort_values(by=column, ascending=False)[:n]\n",
    "\n",
    "print(df_data.groupby('LeagueIndex').apply(top_n))"
   ],
   "metadata": {
    "collapsed": false,
    "pycharm": {
     "name": "#%%\n"
    }
   }
  },
  {
   "cell_type": "code",
   "execution_count": 4,
   "outputs": [
    {
     "data": {
      "text/plain": "MultiIndex([(1, 3146),\n            (1, 3040),\n            (2,  920),\n            (2, 2437),\n            (3, 1258),\n            (3, 2972),\n            (4, 1696),\n            (4, 1729),\n            (5,  202),\n            (5, 2745),\n            (6, 3069),\n            (6, 2706),\n            (7, 2813),\n            (7, 1992),\n            (8, 3340),\n            (8, 3341)],\n           names=['LeagueIndex', None])"
     },
     "execution_count": 4,
     "metadata": {},
     "output_type": "execute_result"
    }
   ],
   "source": [
    "# apply函数接收的参数会传入自定义的函数中\n",
    "m = df_data.groupby('LeagueIndex').apply(top_n, n=2, column='Age')\n",
    "m.index"
   ],
   "metadata": {
    "collapsed": false,
    "pycharm": {
     "name": "#%%\n"
    }
   }
  },
  {
   "cell_type": "code",
   "execution_count": 10,
   "outputs": [
    {
     "data": {
      "text/plain": "Int64Index([2214, 2246, 1753, 3062, 3229, 1520, 1557,  484, 2883, 2688, 1759,\n            2637, 3277,   93,  202,  734, 2746, 1810, 3127,  104, 1654, 3393,\n            3373, 3372],\n           dtype='int64')"
     },
     "execution_count": 10,
     "metadata": {},
     "output_type": "execute_result"
    }
   ],
   "source": [
    "# group_keys为False后，被groupby的列不会变为索引\n",
    "n=df_data.groupby('LeagueIndex', group_keys=False).apply(top_n)\n",
    "# n\n",
    "n.index"
   ],
   "metadata": {
    "collapsed": false,
    "pycharm": {
     "name": "#%%\n"
    }
   }
  },
  {
   "cell_type": "markdown",
   "source": [
    "# 10 数据清洗"
   ],
   "metadata": {
    "collapsed": false
   }
  },
  {
   "cell_type": "code",
   "execution_count": null,
   "outputs": [],
   "source": [
    "import pandas as pd\n",
    "import numpy as np\n",
    "\n",
    "df_obj1 = pd.DataFrame({'key': ['b', 'b', 'a', 'c', 'a', 'a', 'b'],\n",
    "                        'data1' : np.random.randint(0,10,7)})\n",
    "df_obj2 = pd.DataFrame({'key': ['a', 'b' ,'d'],\n",
    "                        'data2' : np.random.randint(0,10,3)})\n",
    "\n",
    "print(df_obj1)\n",
    "print('-'*50)\n",
    "print(df_obj2)"
   ],
   "metadata": {
    "collapsed": false,
    "pycharm": {
     "name": "#%%\n"
    }
   }
  }
 ],
 "metadata": {
  "kernelspec": {
   "display_name": "Python 3",
   "language": "python",
   "name": "python3"
  },
  "language_info": {
   "codemirror_mode": {
    "name": "ipython",
    "version": 2
   },
   "file_extension": ".py",
   "mimetype": "text/x-python",
   "name": "python",
   "nbconvert_exporter": "python",
   "pygments_lexer": "ipython2",
   "version": "2.7.6"
  }
 },
 "nbformat": 4,
 "nbformat_minor": 0
}