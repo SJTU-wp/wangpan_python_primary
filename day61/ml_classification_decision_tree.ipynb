{
 "cells": [
  {
   "cell_type": "markdown",
   "metadata": {
    "collapsed": true,
    "pycharm": {
     "name": "#%% md\n"
    }
   },
   "source": [
    "# 分类算法-决策树算法"
   ]
  },
  {
   "cell_type": "code",
   "execution_count": 1,
   "outputs": [],
   "source": [
    "# 信息熵公式"
   ],
   "metadata": {
    "collapsed": false,
    "pycharm": {
     "name": "#%%\n"
    }
   }
  },
  {
   "cell_type": "code",
   "execution_count": 18,
   "outputs": [],
   "source": [
    "from sklearn.model_selection import train_test_split, GridSearchCV\n",
    "from sklearn.feature_extraction import DictVectorizer\n",
    "from sklearn.tree import DecisionTreeClassifier, export_graphviz\n",
    "from sklearn.ensemble import RandomForestClassifier\n",
    "import pandas as pd"
   ],
   "metadata": {
    "collapsed": false,
    "pycharm": {
     "name": "#%%\n"
    }
   }
  },
  {
   "cell_type": "code",
   "execution_count": 2,
   "outputs": [
    {
     "data": {
      "text/plain": "<bound method DataFrame.info of       row.names pclass  survived  \\\n0             1    1st         1   \n1             2    1st         0   \n2             3    1st         0   \n3             4    1st         0   \n4             5    1st         1   \n...         ...    ...       ...   \n1308       1309    3rd         0   \n1309       1310    3rd         0   \n1310       1311    3rd         0   \n1311       1312    3rd         0   \n1312       1313    3rd         0   \n\n                                                 name      age     embarked  \\\n0                        Allen, Miss Elisabeth Walton  29.0000  Southampton   \n1                         Allison, Miss Helen Loraine   2.0000  Southampton   \n2                 Allison, Mr Hudson Joshua Creighton  30.0000  Southampton   \n3     Allison, Mrs Hudson J.C. (Bessie Waldo Daniels)  25.0000  Southampton   \n4                       Allison, Master Hudson Trevor   0.9167  Southampton   \n...                                               ...      ...          ...   \n1308                               Zakarian, Mr Artun      NaN          NaN   \n1309                           Zakarian, Mr Maprieder      NaN          NaN   \n1310                                  Zenn, Mr Philip      NaN          NaN   \n1311                                    Zievens, Rene      NaN          NaN   \n1312                                   Zimmerman, Leo      NaN          NaN   \n\n                            home.dest room      ticket   boat     sex  \n0                        St Louis, MO  B-5  24160 L221      2  female  \n1     Montreal, PQ / Chesterville, ON  C26         NaN    NaN  female  \n2     Montreal, PQ / Chesterville, ON  C26         NaN  (135)    male  \n3     Montreal, PQ / Chesterville, ON  C26         NaN    NaN  female  \n4     Montreal, PQ / Chesterville, ON  C22         NaN     11    male  \n...                               ...  ...         ...    ...     ...  \n1308                              NaN  NaN         NaN    NaN    male  \n1309                              NaN  NaN         NaN    NaN    male  \n1310                              NaN  NaN         NaN    NaN    male  \n1311                              NaN  NaN         NaN    NaN  female  \n1312                              NaN  NaN         NaN    NaN    male  \n\n[1313 rows x 11 columns]>"
     },
     "execution_count": 2,
     "metadata": {},
     "output_type": "execute_result"
    }
   ],
   "source": [
    "\"\"\"\n",
    "决策树对泰坦尼克号进行预测生死\n",
    ":return: None\n",
    "\"\"\"\n",
    "\n",
    "# 获取数据\n",
    "titan = pd.read_csv(\"./data/titanic.txt\")\n",
    "titan.info"
   ],
   "metadata": {
    "collapsed": false,
    "pycharm": {
     "name": "#%%\n"
    }
   }
  },
  {
   "cell_type": "code",
   "execution_count": 5,
   "outputs": [
    {
     "name": "stdout",
     "output_type": "stream",
     "text": [
      "<class 'pandas.core.frame.DataFrame'>\n",
      "RangeIndex: 1313 entries, 0 to 1312\n",
      "Data columns (total 3 columns):\n",
      " #   Column  Non-Null Count  Dtype  \n",
      "---  ------  --------------  -----  \n",
      " 0   pclass  1313 non-null   object \n",
      " 1   age     633 non-null    float64\n",
      " 2   sex     1313 non-null   object \n",
      "dtypes: float64(1), object(2)\n",
      "memory usage: 30.9+ KB\n"
     ]
    }
   ],
   "source": [
    "# 处理数据，找出特征值和目标值\n",
    "x = titan[['pclass', 'age', 'sex']]\n",
    "y = titan['survived']\n",
    "\n",
    "# x.info\n",
    "x.info()  # 用来判断是否有空值-年龄特征有空值"
   ],
   "metadata": {
    "collapsed": false,
    "pycharm": {
     "name": "#%%\n"
    }
   }
  },
  {
   "cell_type": "code",
   "execution_count": 7,
   "outputs": [
    {
     "data": {
      "text/plain": "<bound method Series.info of 0       1\n1       0\n2       0\n3       0\n4       1\n       ..\n1308    0\n1309    0\n1310    0\n1311    0\n1312    0\nName: survived, Length: 1313, dtype: int64>"
     },
     "execution_count": 7,
     "metadata": {},
     "output_type": "execute_result"
    }
   ],
   "source": [
    "y.info"
   ],
   "metadata": {
    "collapsed": false,
    "pycharm": {
     "name": "#%%\n"
    }
   }
  },
  {
   "cell_type": "code",
   "execution_count": 11,
   "outputs": [
    {
     "name": "stdout",
     "output_type": "stream",
     "text": [
      "    pclass        age     sex\n",
      "598    2nd  30.000000    male\n",
      "246    1st  62.000000    male\n",
      "905    3rd  31.194181  female\n",
      "300    1st  31.194181  female\n",
      "509    2nd  64.000000    male\n"
     ]
    },
    {
     "name": "stderr",
     "output_type": "stream",
     "text": [
      "C:\\Users\\waitp\\AppData\\Local\\Temp\\ipykernel_9368\\3155652220.py:2: SettingWithCopyWarning: \n",
      "A value is trying to be set on a copy of a slice from a DataFrame\n",
      "\n",
      "See the caveats in the documentation: https://pandas.pydata.org/pandas-docs/stable/user_guide/indexing.html#returning-a-view-versus-a-copy\n",
      "  x['age'].fillna(x['age'].mean(), inplace=True)\n"
     ]
    }
   ],
   "source": [
    "# 一定要进行缺失值处理\n",
    "x['age'].fillna(x['age'].mean(), inplace=True)\n",
    "\n",
    "# 分割数据集到训练集和测试集\n",
    "x_train, x_test, y_train, y_test = train_test_split(x, y, test_size=0.25, random_state=4)  # 4？\n",
    "print(x_train.head())\n",
    "\n",
    "# a = x_train.to_dict(orient=\"records\")\n",
    "# print(a)"
   ],
   "metadata": {
    "collapsed": false,
    "pycharm": {
     "name": "#%%\n"
    }
   }
  },
  {
   "cell_type": "code",
   "execution_count": 12,
   "outputs": [
    {
     "name": "stdout",
     "output_type": "stream",
     "text": [
      "<class 'numpy.ndarray'>\n",
      "['age' 'pclass=1st' 'pclass=2nd' 'pclass=3rd' 'sex=female' 'sex=male']\n",
      "--------------------------------------------------\n",
      "[[30.          0.          1.          0.          0.          1.        ]\n",
      " [62.          1.          0.          0.          0.          1.        ]\n",
      " [31.19418104  0.          0.          1.          1.          0.        ]\n",
      " ...\n",
      " [34.          0.          1.          0.          0.          1.        ]\n",
      " [46.          1.          0.          0.          0.          1.        ]\n",
      " [31.19418104  0.          0.          1.          0.          1.        ]]\n"
     ]
    }
   ],
   "source": [
    "# 处理特征（特征工程）->类别->one_hot编码\n",
    "dict_dc = DictVectorizer(sparse=False)\n",
    "\n",
    "# 这一步是对字典进行特征抽取（字典中的值变为数值类型）,to_dict可以把df变为字典，records代表列名变为键\n",
    "x_train = dict_dc.fit_transform(x_train.to_dict(orient=\"records\"))\n",
    "print(type(x_train))\n",
    "print(dict_dc.get_feature_names_out())\n",
    "print('-' * 50)\n",
    "\n",
    "x_test = dict_dc.transform(x_test.to_dict(orient=\"records\"))\n",
    "print(x_train)"
   ],
   "metadata": {
    "collapsed": false,
    "pycharm": {
     "name": "#%%\n"
    }
   }
  },
  {
   "cell_type": "code",
   "execution_count": 17,
   "outputs": [
    {
     "name": "stdout",
     "output_type": "stream",
     "text": [
      "预测的准确率： 0.8085106382978723\n"
     ]
    }
   ],
   "source": [
    "# 用决策树进行预测（可调参数：max_depth）\n",
    "dec = DecisionTreeClassifier()\n",
    "\n",
    "# 训练\n",
    "dec.fit(x_train, y_train)\n",
    "\n",
    "# 预测准确率\n",
    "print(\"预测的准确率：\", dec.score(x_test, y_test))\n",
    "\n",
    "# 导出决策树的结构\n",
    "export_graphviz(dec, out_file=\"tree.dot\",\n",
    "                feature_names=['age', 'pclass=1st', 'pclass=2nd', 'pclass=3rd', 'female', 'male'])"
   ],
   "metadata": {
    "collapsed": false,
    "pycharm": {
     "name": "#%%\n"
    }
   }
  },
  {
   "cell_type": "code",
   "execution_count": 19,
   "outputs": [
    {
     "name": "stdout",
     "output_type": "stream",
     "text": [
      "    pclass        age     sex\n",
      "598    2nd  30.000000    male\n",
      "246    1st  62.000000    male\n",
      "905    3rd  31.194181  female\n",
      "300    1st  31.194181  female\n",
      "509    2nd  64.000000    male\n",
      "<class 'numpy.ndarray'>\n",
      "['age' 'pclass=1st' 'pclass=2nd' 'pclass=3rd' 'sex=female' 'sex=male']\n",
      "--------------------------------------------------\n",
      "预测的准确率： 0.817629179331307\n"
     ]
    }
   ],
   "source": [
    "# 调整决策树的参数\n",
    "# 分割数据集到训练集合测试集\n",
    "x_train, x_test, y_train, y_test = train_test_split(x, y, test_size=0.25, random_state=4)\n",
    "print(x_train.head())\n",
    "# 处理特征（特征工程）->类别->one_hot编码\n",
    "dict2 = DictVectorizer(sparse=False)\n",
    "\n",
    "# 这一步是对字典进行特征抽取\n",
    "x_train = dict2.fit_transform(x_train.to_dict(orient=\"records\"))\n",
    "print(type(x_train))\n",
    "print(dict2.get_feature_names_out())\n",
    "print('-' * 50)\n",
    "x_test = dict2.transform(x_test.to_dict(orient=\"records\"))\n",
    "\n",
    "# print(x_train)\n",
    "# 用决策树进行预测，修改max_depth为10，发现准确率提升了\n",
    "dec = DecisionTreeClassifier(max_depth=10)\n",
    "\n",
    "dec.fit(x_train, y_train)\n",
    "#\n",
    "# # 预测准确率\n",
    "print(\"预测的准确率：\", dec.score(x_test, y_test))\n",
    "#\n",
    "# # 导出决策树的结构\n",
    "export_graphviz(dec, out_file=\"tree.dot\",\n",
    "                feature_names=dict2.get_feature_names_out())\n",
    "\n"
   ],
   "metadata": {
    "collapsed": false,
    "pycharm": {
     "name": "#%%\n"
    }
   }
  },
  {
   "cell_type": "code",
   "execution_count": 20,
   "outputs": [
    {
     "name": "stdout",
     "output_type": "stream",
     "text": [
      "准确率： 0.8267477203647416\n",
      "查看选择的参数模型： {'max_depth': 3, 'n_estimators': 120}\n",
      "选择最好的模型是： RandomForestClassifier(max_depth=3, n_estimators=120, n_jobs=-1)\n",
      "每个超参数每次交叉验证的结果： {'mean_fit_time': array([1.2481238 , 0.19448686, 0.2665627 , 0.30143571, 0.43689108,\n",
      "       0.72106886, 0.12555337, 0.18210514, 0.31918391, 0.2985491 ,\n",
      "       0.44901641, 0.72293742, 0.13137007, 0.18519084, 0.27145584,\n",
      "       0.30261381, 0.45296939, 0.73783382, 0.13290604, 0.18370851,\n",
      "       0.27302782, 0.30857436, 0.48158582, 0.72676516, 0.13293282,\n",
      "       0.1829017 , 0.27346953, 0.31295125, 0.47036195, 0.76679738,\n",
      "       0.12891452, 0.18938724, 0.2735188 , 0.30766638, 0.45852645,\n",
      "       0.76352223]), 'std_fit_time': array([1.58262484e+00, 1.31424122e-02, 6.81864854e-03, 3.52052391e-03,\n",
      "       4.34729457e-03, 8.98209807e-03, 1.43915833e-03, 1.76185895e-03,\n",
      "       8.13065922e-02, 1.76961911e-03, 8.60159428e-03, 1.26747876e-02,\n",
      "       8.25674960e-03, 4.03834857e-03, 1.33705976e-03, 4.04388396e-03,\n",
      "       4.38553266e-03, 3.60315597e-03, 2.45377734e-03, 3.09086218e-03,\n",
      "       4.24482169e-03, 2.89049198e-03, 3.06510143e-02, 5.52658866e-03,\n",
      "       9.07855203e-03, 3.00234796e-03, 6.50823465e-03, 5.57000168e-03,\n",
      "       4.64891709e-03, 3.35215314e-02, 6.18900476e-03, 1.04986531e-02,\n",
      "       2.38643198e-03, 2.93681861e-03, 1.09871794e-02, 9.33627345e-03]), 'mean_score_time': array([0.02866451, 0.04134115, 0.05662576, 0.09435566, 0.15922236,\n",
      "       0.22643312, 0.02634152, 0.04167159, 0.05934819, 0.09320426,\n",
      "       0.17074482, 0.23038069, 0.02637943, 0.04001029, 0.05801415,\n",
      "       0.12488858, 0.15387583, 0.23178148, 0.02566846, 0.04019054,\n",
      "       0.05501064, 0.09202115, 0.14872901, 0.24750058, 0.02767364,\n",
      "       0.04067405, 0.06134121, 0.1038789 , 0.15338993, 0.23594356,\n",
      "       0.02632531, 0.04352101, 0.05899739, 0.10053666, 0.16622837,\n",
      "       0.24449515]), 'std_score_time': array([0.00464677, 0.0020519 , 0.00719251, 0.01228691, 0.01936371,\n",
      "       0.01548324, 0.0018893 , 0.0023573 , 0.00205561, 0.00673753,\n",
      "       0.01184827, 0.02070323, 0.00242463, 0.00163404, 0.00637875,\n",
      "       0.02710226, 0.01253258, 0.02089229, 0.00205235, 0.00060837,\n",
      "       0.00431933, 0.00496763, 0.018253  , 0.01637227, 0.00124787,\n",
      "       0.00235949, 0.00188267, 0.00301344, 0.01500467, 0.00613161,\n",
      "       0.00047182, 0.00255523, 0.00432092, 0.0049883 , 0.00379905,\n",
      "       0.01517912]), 'param_max_depth': masked_array(data=[2, 2, 2, 2, 2, 2, 3, 3, 3, 3, 3, 3, 5, 5, 5, 5, 5, 5,\n",
      "                   8, 8, 8, 8, 8, 8, 15, 15, 15, 15, 15, 15, 25, 25, 25,\n",
      "                   25, 25, 25],\n",
      "             mask=[False, False, False, False, False, False, False, False,\n",
      "                   False, False, False, False, False, False, False, False,\n",
      "                   False, False, False, False, False, False, False, False,\n",
      "                   False, False, False, False, False, False, False, False,\n",
      "                   False, False, False, False],\n",
      "       fill_value='?',\n",
      "            dtype=object), 'param_n_estimators': masked_array(data=[120, 200, 300, 500, 800, 1200, 120, 200, 300, 500, 800,\n",
      "                   1200, 120, 200, 300, 500, 800, 1200, 120, 200, 300,\n",
      "                   500, 800, 1200, 120, 200, 300, 500, 800, 1200, 120,\n",
      "                   200, 300, 500, 800, 1200],\n",
      "             mask=[False, False, False, False, False, False, False, False,\n",
      "                   False, False, False, False, False, False, False, False,\n",
      "                   False, False, False, False, False, False, False, False,\n",
      "                   False, False, False, False, False, False, False, False,\n",
      "                   False, False, False, False],\n",
      "       fill_value='?',\n",
      "            dtype=object), 'params': [{'max_depth': 2, 'n_estimators': 120}, {'max_depth': 2, 'n_estimators': 200}, {'max_depth': 2, 'n_estimators': 300}, {'max_depth': 2, 'n_estimators': 500}, {'max_depth': 2, 'n_estimators': 800}, {'max_depth': 2, 'n_estimators': 1200}, {'max_depth': 3, 'n_estimators': 120}, {'max_depth': 3, 'n_estimators': 200}, {'max_depth': 3, 'n_estimators': 300}, {'max_depth': 3, 'n_estimators': 500}, {'max_depth': 3, 'n_estimators': 800}, {'max_depth': 3, 'n_estimators': 1200}, {'max_depth': 5, 'n_estimators': 120}, {'max_depth': 5, 'n_estimators': 200}, {'max_depth': 5, 'n_estimators': 300}, {'max_depth': 5, 'n_estimators': 500}, {'max_depth': 5, 'n_estimators': 800}, {'max_depth': 5, 'n_estimators': 1200}, {'max_depth': 8, 'n_estimators': 120}, {'max_depth': 8, 'n_estimators': 200}, {'max_depth': 8, 'n_estimators': 300}, {'max_depth': 8, 'n_estimators': 500}, {'max_depth': 8, 'n_estimators': 800}, {'max_depth': 8, 'n_estimators': 1200}, {'max_depth': 15, 'n_estimators': 120}, {'max_depth': 15, 'n_estimators': 200}, {'max_depth': 15, 'n_estimators': 300}, {'max_depth': 15, 'n_estimators': 500}, {'max_depth': 15, 'n_estimators': 800}, {'max_depth': 15, 'n_estimators': 1200}, {'max_depth': 25, 'n_estimators': 120}, {'max_depth': 25, 'n_estimators': 200}, {'max_depth': 25, 'n_estimators': 300}, {'max_depth': 25, 'n_estimators': 500}, {'max_depth': 25, 'n_estimators': 800}, {'max_depth': 25, 'n_estimators': 1200}], 'split0_test_score': array([0.73780488, 0.73780488, 0.73780488, 0.73780488, 0.73780488,\n",
      "       0.73780488, 0.80487805, 0.79878049, 0.80182927, 0.80182927,\n",
      "       0.80182927, 0.80182927, 0.81402439, 0.81097561, 0.81097561,\n",
      "       0.81402439, 0.81097561, 0.81402439, 0.81707317, 0.82012195,\n",
      "       0.82012195, 0.81402439, 0.82012195, 0.82012195, 0.80792683,\n",
      "       0.81402439, 0.82012195, 0.80792683, 0.81402439, 0.82012195,\n",
      "       0.81402439, 0.80487805, 0.82012195, 0.81402439, 0.82012195,\n",
      "       0.81402439]), 'split1_test_score': array([0.82012195, 0.82012195, 0.82621951, 0.82317073, 0.82621951,\n",
      "       0.82621951, 0.82621951, 0.82317073, 0.81707317, 0.82317073,\n",
      "       0.82317073, 0.82317073, 0.81707317, 0.82012195, 0.81707317,\n",
      "       0.81707317, 0.81402439, 0.81402439, 0.80792683, 0.80792683,\n",
      "       0.81402439, 0.81402439, 0.80792683, 0.80792683, 0.81097561,\n",
      "       0.81402439, 0.81707317, 0.81402439, 0.81402439, 0.81707317,\n",
      "       0.81707317, 0.81402439, 0.81402439, 0.81707317, 0.81402439,\n",
      "       0.81402439]), 'split2_test_score': array([0.81402439, 0.81707317, 0.81707317, 0.81707317, 0.81707317,\n",
      "       0.81707317, 0.82926829, 0.82926829, 0.82926829, 0.82926829,\n",
      "       0.82926829, 0.82926829, 0.82621951, 0.82317073, 0.82317073,\n",
      "       0.82317073, 0.82621951, 0.82621951, 0.80487805, 0.79268293,\n",
      "       0.79268293, 0.79573171, 0.79268293, 0.79268293, 0.78353659,\n",
      "       0.79573171, 0.79573171, 0.79573171, 0.79573171, 0.79573171,\n",
      "       0.79268293, 0.79573171, 0.78658537, 0.79573171, 0.79268293,\n",
      "       0.79878049]), 'mean_test_score': array([0.79065041, 0.79166667, 0.79369919, 0.79268293, 0.79369919,\n",
      "       0.79369919, 0.82012195, 0.81707317, 0.81605691, 0.81808943,\n",
      "       0.81808943, 0.81808943, 0.81910569, 0.81808943, 0.81707317,\n",
      "       0.81808943, 0.81707317, 0.81808943, 0.80995935, 0.80691057,\n",
      "       0.80894309, 0.80792683, 0.80691057, 0.80691057, 0.80081301,\n",
      "       0.80792683, 0.81097561, 0.80589431, 0.80792683, 0.81097561,\n",
      "       0.80792683, 0.80487805, 0.80691057, 0.80894309, 0.80894309,\n",
      "       0.80894309]), 'std_test_score': array([0.03745026, 0.03810637, 0.03969924, 0.0388844 , 0.03969924,\n",
      "       0.03969924, 0.01085069, 0.01317224, 0.01122496, 0.01176406,\n",
      "       0.01176406, 0.01176406, 0.00518193, 0.00518193, 0.00497864,\n",
      "       0.0038025 , 0.00658612, 0.00574884, 0.00518193, 0.01122496,\n",
      "       0.01176406, 0.00862325, 0.01122496, 0.01122496, 0.01227952,\n",
      "       0.00862325, 0.01085069, 0.00760499, 0.00862325, 0.01085069,\n",
      "       0.01085069, 0.00746796, 0.01458608, 0.00942441, 0.01176406,\n",
      "       0.00718604]), 'rank_test_score': array([36, 35, 31, 34, 31, 31,  1,  9, 12,  3,  3,  3,  2,  3,  9,  3,  9,\n",
      "        3, 15, 24, 16, 20, 24, 24, 30, 20, 13, 28, 20, 13, 20, 29, 24, 16,\n",
      "       16, 16])}\n"
     ]
    }
   ],
   "source": [
    "# 随机森林进行预测 （超参数调优），n_jobs：充分利用多核的一个参数\n",
    "rf = RandomForestClassifier(n_jobs=-1)\n",
    "# 120, 200, 300, 500, 800, 1200/2000, 5000\n",
    "# n_estimators是森林中决策树的数目，也就是分类器的数目\n",
    "# max_samples是最大样本数\n",
    "# bagging类型\n",
    "param = {\"n_estimators\": [120, 200, 300, 500, 800, 1200], \"max_depth\": [2, 3, 5, 8, 15, 25]}\n",
    "\n",
    "# 网格搜索与交叉验证\n",
    "gc = GridSearchCV(rf, param_grid=param, cv=3)\n",
    "\n",
    "gc.fit(x_train, y_train)\n",
    "\n",
    "print(\"准确率：\", gc.score(x_test, y_test))\n",
    "\n",
    "print(\"查看选择的参数模型：\", gc.best_params_)\n",
    "\n",
    "print(\"选择最好的模型是：\", gc.best_estimator_)\n",
    "\n",
    "print(\"每个超参数每次交叉验证的结果：\", gc.cv_results_)\n"
   ],
   "metadata": {
    "collapsed": false,
    "pycharm": {
     "name": "#%%\n"
    }
   }
  }
 ],
 "metadata": {
  "kernelspec": {
   "display_name": "Python 3",
   "language": "python",
   "name": "python3"
  },
  "language_info": {
   "codemirror_mode": {
    "name": "ipython",
    "version": 2
   },
   "file_extension": ".py",
   "mimetype": "text/x-python",
   "name": "python",
   "nbconvert_exporter": "python",
   "pygments_lexer": "ipython2",
   "version": "2.7.6"
  }
 },
 "nbformat": 4,
 "nbformat_minor": 0
}